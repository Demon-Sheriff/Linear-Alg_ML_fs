{
 "cells": [
  {
   "cell_type": "code",
   "execution_count": 1,
   "id": "f7f258b7",
   "metadata": {
    "_cell_guid": "b1076dfc-b9ad-4769-8c92-a6c4dae69d19",
    "_uuid": "8f2839f25d086af736a60e9eeb907d3b93b6e0e5",
    "execution": {
     "iopub.execute_input": "2024-11-29T05:58:09.457506Z",
     "iopub.status.busy": "2024-11-29T05:58:09.457098Z",
     "iopub.status.idle": "2024-11-29T05:58:10.429312Z",
     "shell.execute_reply": "2024-11-29T05:58:10.428229Z"
    },
    "papermill": {
     "duration": 0.980952,
     "end_time": "2024-11-29T05:58:10.431930",
     "exception": false,
     "start_time": "2024-11-29T05:58:09.450978",
     "status": "completed"
    },
    "tags": []
   },
   "outputs": [],
   "source": [
    "# This Python 3 environment comes with many helpful analytics libraries installed\n",
    "# It is defined by the kaggle/python Docker image: https://github.com/kaggle/docker-python\n",
    "# For example, here's several helpful packages to load\n",
    "\n",
    "import numpy as np # linear algebra\n",
    "import pandas as pd # data processing, CSV file I/O (e.g. pd.read_csv)\n",
    "\n",
    "# Input data files are available in the read-only \"../input/\" directory\n",
    "# For example, running this (by clicking run or pressing Shift+Enter) will list all files under the input directory\n",
    "\n",
    "import os\n",
    "for dirname, _, filenames in os.walk('/kaggle/input'):\n",
    "    for filename in filenames:\n",
    "        print(os.path.join(dirname, filename))\n",
    "\n",
    "# You can write up to 20GB to the current directory (/kaggle/working/) that gets preserved as output when you create a version using \"Save & Run All\" \n",
    "# You can also write temporary files to /kaggle/temp/, but they won't be saved outside of the current session"
   ]
  },
  {
   "cell_type": "code",
   "execution_count": 2,
   "id": "f72a7960",
   "metadata": {
    "execution": {
     "iopub.execute_input": "2024-11-29T05:58:10.443572Z",
     "iopub.status.busy": "2024-11-29T05:58:10.443100Z",
     "iopub.status.idle": "2024-11-29T05:58:12.353047Z",
     "shell.execute_reply": "2024-11-29T05:58:12.351932Z"
    },
    "papermill": {
     "duration": 1.918629,
     "end_time": "2024-11-29T05:58:12.355490",
     "exception": false,
     "start_time": "2024-11-29T05:58:10.436861",
     "status": "completed"
    },
    "tags": []
   },
   "outputs": [],
   "source": [
    "import numpy as np\n",
    "import pandas as pd\n",
    "import matplotlib.pyplot as plt\n",
    "import matplotlib as mpl\n",
    "import seaborn as sns"
   ]
  },
  {
   "cell_type": "code",
   "execution_count": 3,
   "id": "bb45270a",
   "metadata": {
    "execution": {
     "iopub.execute_input": "2024-11-29T05:58:12.365008Z",
     "iopub.status.busy": "2024-11-29T05:58:12.364484Z",
     "iopub.status.idle": "2024-11-29T05:58:28.386759Z",
     "shell.execute_reply": "2024-11-29T05:58:28.385496Z"
    },
    "papermill": {
     "duration": 16.030218,
     "end_time": "2024-11-29T05:58:28.389617",
     "exception": false,
     "start_time": "2024-11-29T05:58:12.359399",
     "status": "completed"
    },
    "tags": []
   },
   "outputs": [],
   "source": [
    "from sklearn.datasets import fetch_openml\n",
    "mnist = fetch_openml('mnist_784', version=1, parser='auto')"
   ]
  },
  {
   "cell_type": "code",
   "execution_count": 4,
   "id": "5ffa25db",
   "metadata": {
    "execution": {
     "iopub.execute_input": "2024-11-29T05:58:28.399072Z",
     "iopub.status.busy": "2024-11-29T05:58:28.398705Z",
     "iopub.status.idle": "2024-11-29T05:58:28.406174Z",
     "shell.execute_reply": "2024-11-29T05:58:28.405219Z"
    },
    "papermill": {
     "duration": 0.014712,
     "end_time": "2024-11-29T05:58:28.408250",
     "exception": false,
     "start_time": "2024-11-29T05:58:28.393538",
     "status": "completed"
    },
    "tags": []
   },
   "outputs": [
    {
     "data": {
      "text/plain": [
       "dict_keys(['data', 'target', 'frame', 'categories', 'feature_names', 'target_names', 'DESCR', 'details', 'url'])"
      ]
     },
     "execution_count": 4,
     "metadata": {},
     "output_type": "execute_result"
    }
   ],
   "source": [
    "mnist.keys()"
   ]
  },
  {
   "cell_type": "code",
   "execution_count": 5,
   "id": "1c18f8de",
   "metadata": {
    "execution": {
     "iopub.execute_input": "2024-11-29T05:58:28.419947Z",
     "iopub.status.busy": "2024-11-29T05:58:28.419523Z",
     "iopub.status.idle": "2024-11-29T05:58:28.425700Z",
     "shell.execute_reply": "2024-11-29T05:58:28.424535Z"
    },
    "papermill": {
     "duration": 0.015482,
     "end_time": "2024-11-29T05:58:28.427888",
     "exception": false,
     "start_time": "2024-11-29T05:58:28.412406",
     "status": "completed"
    },
    "tags": []
   },
   "outputs": [
    {
     "name": "stdout",
     "output_type": "stream",
     "text": [
      "[]\n"
     ]
    }
   ],
   "source": [
    "print(os.listdir('/kaggle/input/'))"
   ]
  },
  {
   "cell_type": "markdown",
   "id": "8e89515a",
   "metadata": {
    "papermill": {
     "duration": 0.004254,
     "end_time": "2024-11-29T05:58:28.436730",
     "exception": false,
     "start_time": "2024-11-29T05:58:28.432476",
     "status": "completed"
    },
    "tags": []
   },
   "source": [
    "# Description of the Dataset"
   ]
  },
  {
   "cell_type": "code",
   "execution_count": 6,
   "id": "02bc654b",
   "metadata": {
    "execution": {
     "iopub.execute_input": "2024-11-29T05:58:28.447636Z",
     "iopub.status.busy": "2024-11-29T05:58:28.447229Z",
     "iopub.status.idle": "2024-11-29T05:58:28.453040Z",
     "shell.execute_reply": "2024-11-29T05:58:28.451835Z"
    },
    "papermill": {
     "duration": 0.015249,
     "end_time": "2024-11-29T05:58:28.456398",
     "exception": false,
     "start_time": "2024-11-29T05:58:28.441149",
     "status": "completed"
    },
    "tags": []
   },
   "outputs": [
    {
     "name": "stdout",
     "output_type": "stream",
     "text": [
      "**Author**: Yann LeCun, Corinna Cortes, Christopher J.C. Burges  \n",
      "**Source**: [MNIST Website](http://yann.lecun.com/exdb/mnist/) - Date unknown  \n",
      "**Please cite**:  \n",
      "\n",
      "The MNIST database of handwritten digits with 784 features, raw data available at: http://yann.lecun.com/exdb/mnist/. It can be split in a training set of the first 60,000 examples, and a test set of 10,000 examples  \n",
      "\n",
      "It is a subset of a larger set available from NIST. The digits have been size-normalized and centered in a fixed-size image. It is a good database for people who want to try learning techniques and pattern recognition methods on real-world data while spending minimal efforts on preprocessing and formatting. The original black and white (bilevel) images from NIST were size normalized to fit in a 20x20 pixel box while preserving their aspect ratio. The resulting images contain grey levels as a result of the anti-aliasing technique used by the normalization algorithm. the images were centered in a 28x28 image by computing the center of mass of the pixels, and translating the image so as to position this point at the center of the 28x28 field.  \n",
      "\n",
      "With some classification methods (particularly template-based methods, such as SVM and K-nearest neighbors), the error rate improves when the digits are centered by bounding box rather than center of mass. If you do this kind of pre-processing, you should report it in your publications. The MNIST database was constructed from NIST's NIST originally designated SD-3 as their training set and SD-1 as their test set. However, SD-3 is much cleaner and easier to recognize than SD-1. The reason for this can be found on the fact that SD-3 was collected among Census Bureau employees, while SD-1 was collected among high-school students. Drawing sensible conclusions from learning experiments requires that the result be independent of the choice of training set and test among the complete set of samples. Therefore it was necessary to build a new database by mixing NIST's datasets.  \n",
      "\n",
      "The MNIST training set is composed of 30,000 patterns from SD-3 and 30,000 patterns from SD-1. Our test set was composed of 5,000 patterns from SD-3 and 5,000 patterns from SD-1. The 60,000 pattern training set contained examples from approximately 250 writers. We made sure that the sets of writers of the training set and test set were disjoint. SD-1 contains 58,527 digit images written by 500 different writers. In contrast to SD-3, where blocks of data from each writer appeared in sequence, the data in SD-1 is scrambled. Writer identities for SD-1 is available and we used this information to unscramble the writers. We then split SD-1 in two: characters written by the first 250 writers went into our new training set. The remaining 250 writers were placed in our test set. Thus we had two sets with nearly 30,000 examples each. The new training set was completed with enough examples from SD-3, starting at pattern # 0, to make a full set of 60,000 training patterns. Similarly, the new test set was completed with SD-3 examples starting at pattern # 35,000 to make a full set with 60,000 test patterns. Only a subset of 10,000 test images (5,000 from SD-1 and 5,000 from SD-3) is available on this site. The full 60,000 sample training set is available.\n",
      "\n",
      "Downloaded from openml.org.\n"
     ]
    }
   ],
   "source": [
    "print(mnist['DESCR'])"
   ]
  },
  {
   "cell_type": "code",
   "execution_count": 7,
   "id": "09e5b70a",
   "metadata": {
    "execution": {
     "iopub.execute_input": "2024-11-29T05:58:28.469171Z",
     "iopub.status.busy": "2024-11-29T05:58:28.468724Z",
     "iopub.status.idle": "2024-11-29T05:58:28.477779Z",
     "shell.execute_reply": "2024-11-29T05:58:28.476644Z"
    },
    "papermill": {
     "duration": 0.017769,
     "end_time": "2024-11-29T05:58:28.480706",
     "exception": false,
     "start_time": "2024-11-29T05:58:28.462937",
     "status": "completed"
    },
    "tags": []
   },
   "outputs": [
    {
     "data": {
      "text/plain": [
       "(70000,)"
      ]
     },
     "execution_count": 7,
     "metadata": {},
     "output_type": "execute_result"
    }
   ],
   "source": [
    "X, y = mnist['data'], mnist['target']\n",
    "y = y.astype(int)\n",
    "y.shape"
   ]
  },
  {
   "cell_type": "code",
   "execution_count": 8,
   "id": "7cb4ddf8",
   "metadata": {
    "execution": {
     "iopub.execute_input": "2024-11-29T05:58:28.492194Z",
     "iopub.status.busy": "2024-11-29T05:58:28.491748Z",
     "iopub.status.idle": "2024-11-29T05:58:29.053823Z",
     "shell.execute_reply": "2024-11-29T05:58:29.052446Z"
    },
    "papermill": {
     "duration": 0.571237,
     "end_time": "2024-11-29T05:58:29.056925",
     "exception": false,
     "start_time": "2024-11-29T05:58:28.485688",
     "status": "completed"
    },
    "tags": []
   },
   "outputs": [],
   "source": [
    "from sklearn.model_selection import train_test_split\n",
    "X_train, X_test, y_train, y_test = train_test_split(X, y, test_size=0.2,random_state=42)\n",
    "# X_train, X_test, y_train, y_test = X[:60000], X[60000:], y[:60000], y[60000:]"
   ]
  },
  {
   "cell_type": "markdown",
   "id": "163cc7b4",
   "metadata": {
    "papermill": {
     "duration": 0.00423,
     "end_time": "2024-11-29T05:58:29.065999",
     "exception": false,
     "start_time": "2024-11-29T05:58:29.061769",
     "status": "completed"
    },
    "tags": []
   },
   "source": [
    "# Visulasing some random photos from the dataset"
   ]
  },
  {
   "cell_type": "code",
   "execution_count": 9,
   "id": "14674279",
   "metadata": {
    "execution": {
     "iopub.execute_input": "2024-11-29T05:58:29.076796Z",
     "iopub.status.busy": "2024-11-29T05:58:29.076370Z",
     "iopub.status.idle": "2024-11-29T05:58:29.176876Z",
     "shell.execute_reply": "2024-11-29T05:58:29.175613Z"
    },
    "papermill": {
     "duration": 0.109651,
     "end_time": "2024-11-29T05:58:29.180100",
     "exception": false,
     "start_time": "2024-11-29T05:58:29.070449",
     "status": "completed"
    },
    "tags": []
   },
   "outputs": [
    {
     "data": {
      "image/png": "[encoded data removed]",
      "text/plain": [
       "<Figure size 640x480 with 1 Axes>"
      ]
     },
     "metadata": {},
     "output_type": "display_data"
    }
   ],
   "source": [
    "import numpy as np\n",
    "X = np.random.rand(1000, 784)  # Ensure X is (num_samples, 28*28)\n",
    "rand_digit_index = np.random.randint(low=0, high=X.shape[0] - 1)  \n",
    "rand_image = X[5].reshape(28, 28)  # Ensure the shape matches (28, 28)\n",
    "\n",
    "plt.imshow(rand_image, cmap='binary', interpolation='nearest')\n",
    "plt.axis('off')\n",
    "plt.show()\n",
    "# print(y[0])"
   ]
  },
  {
   "cell_type": "code",
   "execution_count": 10,
   "id": "0c0be1a2",
   "metadata": {
    "execution": {
     "iopub.execute_input": "2024-11-29T05:58:29.199705Z",
     "iopub.status.busy": "2024-11-29T05:58:29.198385Z",
     "iopub.status.idle": "2024-11-29T05:58:29.205629Z",
     "shell.execute_reply": "2024-11-29T05:58:29.204320Z"
    },
    "papermill": {
     "duration": 0.020662,
     "end_time": "2024-11-29T05:58:29.208851",
     "exception": false,
     "start_time": "2024-11-29T05:58:29.188189",
     "status": "completed"
    },
    "tags": []
   },
   "outputs": [],
   "source": [
    "y_train_5 = (y_train == 5)\n",
    "y_test_5 = (y_test == 5)"
   ]
  },
  {
   "cell_type": "code",
   "execution_count": 11,
   "id": "286578b1",
   "metadata": {
    "execution": {
     "iopub.execute_input": "2024-11-29T05:58:29.229233Z",
     "iopub.status.busy": "2024-11-29T05:58:29.227913Z",
     "iopub.status.idle": "2024-11-29T05:58:45.215671Z",
     "shell.execute_reply": "2024-11-29T05:58:45.214352Z"
    },
    "papermill": {
     "duration": 16.000247,
     "end_time": "2024-11-29T05:58:45.218079",
     "exception": false,
     "start_time": "2024-11-29T05:58:29.217832",
     "status": "completed"
    },
    "tags": []
   },
   "outputs": [
    {
     "data": {
      "text/html": [
       "<style>#sk-container-id-1 {color: black;background-color: white;}#sk-container-id-1 pre{padding: 0;}#sk-container-id-1 div.sk-toggleable {background-color: white;}#sk-container-id-1 label.sk-toggleable__label {cursor: pointer;display: block;width: 100%;margin-bottom: 0;padding: 0.3em;box-sizing: border-box;text-align: center;}#sk-container-id-1 label.sk-toggleable__label-arrow:before {content: \"▸\";float: left;margin-right: 0.25em;color: #696969;}#sk-container-id-1 label.sk-toggleable__label-arrow:hover:before {color: black;}#sk-container-id-1 div.sk-estimator:hover label.sk-toggleable__label-arrow:before {color: black;}#sk-container-id-1 div.sk-toggleable__content {max-height: 0;max-width: 0;overflow: hidden;text-align: left;background-color: #f0f8ff;}#sk-container-id-1 div.sk-toggleable__content pre {margin: 0.2em;color: black;border-radius: 0.25em;background-color: #f0f8ff;}#sk-container-id-1 input.sk-toggleable__control:checked~div.sk-toggleable__content {max-height: 200px;max-width: 100%;overflow: auto;}#sk-container-id-1 input.sk-toggleable__control:checked~label.sk-toggleable__label-arrow:before {content: \"▾\";}#sk-container-id-1 div.sk-estimator input.sk-toggleable__control:checked~label.sk-toggleable__label {background-color: #d4ebff;}#sk-container-id-1 div.sk-label input.sk-toggleable__control:checked~label.sk-toggleable__label {background-color: #d4ebff;}#sk-container-id-1 input.sk-hidden--visually {border: 0;clip: rect(1px 1px 1px 1px);clip: rect(1px, 1px, 1px, 1px);height: 1px;margin: -1px;overflow: hidden;padding: 0;position: absolute;width: 1px;}#sk-container-id-1 div.sk-estimator {font-family: monospace;background-color: #f0f8ff;border: 1px dotted black;border-radius: 0.25em;box-sizing: border-box;margin-bottom: 0.5em;}#sk-container-id-1 div.sk-estimator:hover {background-color: #d4ebff;}#sk-container-id-1 div.sk-parallel-item::after {content: \"\";width: 100%;border-bottom: 1px solid gray;flex-grow: 1;}#sk-container-id-1 div.sk-label:hover label.sk-toggleable__label {background-color: #d4ebff;}#sk-container-id-1 div.sk-serial::before {content: \"\";position: absolute;border-left: 1px solid gray;box-sizing: border-box;top: 0;bottom: 0;left: 50%;z-index: 0;}#sk-container-id-1 div.sk-serial {display: flex;flex-direction: column;align-items: center;background-color: white;padding-right: 0.2em;padding-left: 0.2em;position: relative;}#sk-container-id-1 div.sk-item {position: relative;z-index: 1;}#sk-container-id-1 div.sk-parallel {display: flex;align-items: stretch;justify-content: center;background-color: white;position: relative;}#sk-container-id-1 div.sk-item::before, #sk-container-id-1 div.sk-parallel-item::before {content: \"\";position: absolute;border-left: 1px solid gray;box-sizing: border-box;top: 0;bottom: 0;left: 50%;z-index: -1;}#sk-container-id-1 div.sk-parallel-item {display: flex;flex-direction: column;z-index: 1;position: relative;background-color: white;}#sk-container-id-1 div.sk-parallel-item:first-child::after {align-self: flex-end;width: 50%;}#sk-container-id-1 div.sk-parallel-item:last-child::after {align-self: flex-start;width: 50%;}#sk-container-id-1 div.sk-parallel-item:only-child::after {width: 0;}#sk-container-id-1 div.sk-dashed-wrapped {border: 1px dashed gray;margin: 0 0.4em 0.5em 0.4em;box-sizing: border-box;padding-bottom: 0.4em;background-color: white;}#sk-container-id-1 div.sk-label label {font-family: monospace;font-weight: bold;display: inline-block;line-height: 1.2em;}#sk-container-id-1 div.sk-label-container {text-align: center;}#sk-container-id-1 div.sk-container {/* jupyter's `normalize.less` sets `[hidden] { display: none; }` but bootstrap.min.css set `[hidden] { display: none !important; }` so we also need the `!important` here to be able to override the default hidden behavior on the sphinx rendered scikit-learn.org. See: https://github.com/scikit-learn/scikit-learn/issues/21755 */display: inline-block !important;position: relative;}#sk-container-id-1 div.sk-text-repr-fallback {display: none;}</style><div id=\"sk-container-id-1\" class=\"sk-top-container\"><div class=\"sk-text-repr-fallback\"><pre>SGDClassifier(random_state=42)</pre><b>In a Jupyter environment, please rerun this cell to show the HTML representation or trust the notebook. <br />On GitHub, the HTML representation is unable to render, please try loading this page with nbviewer.org.</b></div><div class=\"sk-container\" hidden><div class=\"sk-item\"><div class=\"sk-estimator sk-toggleable\"><input class=\"sk-toggleable__control sk-hidden--visually\" id=\"sk-estimator-id-1\" type=\"checkbox\" checked><label for=\"sk-estimator-id-1\" class=\"sk-toggleable__label sk-toggleable__label-arrow\">SGDClassifier</label><div class=\"sk-toggleable__content\"><pre>SGDClassifier(random_state=42)</pre></div></div></div></div></div>"
      ],
      "text/plain": [
       "SGDClassifier(random_state=42)"
      ]
     },
     "execution_count": 11,
     "metadata": {},
     "output_type": "execute_result"
    }
   ],
   "source": [
    "from sklearn.linear_model import SGDClassifier\n",
    "\n",
    "clf = SGDClassifier(random_state=42)\n",
    "clf.fit(X_train, y_train_5)"
   ]
  },
  {
   "cell_type": "code",
   "execution_count": 12,
   "id": "d60d80eb",
   "metadata": {
    "execution": {
     "iopub.execute_input": "2024-11-29T05:58:45.229500Z",
     "iopub.status.busy": "2024-11-29T05:58:45.229085Z",
     "iopub.status.idle": "2024-11-29T05:58:45.334881Z",
     "shell.execute_reply": "2024-11-29T05:58:45.333775Z"
    },
    "papermill": {
     "duration": 0.115647,
     "end_time": "2024-11-29T05:58:45.338698",
     "exception": false,
     "start_time": "2024-11-29T05:58:45.223051",
     "status": "completed"
    },
    "tags": []
   },
   "outputs": [
    {
     "name": "stdout",
     "output_type": "stream",
     "text": [
      "1046\n",
      "(14000,)\n",
      "(14000,)\n",
      "1273\n",
      "accuracy % = 0.821681068342498\n"
     ]
    }
   ],
   "source": [
    "y_pred = clf.predict(X_test)\n",
    "\n",
    "cnt = 0\n",
    "for pred in y_pred:\n",
    "    cnt += pred.astype(int)\n",
    "\n",
    "print(cnt)\n",
    "print(y_pred.shape)\n",
    "print(y_test_5.shape)\n",
    "\n",
    "cnt_y_test = 0\n",
    "\n",
    "for y in y_test_5:\n",
    "    cnt_y_test += y\n",
    "\n",
    "print(cnt_y_test)\n",
    "\n",
    "print(f\"accuracy % = {cnt/cnt_y_test}\")"
   ]
  },
  {
   "cell_type": "markdown",
   "id": "85322cb3",
   "metadata": {
    "papermill": {
     "duration": 0.008184,
     "end_time": "2024-11-29T05:58:45.355472",
     "exception": false,
     "start_time": "2024-11-29T05:58:45.347288",
     "status": "completed"
    },
    "tags": []
   },
   "source": [
    "# Learning Cross-Validation"
   ]
  },
  {
   "cell_type": "code",
   "execution_count": 13,
   "id": "20fbd2e5",
   "metadata": {
    "execution": {
     "iopub.execute_input": "2024-11-29T05:58:45.375033Z",
     "iopub.status.busy": "2024-11-29T05:58:45.374076Z",
     "iopub.status.idle": "2024-11-29T05:58:45.381965Z",
     "shell.execute_reply": "2024-11-29T05:58:45.380118Z"
    },
    "papermill": {
     "duration": 0.020746,
     "end_time": "2024-11-29T05:58:45.384690",
     "exception": false,
     "start_time": "2024-11-29T05:58:45.363944",
     "status": "completed"
    },
    "tags": []
   },
   "outputs": [],
   "source": [
    "n = np.array([1, 3, 5, 6,8 , 56,8 , 7,4 ,7,7])\n",
    "t = [0, 5, 2]\n",
    "n[t]\n",
    "X_train = X_train.to_numpy()\n",
    "y_train_5 = y_train_5.to_numpy()"
   ]
  },
  {
   "cell_type": "code",
   "execution_count": 14,
   "id": "af6cc802",
   "metadata": {
    "execution": {
     "iopub.execute_input": "2024-11-29T05:58:45.404856Z",
     "iopub.status.busy": "2024-11-29T05:58:45.404335Z",
     "iopub.status.idle": "2024-11-29T06:01:09.232375Z",
     "shell.execute_reply": "2024-11-29T06:01:09.228622Z"
    },
    "papermill": {
     "duration": 143.842519,
     "end_time": "2024-11-29T06:01:09.236305",
     "exception": false,
     "start_time": "2024-11-29T05:58:45.393786",
     "status": "completed"
    },
    "tags": []
   },
   "outputs": [
    {
     "name": "stdout",
     "output_type": "stream",
     "text": [
      "for fold 1 results :\n",
      "train_index : [    0     1     2 ... 55995 55997 55998], test_index : [   24    27    29 ... 55967 55996 55999]\n",
      "correctness score = 0.9651785714285714\n",
      "for fold 2 results :\n",
      "train_index : [    0     1     2 ... 55997 55998 55999], test_index : [    3    12    34 ... 55985 55987 55993]\n",
      "correctness score = 0.9605357142857143\n",
      "for fold 3 results :\n",
      "train_index : [    0     2     3 ... 55997 55998 55999], test_index : [    1    14    42 ... 55975 55986 55995]\n",
      "correctness score = 0.9473214285714285\n",
      "for fold 4 results :\n",
      "train_index : [    0     1     2 ... 55997 55998 55999], test_index : [    8    40    47 ... 55974 55982 55983]\n",
      "correctness score = 0.9123214285714286\n",
      "for fold 5 results :\n",
      "train_index : [    0     1     2 ... 55997 55998 55999], test_index : [    5     7    25 ... 55973 55976 55989]\n",
      "correctness score = 0.965\n",
      "for fold 6 results :\n",
      "train_index : [    0     1     2 ... 55997 55998 55999], test_index : [   10    18    30 ... 55990 55992 55994]\n",
      "correctness score = 0.9675\n",
      "for fold 7 results :\n",
      "train_index : [    0     1     3 ... 55996 55997 55999], test_index : [    2    13    44 ... 55972 55988 55998]\n",
      "correctness score = 0.9669642857142857\n",
      "for fold 8 results :\n",
      "train_index : [    1     2     3 ... 55997 55998 55999], test_index : [    0     4     9 ... 55956 55960 55981]\n",
      "correctness score = 0.96375\n",
      "for fold 9 results :\n",
      "train_index : [    0     1     2 ... 55997 55998 55999], test_index : [   16    17    19 ... 55933 55968 55979]\n",
      "correctness score = 0.9489285714285715\n",
      "for fold 10 results :\n",
      "train_index : [    0     1     2 ... 55996 55998 55999], test_index : [    6    11    15 ... 55978 55991 55997]\n",
      "correctness score = 0.9639285714285715\n"
     ]
    }
   ],
   "source": [
    "from sklearn.model_selection import StratifiedKFold\n",
    "from sklearn.base import clone\n",
    "\n",
    "skfolds = StratifiedKFold(n_splits=10,shuffle=True)\n",
    "\n",
    "for fold, (train_idx, test_idx) in enumerate(skfolds.split(X_train, y_train_5)):\n",
    "    print(f\"for fold {fold + 1} results :\")\n",
    "    print(f\"train_index : {train_idx}, test_index : {test_idx}\")\n",
    "    clone_clf = clone(clf)\n",
    "    X_train_folds = X_train[train_idx]\n",
    "    y_train_folds = y_train_5[train_idx]\n",
    "    X_test_fold = X_train[test_idx]\n",
    "    y_test_fold = y_train_5[test_idx]\n",
    "\n",
    "    clone_clf.fit(X_train_folds, y_train_folds)\n",
    "    y_pred = clone_clf.predict(X_test_fold)\n",
    "    n_correct = np.sum(y_pred == y_test_fold)\n",
    "\n",
    "    print(f\"correctness score = {n_correct/ len(y_pred)}\")\n"
   ]
  },
  {
   "cell_type": "code",
   "execution_count": null,
   "id": "9d328948",
   "metadata": {
    "papermill": {
     "duration": 0.009334,
     "end_time": "2024-11-29T06:01:09.256254",
     "exception": false,
     "start_time": "2024-11-29T06:01:09.246920",
     "status": "completed"
    },
    "tags": []
   },
   "outputs": [],
   "source": []
  }
 ],
 "metadata": {
  "kaggle": {
   "accelerator": "none",
   "dataSources": [],
   "dockerImageVersionId": 30786,
   "isGpuEnabled": false,
   "isInternetEnabled": true,
   "language": "python",
   "sourceType": "notebook"
  },
  "kernelspec": {
   "display_name": "Python 3",
   "language": "python",
   "name": "python3"
  },
  "language_info": {
   "codemirror_mode": {
    "name": "ipython",
    "version": 3
   },
   "file_extension": ".py",
   "mimetype": "text/x-python",
   "name": "python",
   "nbconvert_exporter": "python",
   "pygments_lexer": "ipython3",
   "version": "3.10.14"
  },
  "papermill": {
   "default_parameters": {},
   "duration": 183.273871,
   "end_time": "2024-11-29T06:01:09.992332",
   "environment_variables": {},
   "exception": null,
   "input_path": "__notebook__.ipynb",
   "output_path": "__notebook__.ipynb",
   "parameters": {},
   "start_time": "2024-11-29T05:58:06.718461",
   "version": "2.6.0"
  }
 },
 "nbformat": 4,
 "nbformat_minor": 5
}
