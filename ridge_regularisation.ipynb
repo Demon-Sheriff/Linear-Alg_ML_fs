{
 "cells": [
  {
   "cell_type": "code",
   "execution_count": 1,
   "id": "77145d7c",
   "metadata": {
    "_cell_guid": "b1076dfc-b9ad-4769-8c92-a6c4dae69d19",
    "_uuid": "8f2839f25d086af736a60e9eeb907d3b93b6e0e5",
    "execution": {
     "iopub.execute_input": "2024-12-02T12:52:07.399713Z",
     "iopub.status.busy": "2024-12-02T12:52:07.399042Z",
     "iopub.status.idle": "2024-12-02T12:52:08.376055Z",
     "shell.execute_reply": "2024-12-02T12:52:08.374631Z"
    },
    "papermill": {
     "duration": 1.000787,
     "end_time": "2024-12-02T12:52:08.378861",
     "exception": false,
     "start_time": "2024-12-02T12:52:07.378074",
     "status": "completed"
    },
    "tags": []
   },
   "outputs": [
    {
     "name": "stdout",
     "output_type": "stream",
     "text": [
      "/kaggle/input/autompg/auto-mpg.csv\n"
     ]
    }
   ],
   "source": [
    "# This Python 3 environment comes with many helpful analytics libraries installed\n",
    "# It is defined by the kaggle/python Docker image: https://github.com/kaggle/docker-python\n",
    "# For example, here's several helpful packages to load\n",
    "\n",
    "import numpy as np # linear algebra\n",
    "import pandas as pd # data processing, CSV file I/O (e.g. pd.read_csv)\n",
    "\n",
    "# Input data files are available in the read-only \"../input/\" directory\n",
    "# For example, running this (by clicking run or pressing Shift+Enter) will list all files under the input directory\n",
    "\n",
    "import os\n",
    "for dirname, _, filenames in os.walk('/kaggle/input'):\n",
    "    for filename in filenames:\n",
    "        print(os.path.join(dirname, filename))\n",
    "\n",
    "# You can write up to 20GB to the current directory (/kaggle/working/) that gets preserved as output when you create a version using \"Save & Run All\" \n",
    "# You can also write temporary files to /kaggle/temp/, but they won't be saved outside of the current session"
   ]
  },
  {
   "cell_type": "code",
   "execution_count": 2,
   "id": "544838be",
   "metadata": {
    "execution": {
     "iopub.execute_input": "2024-12-02T12:52:08.418041Z",
     "iopub.status.busy": "2024-12-02T12:52:08.417348Z",
     "iopub.status.idle": "2024-12-02T12:52:08.425105Z",
     "shell.execute_reply": "2024-12-02T12:52:08.423860Z"
    },
    "papermill": {
     "duration": 0.029528,
     "end_time": "2024-12-02T12:52:08.427718",
     "exception": false,
     "start_time": "2024-12-02T12:52:08.398190",
     "status": "completed"
    },
    "tags": []
   },
   "outputs": [
    {
     "name": "stdout",
     "output_type": "stream",
     "text": [
      "['auto-mpg.csv']\n"
     ]
    }
   ],
   "source": [
    "print(os.listdir('/kaggle/input/autompg/'))"
   ]
  },
  {
   "cell_type": "markdown",
   "id": "cb0ef267",
   "metadata": {
    "papermill": {
     "duration": 0.016995,
     "end_time": "2024-12-02T12:52:08.462419",
     "exception": false,
     "start_time": "2024-12-02T12:52:08.445424",
     "status": "completed"
    },
    "tags": []
   },
   "source": [
    "# **Ridge Regression Closed Form**"
   ]
  },
  {
   "cell_type": "code",
   "execution_count": 3,
   "id": "b2af13c8",
   "metadata": {
    "execution": {
     "iopub.execute_input": "2024-12-02T12:52:08.499775Z",
     "iopub.status.busy": "2024-12-02T12:52:08.499269Z",
     "iopub.status.idle": "2024-12-02T12:52:08.525965Z",
     "shell.execute_reply": "2024-12-02T12:52:08.524600Z"
    },
    "papermill": {
     "duration": 0.048968,
     "end_time": "2024-12-02T12:52:08.528987",
     "exception": false,
     "start_time": "2024-12-02T12:52:08.480019",
     "status": "completed"
    },
    "tags": []
   },
   "outputs": [],
   "source": [
    "df = pd.read_csv('/kaggle/input/autompg/auto-mpg.csv')"
   ]
  },
  {
   "cell_type": "code",
   "execution_count": 4,
   "id": "81c4b8b6",
   "metadata": {
    "execution": {
     "iopub.execute_input": "2024-12-02T12:52:08.565989Z",
     "iopub.status.busy": "2024-12-02T12:52:08.565437Z",
     "iopub.status.idle": "2024-12-02T12:52:08.595192Z",
     "shell.execute_reply": "2024-12-02T12:52:08.593812Z"
    },
    "papermill": {
     "duration": 0.05135,
     "end_time": "2024-12-02T12:52:08.597811",
     "exception": false,
     "start_time": "2024-12-02T12:52:08.546461",
     "status": "completed"
    },
    "tags": []
   },
   "outputs": [
    {
     "data": {
      "text/html": [
       "<div>\n",
       "<style scoped>\n",
       "    .dataframe tbody tr th:only-of-type {\n",
       "        vertical-align: middle;\n",
       "    }\n",
       "\n",
       "    .dataframe tbody tr th {\n",
       "        vertical-align: top;\n",
       "    }\n",
       "\n",
       "    .dataframe thead th {\n",
       "        text-align: right;\n",
       "    }\n",
       "</style>\n",
       "<table border=\"1\" class=\"dataframe\">\n",
       "  <thead>\n",
       "    <tr style=\"text-align: right;\">\n",
       "      <th></th>\n",
       "      <th>mpg</th>\n",
       "      <th>cylinders</th>\n",
       "      <th>displacement</th>\n",
       "      <th>horsepower</th>\n",
       "      <th>weight</th>\n",
       "      <th>acceleration</th>\n",
       "      <th>model year</th>\n",
       "      <th>origin</th>\n",
       "      <th>car name</th>\n",
       "    </tr>\n",
       "  </thead>\n",
       "  <tbody>\n",
       "    <tr>\n",
       "      <th>0</th>\n",
       "      <td>18.0</td>\n",
       "      <td>8</td>\n",
       "      <td>307.0</td>\n",
       "      <td>130</td>\n",
       "      <td>3504</td>\n",
       "      <td>12.0</td>\n",
       "      <td>70</td>\n",
       "      <td>1</td>\n",
       "      <td>chevrolet chevelle malibu</td>\n",
       "    </tr>\n",
       "    <tr>\n",
       "      <th>1</th>\n",
       "      <td>15.0</td>\n",
       "      <td>8</td>\n",
       "      <td>350.0</td>\n",
       "      <td>165</td>\n",
       "      <td>3693</td>\n",
       "      <td>11.5</td>\n",
       "      <td>70</td>\n",
       "      <td>1</td>\n",
       "      <td>buick skylark 320</td>\n",
       "    </tr>\n",
       "    <tr>\n",
       "      <th>2</th>\n",
       "      <td>18.0</td>\n",
       "      <td>8</td>\n",
       "      <td>318.0</td>\n",
       "      <td>150</td>\n",
       "      <td>3436</td>\n",
       "      <td>11.0</td>\n",
       "      <td>70</td>\n",
       "      <td>1</td>\n",
       "      <td>plymouth satellite</td>\n",
       "    </tr>\n",
       "    <tr>\n",
       "      <th>3</th>\n",
       "      <td>16.0</td>\n",
       "      <td>8</td>\n",
       "      <td>304.0</td>\n",
       "      <td>150</td>\n",
       "      <td>3433</td>\n",
       "      <td>12.0</td>\n",
       "      <td>70</td>\n",
       "      <td>1</td>\n",
       "      <td>amc rebel sst</td>\n",
       "    </tr>\n",
       "    <tr>\n",
       "      <th>4</th>\n",
       "      <td>17.0</td>\n",
       "      <td>8</td>\n",
       "      <td>302.0</td>\n",
       "      <td>140</td>\n",
       "      <td>3449</td>\n",
       "      <td>10.5</td>\n",
       "      <td>70</td>\n",
       "      <td>1</td>\n",
       "      <td>ford torino</td>\n",
       "    </tr>\n",
       "  </tbody>\n",
       "</table>\n",
       "</div>"
      ],
      "text/plain": [
       "    mpg  cylinders  displacement horsepower  weight  acceleration  model year  \\\n",
       "0  18.0          8         307.0        130    3504          12.0          70   \n",
       "1  15.0          8         350.0        165    3693          11.5          70   \n",
       "2  18.0          8         318.0        150    3436          11.0          70   \n",
       "3  16.0          8         304.0        150    3433          12.0          70   \n",
       "4  17.0          8         302.0        140    3449          10.5          70   \n",
       "\n",
       "   origin                   car name  \n",
       "0       1  chevrolet chevelle malibu  \n",
       "1       1          buick skylark 320  \n",
       "2       1         plymouth satellite  \n",
       "3       1              amc rebel sst  \n",
       "4       1                ford torino  "
      ]
     },
     "execution_count": 4,
     "metadata": {},
     "output_type": "execute_result"
    }
   ],
   "source": [
    "df.head()"
   ]
  },
  {
   "cell_type": "code",
   "execution_count": 5,
   "id": "7fc14e78",
   "metadata": {
    "execution": {
     "iopub.execute_input": "2024-12-02T12:52:08.636432Z",
     "iopub.status.busy": "2024-12-02T12:52:08.635915Z",
     "iopub.status.idle": "2024-12-02T12:52:08.645074Z",
     "shell.execute_reply": "2024-12-02T12:52:08.643526Z"
    },
    "papermill": {
     "duration": 0.031473,
     "end_time": "2024-12-02T12:52:08.647863",
     "exception": false,
     "start_time": "2024-12-02T12:52:08.616390",
     "status": "completed"
    },
    "tags": []
   },
   "outputs": [
    {
     "data": {
      "text/plain": [
       "(398, 9)"
      ]
     },
     "execution_count": 5,
     "metadata": {},
     "output_type": "execute_result"
    }
   ],
   "source": [
    "df.shape"
   ]
  },
  {
   "cell_type": "code",
   "execution_count": 6,
   "id": "cfeb7b2f",
   "metadata": {
    "execution": {
     "iopub.execute_input": "2024-12-02T12:52:08.686408Z",
     "iopub.status.busy": "2024-12-02T12:52:08.685586Z",
     "iopub.status.idle": "2024-12-02T12:52:08.713560Z",
     "shell.execute_reply": "2024-12-02T12:52:08.712344Z"
    },
    "papermill": {
     "duration": 0.05051,
     "end_time": "2024-12-02T12:52:08.716260",
     "exception": false,
     "start_time": "2024-12-02T12:52:08.665750",
     "status": "completed"
    },
    "tags": []
   },
   "outputs": [
    {
     "name": "stdout",
     "output_type": "stream",
     "text": [
      "<class 'pandas.core.frame.DataFrame'>\n",
      "RangeIndex: 398 entries, 0 to 397\n",
      "Data columns (total 9 columns):\n",
      " #   Column        Non-Null Count  Dtype  \n",
      "---  ------        --------------  -----  \n",
      " 0   mpg           398 non-null    float64\n",
      " 1   cylinders     398 non-null    int64  \n",
      " 2   displacement  398 non-null    float64\n",
      " 3   horsepower    398 non-null    object \n",
      " 4   weight        398 non-null    int64  \n",
      " 5   acceleration  398 non-null    float64\n",
      " 6   model year    398 non-null    int64  \n",
      " 7   origin        398 non-null    int64  \n",
      " 8   car name      398 non-null    object \n",
      "dtypes: float64(3), int64(4), object(2)\n",
      "memory usage: 28.1+ KB\n"
     ]
    }
   ],
   "source": [
    "df.info()"
   ]
  },
  {
   "cell_type": "code",
   "execution_count": 7,
   "id": "947bbf63",
   "metadata": {
    "execution": {
     "iopub.execute_input": "2024-12-02T12:52:08.752211Z",
     "iopub.status.busy": "2024-12-02T12:52:08.751822Z",
     "iopub.status.idle": "2024-12-02T12:52:08.760897Z",
     "shell.execute_reply": "2024-12-02T12:52:08.759904Z"
    },
    "papermill": {
     "duration": 0.02957,
     "end_time": "2024-12-02T12:52:08.762924",
     "exception": false,
     "start_time": "2024-12-02T12:52:08.733354",
     "status": "completed"
    },
    "tags": []
   },
   "outputs": [
    {
     "data": {
      "text/plain": [
       "mpg             0\n",
       "cylinders       0\n",
       "displacement    0\n",
       "horsepower      0\n",
       "weight          0\n",
       "acceleration    0\n",
       "model year      0\n",
       "origin          0\n",
       "car name        0\n",
       "dtype: int64"
      ]
     },
     "execution_count": 7,
     "metadata": {},
     "output_type": "execute_result"
    }
   ],
   "source": [
    "df.isna().sum()"
   ]
  },
  {
   "cell_type": "code",
   "execution_count": 8,
   "id": "825e7169",
   "metadata": {
    "execution": {
     "iopub.execute_input": "2024-12-02T12:52:08.799591Z",
     "iopub.status.busy": "2024-12-02T12:52:08.799161Z",
     "iopub.status.idle": "2024-12-02T12:52:08.831005Z",
     "shell.execute_reply": "2024-12-02T12:52:08.829874Z"
    },
    "papermill": {
     "duration": 0.053178,
     "end_time": "2024-12-02T12:52:08.833198",
     "exception": false,
     "start_time": "2024-12-02T12:52:08.780020",
     "status": "completed"
    },
    "tags": []
   },
   "outputs": [
    {
     "data": {
      "text/html": [
       "<div>\n",
       "<style scoped>\n",
       "    .dataframe tbody tr th:only-of-type {\n",
       "        vertical-align: middle;\n",
       "    }\n",
       "\n",
       "    .dataframe tbody tr th {\n",
       "        vertical-align: top;\n",
       "    }\n",
       "\n",
       "    .dataframe thead th {\n",
       "        text-align: right;\n",
       "    }\n",
       "</style>\n",
       "<table border=\"1\" class=\"dataframe\">\n",
       "  <thead>\n",
       "    <tr style=\"text-align: right;\">\n",
       "      <th></th>\n",
       "      <th>mpg</th>\n",
       "      <th>cylinders</th>\n",
       "      <th>displacement</th>\n",
       "      <th>weight</th>\n",
       "      <th>acceleration</th>\n",
       "      <th>model year</th>\n",
       "      <th>origin</th>\n",
       "    </tr>\n",
       "  </thead>\n",
       "  <tbody>\n",
       "    <tr>\n",
       "      <th>count</th>\n",
       "      <td>398.000000</td>\n",
       "      <td>398.000000</td>\n",
       "      <td>398.000000</td>\n",
       "      <td>398.000000</td>\n",
       "      <td>398.000000</td>\n",
       "      <td>398.000000</td>\n",
       "      <td>398.000000</td>\n",
       "    </tr>\n",
       "    <tr>\n",
       "      <th>mean</th>\n",
       "      <td>23.514573</td>\n",
       "      <td>5.454774</td>\n",
       "      <td>193.425879</td>\n",
       "      <td>2970.424623</td>\n",
       "      <td>15.568090</td>\n",
       "      <td>76.010050</td>\n",
       "      <td>1.572864</td>\n",
       "    </tr>\n",
       "    <tr>\n",
       "      <th>std</th>\n",
       "      <td>7.815984</td>\n",
       "      <td>1.701004</td>\n",
       "      <td>104.269838</td>\n",
       "      <td>846.841774</td>\n",
       "      <td>2.757689</td>\n",
       "      <td>3.697627</td>\n",
       "      <td>0.802055</td>\n",
       "    </tr>\n",
       "    <tr>\n",
       "      <th>min</th>\n",
       "      <td>9.000000</td>\n",
       "      <td>3.000000</td>\n",
       "      <td>68.000000</td>\n",
       "      <td>1613.000000</td>\n",
       "      <td>8.000000</td>\n",
       "      <td>70.000000</td>\n",
       "      <td>1.000000</td>\n",
       "    </tr>\n",
       "    <tr>\n",
       "      <th>25%</th>\n",
       "      <td>17.500000</td>\n",
       "      <td>4.000000</td>\n",
       "      <td>104.250000</td>\n",
       "      <td>2223.750000</td>\n",
       "      <td>13.825000</td>\n",
       "      <td>73.000000</td>\n",
       "      <td>1.000000</td>\n",
       "    </tr>\n",
       "    <tr>\n",
       "      <th>50%</th>\n",
       "      <td>23.000000</td>\n",
       "      <td>4.000000</td>\n",
       "      <td>148.500000</td>\n",
       "      <td>2803.500000</td>\n",
       "      <td>15.500000</td>\n",
       "      <td>76.000000</td>\n",
       "      <td>1.000000</td>\n",
       "    </tr>\n",
       "    <tr>\n",
       "      <th>75%</th>\n",
       "      <td>29.000000</td>\n",
       "      <td>8.000000</td>\n",
       "      <td>262.000000</td>\n",
       "      <td>3608.000000</td>\n",
       "      <td>17.175000</td>\n",
       "      <td>79.000000</td>\n",
       "      <td>2.000000</td>\n",
       "    </tr>\n",
       "    <tr>\n",
       "      <th>max</th>\n",
       "      <td>46.600000</td>\n",
       "      <td>8.000000</td>\n",
       "      <td>455.000000</td>\n",
       "      <td>5140.000000</td>\n",
       "      <td>24.800000</td>\n",
       "      <td>82.000000</td>\n",
       "      <td>3.000000</td>\n",
       "    </tr>\n",
       "  </tbody>\n",
       "</table>\n",
       "</div>"
      ],
      "text/plain": [
       "              mpg   cylinders  displacement       weight  acceleration  \\\n",
       "count  398.000000  398.000000    398.000000   398.000000    398.000000   \n",
       "mean    23.514573    5.454774    193.425879  2970.424623     15.568090   \n",
       "std      7.815984    1.701004    104.269838   846.841774      2.757689   \n",
       "min      9.000000    3.000000     68.000000  1613.000000      8.000000   \n",
       "25%     17.500000    4.000000    104.250000  2223.750000     13.825000   \n",
       "50%     23.000000    4.000000    148.500000  2803.500000     15.500000   \n",
       "75%     29.000000    8.000000    262.000000  3608.000000     17.175000   \n",
       "max     46.600000    8.000000    455.000000  5140.000000     24.800000   \n",
       "\n",
       "       model year      origin  \n",
       "count  398.000000  398.000000  \n",
       "mean    76.010050    1.572864  \n",
       "std      3.697627    0.802055  \n",
       "min     70.000000    1.000000  \n",
       "25%     73.000000    1.000000  \n",
       "50%     76.000000    1.000000  \n",
       "75%     79.000000    2.000000  \n",
       "max     82.000000    3.000000  "
      ]
     },
     "execution_count": 8,
     "metadata": {},
     "output_type": "execute_result"
    }
   ],
   "source": [
    "df.describe()"
   ]
  },
  {
   "cell_type": "code",
   "execution_count": 9,
   "id": "0e2c4da4",
   "metadata": {
    "execution": {
     "iopub.execute_input": "2024-12-02T12:52:08.869539Z",
     "iopub.status.busy": "2024-12-02T12:52:08.869156Z",
     "iopub.status.idle": "2024-12-02T12:52:08.876667Z",
     "shell.execute_reply": "2024-12-02T12:52:08.875567Z"
    },
    "papermill": {
     "duration": 0.027997,
     "end_time": "2024-12-02T12:52:08.878906",
     "exception": false,
     "start_time": "2024-12-02T12:52:08.850909",
     "status": "completed"
    },
    "tags": []
   },
   "outputs": [
    {
     "data": {
      "text/plain": [
       "305"
      ]
     },
     "execution_count": 9,
     "metadata": {},
     "output_type": "execute_result"
    }
   ],
   "source": [
    "df['car name'].nunique()"
   ]
  },
  {
   "cell_type": "code",
   "execution_count": 10,
   "id": "04fb4c28",
   "metadata": {
    "execution": {
     "iopub.execute_input": "2024-12-02T12:52:08.915251Z",
     "iopub.status.busy": "2024-12-02T12:52:08.914853Z",
     "iopub.status.idle": "2024-12-02T12:52:08.934285Z",
     "shell.execute_reply": "2024-12-02T12:52:08.933172Z"
    },
    "papermill": {
     "duration": 0.040593,
     "end_time": "2024-12-02T12:52:08.936582",
     "exception": false,
     "start_time": "2024-12-02T12:52:08.895989",
     "status": "completed"
    },
    "tags": []
   },
   "outputs": [
    {
     "data": {
      "text/html": [
       "<div>\n",
       "<style scoped>\n",
       "    .dataframe tbody tr th:only-of-type {\n",
       "        vertical-align: middle;\n",
       "    }\n",
       "\n",
       "    .dataframe tbody tr th {\n",
       "        vertical-align: top;\n",
       "    }\n",
       "\n",
       "    .dataframe thead th {\n",
       "        text-align: right;\n",
       "    }\n",
       "</style>\n",
       "<table border=\"1\" class=\"dataframe\">\n",
       "  <thead>\n",
       "    <tr style=\"text-align: right;\">\n",
       "      <th></th>\n",
       "      <th>mpg</th>\n",
       "      <th>cylinders</th>\n",
       "      <th>displacement</th>\n",
       "      <th>horsepower</th>\n",
       "      <th>weight</th>\n",
       "      <th>acceleration</th>\n",
       "      <th>model year</th>\n",
       "      <th>origin</th>\n",
       "      <th>car name</th>\n",
       "    </tr>\n",
       "  </thead>\n",
       "  <tbody>\n",
       "    <tr>\n",
       "      <th>0</th>\n",
       "      <td>18.0</td>\n",
       "      <td>8</td>\n",
       "      <td>307.0</td>\n",
       "      <td>130</td>\n",
       "      <td>3504</td>\n",
       "      <td>12.0</td>\n",
       "      <td>70</td>\n",
       "      <td>1</td>\n",
       "      <td>chevrolet chevelle malibu</td>\n",
       "    </tr>\n",
       "    <tr>\n",
       "      <th>1</th>\n",
       "      <td>15.0</td>\n",
       "      <td>8</td>\n",
       "      <td>350.0</td>\n",
       "      <td>165</td>\n",
       "      <td>3693</td>\n",
       "      <td>11.5</td>\n",
       "      <td>70</td>\n",
       "      <td>1</td>\n",
       "      <td>buick skylark 320</td>\n",
       "    </tr>\n",
       "    <tr>\n",
       "      <th>2</th>\n",
       "      <td>18.0</td>\n",
       "      <td>8</td>\n",
       "      <td>318.0</td>\n",
       "      <td>150</td>\n",
       "      <td>3436</td>\n",
       "      <td>11.0</td>\n",
       "      <td>70</td>\n",
       "      <td>1</td>\n",
       "      <td>plymouth satellite</td>\n",
       "    </tr>\n",
       "    <tr>\n",
       "      <th>3</th>\n",
       "      <td>16.0</td>\n",
       "      <td>8</td>\n",
       "      <td>304.0</td>\n",
       "      <td>150</td>\n",
       "      <td>3433</td>\n",
       "      <td>12.0</td>\n",
       "      <td>70</td>\n",
       "      <td>1</td>\n",
       "      <td>amc rebel sst</td>\n",
       "    </tr>\n",
       "    <tr>\n",
       "      <th>4</th>\n",
       "      <td>17.0</td>\n",
       "      <td>8</td>\n",
       "      <td>302.0</td>\n",
       "      <td>140</td>\n",
       "      <td>3449</td>\n",
       "      <td>10.5</td>\n",
       "      <td>70</td>\n",
       "      <td>1</td>\n",
       "      <td>ford torino</td>\n",
       "    </tr>\n",
       "    <tr>\n",
       "      <th>...</th>\n",
       "      <td>...</td>\n",
       "      <td>...</td>\n",
       "      <td>...</td>\n",
       "      <td>...</td>\n",
       "      <td>...</td>\n",
       "      <td>...</td>\n",
       "      <td>...</td>\n",
       "      <td>...</td>\n",
       "      <td>...</td>\n",
       "    </tr>\n",
       "    <tr>\n",
       "      <th>393</th>\n",
       "      <td>27.0</td>\n",
       "      <td>4</td>\n",
       "      <td>140.0</td>\n",
       "      <td>86</td>\n",
       "      <td>2790</td>\n",
       "      <td>15.6</td>\n",
       "      <td>82</td>\n",
       "      <td>1</td>\n",
       "      <td>ford mustang gl</td>\n",
       "    </tr>\n",
       "    <tr>\n",
       "      <th>394</th>\n",
       "      <td>44.0</td>\n",
       "      <td>4</td>\n",
       "      <td>97.0</td>\n",
       "      <td>52</td>\n",
       "      <td>2130</td>\n",
       "      <td>24.6</td>\n",
       "      <td>82</td>\n",
       "      <td>2</td>\n",
       "      <td>vw pickup</td>\n",
       "    </tr>\n",
       "    <tr>\n",
       "      <th>395</th>\n",
       "      <td>32.0</td>\n",
       "      <td>4</td>\n",
       "      <td>135.0</td>\n",
       "      <td>84</td>\n",
       "      <td>2295</td>\n",
       "      <td>11.6</td>\n",
       "      <td>82</td>\n",
       "      <td>1</td>\n",
       "      <td>dodge rampage</td>\n",
       "    </tr>\n",
       "    <tr>\n",
       "      <th>396</th>\n",
       "      <td>28.0</td>\n",
       "      <td>4</td>\n",
       "      <td>120.0</td>\n",
       "      <td>79</td>\n",
       "      <td>2625</td>\n",
       "      <td>18.6</td>\n",
       "      <td>82</td>\n",
       "      <td>1</td>\n",
       "      <td>ford ranger</td>\n",
       "    </tr>\n",
       "    <tr>\n",
       "      <th>397</th>\n",
       "      <td>31.0</td>\n",
       "      <td>4</td>\n",
       "      <td>119.0</td>\n",
       "      <td>82</td>\n",
       "      <td>2720</td>\n",
       "      <td>19.4</td>\n",
       "      <td>82</td>\n",
       "      <td>1</td>\n",
       "      <td>chevy s-10</td>\n",
       "    </tr>\n",
       "  </tbody>\n",
       "</table>\n",
       "<p>392 rows × 9 columns</p>\n",
       "</div>"
      ],
      "text/plain": [
       "      mpg  cylinders  displacement horsepower  weight  acceleration  \\\n",
       "0    18.0          8         307.0        130    3504          12.0   \n",
       "1    15.0          8         350.0        165    3693          11.5   \n",
       "2    18.0          8         318.0        150    3436          11.0   \n",
       "3    16.0          8         304.0        150    3433          12.0   \n",
       "4    17.0          8         302.0        140    3449          10.5   \n",
       "..    ...        ...           ...        ...     ...           ...   \n",
       "393  27.0          4         140.0         86    2790          15.6   \n",
       "394  44.0          4          97.0         52    2130          24.6   \n",
       "395  32.0          4         135.0         84    2295          11.6   \n",
       "396  28.0          4         120.0         79    2625          18.6   \n",
       "397  31.0          4         119.0         82    2720          19.4   \n",
       "\n",
       "     model year  origin                   car name  \n",
       "0            70       1  chevrolet chevelle malibu  \n",
       "1            70       1          buick skylark 320  \n",
       "2            70       1         plymouth satellite  \n",
       "3            70       1              amc rebel sst  \n",
       "4            70       1                ford torino  \n",
       "..          ...     ...                        ...  \n",
       "393          82       1            ford mustang gl  \n",
       "394          82       2                  vw pickup  \n",
       "395          82       1              dodge rampage  \n",
       "396          82       1                ford ranger  \n",
       "397          82       1                 chevy s-10  \n",
       "\n",
       "[392 rows x 9 columns]"
      ]
     },
     "execution_count": 10,
     "metadata": {},
     "output_type": "execute_result"
    }
   ],
   "source": [
    "df[df['horsepower'].str.isnumeric()] # data points where the horsepower feature is numeric"
   ]
  },
  {
   "cell_type": "code",
   "execution_count": 11,
   "id": "06a9bb96",
   "metadata": {
    "execution": {
     "iopub.execute_input": "2024-12-02T12:52:08.973375Z",
     "iopub.status.busy": "2024-12-02T12:52:08.972966Z",
     "iopub.status.idle": "2024-12-02T12:52:08.989129Z",
     "shell.execute_reply": "2024-12-02T12:52:08.987762Z"
    },
    "papermill": {
     "duration": 0.03743,
     "end_time": "2024-12-02T12:52:08.991611",
     "exception": false,
     "start_time": "2024-12-02T12:52:08.954181",
     "status": "completed"
    },
    "tags": []
   },
   "outputs": [
    {
     "data": {
      "text/html": [
       "<div>\n",
       "<style scoped>\n",
       "    .dataframe tbody tr th:only-of-type {\n",
       "        vertical-align: middle;\n",
       "    }\n",
       "\n",
       "    .dataframe tbody tr th {\n",
       "        vertical-align: top;\n",
       "    }\n",
       "\n",
       "    .dataframe thead th {\n",
       "        text-align: right;\n",
       "    }\n",
       "</style>\n",
       "<table border=\"1\" class=\"dataframe\">\n",
       "  <thead>\n",
       "    <tr style=\"text-align: right;\">\n",
       "      <th></th>\n",
       "      <th>mpg</th>\n",
       "      <th>cylinders</th>\n",
       "      <th>displacement</th>\n",
       "      <th>horsepower</th>\n",
       "      <th>weight</th>\n",
       "      <th>acceleration</th>\n",
       "      <th>model year</th>\n",
       "      <th>origin</th>\n",
       "      <th>car name</th>\n",
       "    </tr>\n",
       "  </thead>\n",
       "  <tbody>\n",
       "    <tr>\n",
       "      <th>32</th>\n",
       "      <td>25.0</td>\n",
       "      <td>4</td>\n",
       "      <td>98.0</td>\n",
       "      <td>?</td>\n",
       "      <td>2046</td>\n",
       "      <td>19.0</td>\n",
       "      <td>71</td>\n",
       "      <td>1</td>\n",
       "      <td>ford pinto</td>\n",
       "    </tr>\n",
       "    <tr>\n",
       "      <th>126</th>\n",
       "      <td>21.0</td>\n",
       "      <td>6</td>\n",
       "      <td>200.0</td>\n",
       "      <td>?</td>\n",
       "      <td>2875</td>\n",
       "      <td>17.0</td>\n",
       "      <td>74</td>\n",
       "      <td>1</td>\n",
       "      <td>ford maverick</td>\n",
       "    </tr>\n",
       "    <tr>\n",
       "      <th>330</th>\n",
       "      <td>40.9</td>\n",
       "      <td>4</td>\n",
       "      <td>85.0</td>\n",
       "      <td>?</td>\n",
       "      <td>1835</td>\n",
       "      <td>17.3</td>\n",
       "      <td>80</td>\n",
       "      <td>2</td>\n",
       "      <td>renault lecar deluxe</td>\n",
       "    </tr>\n",
       "    <tr>\n",
       "      <th>336</th>\n",
       "      <td>23.6</td>\n",
       "      <td>4</td>\n",
       "      <td>140.0</td>\n",
       "      <td>?</td>\n",
       "      <td>2905</td>\n",
       "      <td>14.3</td>\n",
       "      <td>80</td>\n",
       "      <td>1</td>\n",
       "      <td>ford mustang cobra</td>\n",
       "    </tr>\n",
       "    <tr>\n",
       "      <th>354</th>\n",
       "      <td>34.5</td>\n",
       "      <td>4</td>\n",
       "      <td>100.0</td>\n",
       "      <td>?</td>\n",
       "      <td>2320</td>\n",
       "      <td>15.8</td>\n",
       "      <td>81</td>\n",
       "      <td>2</td>\n",
       "      <td>renault 18i</td>\n",
       "    </tr>\n",
       "    <tr>\n",
       "      <th>374</th>\n",
       "      <td>23.0</td>\n",
       "      <td>4</td>\n",
       "      <td>151.0</td>\n",
       "      <td>?</td>\n",
       "      <td>3035</td>\n",
       "      <td>20.5</td>\n",
       "      <td>82</td>\n",
       "      <td>1</td>\n",
       "      <td>amc concord dl</td>\n",
       "    </tr>\n",
       "  </tbody>\n",
       "</table>\n",
       "</div>"
      ],
      "text/plain": [
       "      mpg  cylinders  displacement horsepower  weight  acceleration  \\\n",
       "32   25.0          4          98.0          ?    2046          19.0   \n",
       "126  21.0          6         200.0          ?    2875          17.0   \n",
       "330  40.9          4          85.0          ?    1835          17.3   \n",
       "336  23.6          4         140.0          ?    2905          14.3   \n",
       "354  34.5          4         100.0          ?    2320          15.8   \n",
       "374  23.0          4         151.0          ?    3035          20.5   \n",
       "\n",
       "     model year  origin              car name  \n",
       "32           71       1            ford pinto  \n",
       "126          74       1         ford maverick  \n",
       "330          80       2  renault lecar deluxe  \n",
       "336          80       1    ford mustang cobra  \n",
       "354          81       2           renault 18i  \n",
       "374          82       1        amc concord dl  "
      ]
     },
     "execution_count": 11,
     "metadata": {},
     "output_type": "execute_result"
    }
   ],
   "source": [
    "df[df['horsepower'].str.isnumeric() == False] # data points where the horsepower feature is not numeric"
   ]
  },
  {
   "cell_type": "code",
   "execution_count": 12,
   "id": "0d1f3128",
   "metadata": {
    "execution": {
     "iopub.execute_input": "2024-12-02T12:52:09.030205Z",
     "iopub.status.busy": "2024-12-02T12:52:09.029373Z",
     "iopub.status.idle": "2024-12-02T12:52:09.035815Z",
     "shell.execute_reply": "2024-12-02T12:52:09.034717Z"
    },
    "papermill": {
     "duration": 0.028012,
     "end_time": "2024-12-02T12:52:09.037825",
     "exception": false,
     "start_time": "2024-12-02T12:52:09.009813",
     "status": "completed"
    },
    "tags": []
   },
   "outputs": [],
   "source": [
    "df['horsepower'] = df['horsepower'].replace('?', np.nan)"
   ]
  },
  {
   "cell_type": "markdown",
   "id": "c630cf79",
   "metadata": {
    "papermill": {
     "duration": 0.018729,
     "end_time": "2024-12-02T12:52:09.074255",
     "exception": false,
     "start_time": "2024-12-02T12:52:09.055526",
     "status": "completed"
    },
    "tags": []
   },
   "source": [
    "Recheck for the ? values in the horsepower column"
   ]
  },
  {
   "cell_type": "code",
   "execution_count": 13,
   "id": "01deb7bc",
   "metadata": {
    "execution": {
     "iopub.execute_input": "2024-12-02T12:52:09.112309Z",
     "iopub.status.busy": "2024-12-02T12:52:09.111361Z",
     "iopub.status.idle": "2024-12-02T12:52:09.124240Z",
     "shell.execute_reply": "2024-12-02T12:52:09.123163Z"
    },
    "papermill": {
     "duration": 0.034065,
     "end_time": "2024-12-02T12:52:09.126345",
     "exception": false,
     "start_time": "2024-12-02T12:52:09.092280",
     "status": "completed"
    },
    "tags": []
   },
   "outputs": [
    {
     "data": {
      "text/html": [
       "<div>\n",
       "<style scoped>\n",
       "    .dataframe tbody tr th:only-of-type {\n",
       "        vertical-align: middle;\n",
       "    }\n",
       "\n",
       "    .dataframe tbody tr th {\n",
       "        vertical-align: top;\n",
       "    }\n",
       "\n",
       "    .dataframe thead th {\n",
       "        text-align: right;\n",
       "    }\n",
       "</style>\n",
       "<table border=\"1\" class=\"dataframe\">\n",
       "  <thead>\n",
       "    <tr style=\"text-align: right;\">\n",
       "      <th></th>\n",
       "      <th>mpg</th>\n",
       "      <th>cylinders</th>\n",
       "      <th>displacement</th>\n",
       "      <th>horsepower</th>\n",
       "      <th>weight</th>\n",
       "      <th>acceleration</th>\n",
       "      <th>model year</th>\n",
       "      <th>origin</th>\n",
       "      <th>car name</th>\n",
       "    </tr>\n",
       "  </thead>\n",
       "  <tbody>\n",
       "  </tbody>\n",
       "</table>\n",
       "</div>"
      ],
      "text/plain": [
       "Empty DataFrame\n",
       "Columns: [mpg, cylinders, displacement, horsepower, weight, acceleration, model year, origin, car name]\n",
       "Index: []"
      ]
     },
     "execution_count": 13,
     "metadata": {},
     "output_type": "execute_result"
    }
   ],
   "source": [
    "df[df['horsepower'].str.isnumeric() == False] # data points where the horsepower feature is not numeric -> outputs no column"
   ]
  },
  {
   "cell_type": "code",
   "execution_count": 14,
   "id": "c84342a0",
   "metadata": {
    "execution": {
     "iopub.execute_input": "2024-12-02T12:52:09.164676Z",
     "iopub.status.busy": "2024-12-02T12:52:09.163355Z",
     "iopub.status.idle": "2024-12-02T12:52:09.175794Z",
     "shell.execute_reply": "2024-12-02T12:52:09.174485Z"
    },
    "papermill": {
     "duration": 0.034051,
     "end_time": "2024-12-02T12:52:09.178231",
     "exception": false,
     "start_time": "2024-12-02T12:52:09.144180",
     "status": "completed"
    },
    "tags": []
   },
   "outputs": [
    {
     "name": "stdout",
     "output_type": "stream",
     "text": [
      "<class 'pandas.core.frame.DataFrame'>\n",
      "RangeIndex: 398 entries, 0 to 397\n",
      "Data columns (total 9 columns):\n",
      " #   Column        Non-Null Count  Dtype  \n",
      "---  ------        --------------  -----  \n",
      " 0   mpg           398 non-null    float64\n",
      " 1   cylinders     398 non-null    int64  \n",
      " 2   displacement  398 non-null    float64\n",
      " 3   horsepower    392 non-null    object \n",
      " 4   weight        398 non-null    int64  \n",
      " 5   acceleration  398 non-null    float64\n",
      " 6   model year    398 non-null    int64  \n",
      " 7   origin        398 non-null    int64  \n",
      " 8   car name      398 non-null    object \n",
      "dtypes: float64(3), int64(4), object(2)\n",
      "memory usage: 28.1+ KB\n"
     ]
    }
   ],
   "source": [
    "df.info()"
   ]
  },
  {
   "cell_type": "markdown",
   "id": "23ebcb5e",
   "metadata": {
    "papermill": {
     "duration": 0.017498,
     "end_time": "2024-12-02T12:52:09.214209",
     "exception": false,
     "start_time": "2024-12-02T12:52:09.196711",
     "status": "completed"
    },
    "tags": []
   },
   "source": [
    "#### **Convert the object types to int**"
   ]
  },
  {
   "cell_type": "code",
   "execution_count": 15,
   "id": "02bfd26d",
   "metadata": {
    "execution": {
     "iopub.execute_input": "2024-12-02T12:52:09.251728Z",
     "iopub.status.busy": "2024-12-02T12:52:09.251280Z",
     "iopub.status.idle": "2024-12-02T12:52:09.258212Z",
     "shell.execute_reply": "2024-12-02T12:52:09.256546Z"
    },
    "papermill": {
     "duration": 0.028195,
     "end_time": "2024-12-02T12:52:09.260334",
     "exception": false,
     "start_time": "2024-12-02T12:52:09.232139",
     "status": "completed"
    },
    "tags": []
   },
   "outputs": [],
   "source": [
    "df['horsepower'] = pd.to_numeric(df['horsepower'], errors='coerce')"
   ]
  },
  {
   "cell_type": "code",
   "execution_count": 16,
   "id": "d859590d",
   "metadata": {
    "execution": {
     "iopub.execute_input": "2024-12-02T12:52:09.298535Z",
     "iopub.status.busy": "2024-12-02T12:52:09.297474Z",
     "iopub.status.idle": "2024-12-02T12:52:09.310221Z",
     "shell.execute_reply": "2024-12-02T12:52:09.308954Z"
    },
    "papermill": {
     "duration": 0.034001,
     "end_time": "2024-12-02T12:52:09.312462",
     "exception": false,
     "start_time": "2024-12-02T12:52:09.278461",
     "status": "completed"
    },
    "tags": []
   },
   "outputs": [
    {
     "name": "stdout",
     "output_type": "stream",
     "text": [
      "<class 'pandas.core.frame.DataFrame'>\n",
      "RangeIndex: 398 entries, 0 to 397\n",
      "Data columns (total 9 columns):\n",
      " #   Column        Non-Null Count  Dtype  \n",
      "---  ------        --------------  -----  \n",
      " 0   mpg           398 non-null    float64\n",
      " 1   cylinders     398 non-null    int64  \n",
      " 2   displacement  398 non-null    float64\n",
      " 3   horsepower    392 non-null    float64\n",
      " 4   weight        398 non-null    int64  \n",
      " 5   acceleration  398 non-null    float64\n",
      " 6   model year    398 non-null    int64  \n",
      " 7   origin        398 non-null    int64  \n",
      " 8   car name      398 non-null    object \n",
      "dtypes: float64(4), int64(4), object(1)\n",
      "memory usage: 28.1+ KB\n"
     ]
    }
   ],
   "source": [
    "df.info()"
   ]
  },
  {
   "cell_type": "code",
   "execution_count": 17,
   "id": "cf97500b",
   "metadata": {
    "execution": {
     "iopub.execute_input": "2024-12-02T12:52:09.351301Z",
     "iopub.status.busy": "2024-12-02T12:52:09.350924Z",
     "iopub.status.idle": "2024-12-02T12:52:09.358289Z",
     "shell.execute_reply": "2024-12-02T12:52:09.357104Z"
    },
    "papermill": {
     "duration": 0.029552,
     "end_time": "2024-12-02T12:52:09.360327",
     "exception": false,
     "start_time": "2024-12-02T12:52:09.330775",
     "status": "completed"
    },
    "tags": []
   },
   "outputs": [
    {
     "data": {
      "text/plain": [
       "6"
      ]
     },
     "execution_count": 17,
     "metadata": {},
     "output_type": "execute_result"
    }
   ],
   "source": [
    "df['horsepower'].isna().sum()"
   ]
  },
  {
   "cell_type": "code",
   "execution_count": 18,
   "id": "ce88772a",
   "metadata": {
    "execution": {
     "iopub.execute_input": "2024-12-02T12:52:09.398056Z",
     "iopub.status.busy": "2024-12-02T12:52:09.397674Z",
     "iopub.status.idle": "2024-12-02T12:52:09.413295Z",
     "shell.execute_reply": "2024-12-02T12:52:09.412216Z"
    },
    "papermill": {
     "duration": 0.038562,
     "end_time": "2024-12-02T12:52:09.416915",
     "exception": false,
     "start_time": "2024-12-02T12:52:09.378353",
     "status": "completed"
    },
    "tags": []
   },
   "outputs": [
    {
     "name": "stdout",
     "output_type": "stream",
     "text": [
      "entry old : chevrolet chevelle malibu\n",
      "entry transformed : chevrolet\n",
      "----\n",
      "entry old : buick skylark 320\n",
      "entry transformed : buick\n",
      "----\n",
      "entry old : plymouth satellite\n",
      "entry transformed : plymouth\n",
      "----\n",
      "entry old : amc rebel sst\n",
      "entry transformed : amc\n",
      "----\n",
      "entry old : ford torino\n",
      "entry transformed : ford\n",
      "----\n",
      "entry old : ford galaxie 500\n",
      "entry transformed : ford\n",
      "----\n",
      "entry old : chevrolet impala\n",
      "entry transformed : chevrolet\n",
      "----\n",
      "entry old : plymouth fury iii\n",
      "entry transformed : plymouth\n",
      "----\n",
      "entry old : pontiac catalina\n",
      "entry transformed : pontiac\n",
      "----\n",
      "entry old : amc ambassador dpl\n",
      "entry transformed : amc\n",
      "----\n",
      "entry old : dodge challenger se\n",
      "entry transformed : dodge\n",
      "----\n",
      "entry old : plymouth 'cuda 340\n",
      "entry transformed : plymouth\n",
      "----\n",
      "entry old : chevrolet monte carlo\n",
      "entry transformed : chevrolet\n",
      "----\n",
      "entry old : buick estate wagon (sw)\n",
      "entry transformed : buick\n",
      "----\n",
      "entry old : toyota corona mark ii\n",
      "entry transformed : toyota\n",
      "----\n",
      "entry old : plymouth duster\n",
      "entry transformed : plymouth\n",
      "----\n",
      "entry old : amc hornet\n",
      "entry transformed : amc\n",
      "----\n",
      "entry old : ford maverick\n",
      "entry transformed : ford\n",
      "----\n",
      "entry old : datsun pl510\n",
      "entry transformed : datsun\n",
      "----\n",
      "entry old : volkswagen 1131 deluxe sedan\n",
      "entry transformed : volkswagen\n",
      "----\n",
      "entry old : peugeot 504\n",
      "entry transformed : peugeot\n",
      "----\n",
      "entry old : audi 100 ls\n",
      "entry transformed : audi\n",
      "----\n",
      "entry old : saab 99e\n",
      "entry transformed : saab\n",
      "----\n",
      "entry old : bmw 2002\n",
      "entry transformed : bmw\n",
      "----\n",
      "entry old : amc gremlin\n",
      "entry transformed : amc\n",
      "----\n",
      "entry old : ford f250\n",
      "entry transformed : ford\n",
      "----\n",
      "entry old : chevy c20\n",
      "entry transformed : chevy\n",
      "----\n",
      "entry old : dodge d200\n",
      "entry transformed : dodge\n",
      "----\n",
      "entry old : hi 1200d\n",
      "entry transformed : hi\n",
      "----\n",
      "entry old : datsun pl510\n",
      "entry transformed : datsun\n",
      "----\n",
      "entry old : chevrolet vega 2300\n",
      "entry transformed : chevrolet\n",
      "----\n",
      "entry old : toyota corona\n",
      "entry transformed : toyota\n",
      "----\n",
      "entry old : ford pinto\n",
      "entry transformed : ford\n",
      "----\n",
      "entry old : amc gremlin\n",
      "entry transformed : amc\n",
      "----\n",
      "entry old : plymouth satellite custom\n",
      "entry transformed : plymouth\n",
      "----\n",
      "entry old : chevrolet chevelle malibu\n",
      "entry transformed : chevrolet\n",
      "----\n",
      "entry old : ford torino 500\n",
      "entry transformed : ford\n",
      "----\n",
      "entry old : amc matador\n",
      "entry transformed : amc\n",
      "----\n",
      "entry old : chevrolet impala\n",
      "entry transformed : chevrolet\n",
      "----\n",
      "entry old : pontiac catalina brougham\n",
      "entry transformed : pontiac\n",
      "----\n",
      "entry old : ford galaxie 500\n",
      "entry transformed : ford\n",
      "----\n",
      "entry old : plymouth fury iii\n",
      "entry transformed : plymouth\n",
      "----\n",
      "entry old : dodge monaco (sw)\n",
      "entry transformed : dodge\n",
      "----\n",
      "entry old : ford country squire (sw)\n",
      "entry transformed : ford\n",
      "----\n",
      "entry old : pontiac safari (sw)\n",
      "entry transformed : pontiac\n",
      "----\n",
      "entry old : amc hornet sportabout (sw)\n",
      "entry transformed : amc\n",
      "----\n",
      "entry old : chevrolet vega (sw)\n",
      "entry transformed : chevrolet\n",
      "----\n",
      "entry old : pontiac firebird\n",
      "entry transformed : pontiac\n",
      "----\n",
      "entry old : ford mustang\n",
      "entry transformed : ford\n",
      "----\n",
      "entry old : mercury capri 2000\n",
      "entry transformed : mercury\n",
      "----\n",
      "entry old : opel 1900\n",
      "entry transformed : opel\n",
      "----\n",
      "entry old : peugeot 304\n",
      "entry transformed : peugeot\n",
      "----\n",
      "entry old : fiat 124b\n",
      "entry transformed : fiat\n",
      "----\n",
      "entry old : toyota corolla 1200\n",
      "entry transformed : toyota\n",
      "----\n",
      "entry old : datsun 1200\n",
      "entry transformed : datsun\n",
      "----\n",
      "entry old : volkswagen model 111\n",
      "entry transformed : volkswagen\n",
      "----\n",
      "entry old : plymouth cricket\n",
      "entry transformed : plymouth\n",
      "----\n",
      "entry old : toyota corona hardtop\n",
      "entry transformed : toyota\n",
      "----\n",
      "entry old : dodge colt hardtop\n",
      "entry transformed : dodge\n",
      "----\n",
      "entry old : volkswagen type 3\n",
      "entry transformed : volkswagen\n",
      "----\n",
      "entry old : chevrolet vega\n",
      "entry transformed : chevrolet\n",
      "----\n",
      "entry old : ford pinto runabout\n",
      "entry transformed : ford\n",
      "----\n",
      "entry old : chevrolet impala\n",
      "entry transformed : chevrolet\n",
      "----\n",
      "entry old : pontiac catalina\n",
      "entry transformed : pontiac\n",
      "----\n",
      "entry old : plymouth fury iii\n",
      "entry transformed : plymouth\n",
      "----\n",
      "entry old : ford galaxie 500\n",
      "entry transformed : ford\n",
      "----\n",
      "entry old : amc ambassador sst\n",
      "entry transformed : amc\n",
      "----\n",
      "entry old : mercury marquis\n",
      "entry transformed : mercury\n",
      "----\n",
      "entry old : buick lesabre custom\n",
      "entry transformed : buick\n",
      "----\n",
      "entry old : oldsmobile delta 88 royale\n",
      "entry transformed : oldsmobile\n",
      "----\n",
      "entry old : chrysler newport royal\n",
      "entry transformed : chrysler\n",
      "----\n",
      "entry old : mazda rx2 coupe\n",
      "entry transformed : mazda\n",
      "----\n",
      "entry old : amc matador (sw)\n",
      "entry transformed : amc\n",
      "----\n",
      "entry old : chevrolet chevelle concours (sw)\n",
      "entry transformed : chevrolet\n",
      "----\n",
      "entry old : ford gran torino (sw)\n",
      "entry transformed : ford\n",
      "----\n",
      "entry old : plymouth satellite custom (sw)\n",
      "entry transformed : plymouth\n",
      "----\n",
      "entry old : volvo 145e (sw)\n",
      "entry transformed : volvo\n",
      "----\n",
      "entry old : volkswagen 411 (sw)\n",
      "entry transformed : volkswagen\n",
      "----\n",
      "entry old : peugeot 504 (sw)\n",
      "entry transformed : peugeot\n",
      "----\n",
      "entry old : renault 12 (sw)\n",
      "entry transformed : renault\n",
      "----\n",
      "entry old : ford pinto (sw)\n",
      "entry transformed : ford\n",
      "----\n",
      "entry old : datsun 510 (sw)\n",
      "entry transformed : datsun\n",
      "----\n",
      "entry old : toyouta corona mark ii (sw)\n",
      "entry transformed : toyouta\n",
      "----\n",
      "entry old : dodge colt (sw)\n",
      "entry transformed : dodge\n",
      "----\n",
      "entry old : toyota corolla 1600 (sw)\n",
      "entry transformed : toyota\n",
      "----\n",
      "entry old : buick century 350\n",
      "entry transformed : buick\n",
      "----\n",
      "entry old : amc matador\n",
      "entry transformed : amc\n",
      "----\n",
      "entry old : chevrolet malibu\n",
      "entry transformed : chevrolet\n",
      "----\n",
      "entry old : ford gran torino\n",
      "entry transformed : ford\n",
      "----\n",
      "entry old : dodge coronet custom\n",
      "entry transformed : dodge\n",
      "----\n",
      "entry old : mercury marquis brougham\n",
      "entry transformed : mercury\n",
      "----\n",
      "entry old : chevrolet caprice classic\n",
      "entry transformed : chevrolet\n",
      "----\n",
      "entry old : ford ltd\n",
      "entry transformed : ford\n",
      "----\n",
      "entry old : plymouth fury gran sedan\n",
      "entry transformed : plymouth\n",
      "----\n",
      "entry old : chrysler new yorker brougham\n",
      "entry transformed : chrysler\n",
      "----\n",
      "entry old : buick electra 225 custom\n",
      "entry transformed : buick\n",
      "----\n",
      "entry old : amc ambassador brougham\n",
      "entry transformed : amc\n",
      "----\n",
      "entry old : plymouth valiant\n",
      "entry transformed : plymouth\n",
      "----\n",
      "entry old : chevrolet nova custom\n",
      "entry transformed : chevrolet\n",
      "----\n",
      "entry old : amc hornet\n",
      "entry transformed : amc\n",
      "----\n",
      "entry old : ford maverick\n",
      "entry transformed : ford\n",
      "----\n",
      "entry old : plymouth duster\n",
      "entry transformed : plymouth\n",
      "----\n",
      "entry old : volkswagen super beetle\n",
      "entry transformed : volkswagen\n",
      "----\n",
      "entry old : chevrolet impala\n",
      "entry transformed : chevrolet\n",
      "----\n",
      "entry old : ford country\n",
      "entry transformed : ford\n",
      "----\n",
      "entry old : plymouth custom suburb\n",
      "entry transformed : plymouth\n",
      "----\n",
      "entry old : oldsmobile vista cruiser\n",
      "entry transformed : oldsmobile\n",
      "----\n",
      "entry old : amc gremlin\n",
      "entry transformed : amc\n",
      "----\n",
      "entry old : toyota carina\n",
      "entry transformed : toyota\n",
      "----\n",
      "entry old : chevrolet vega\n",
      "entry transformed : chevrolet\n",
      "----\n",
      "entry old : datsun 610\n",
      "entry transformed : datsun\n",
      "----\n",
      "entry old : maxda rx3\n",
      "entry transformed : maxda\n",
      "----\n",
      "entry old : ford pinto\n",
      "entry transformed : ford\n",
      "----\n",
      "entry old : mercury capri v6\n",
      "entry transformed : mercury\n",
      "----\n",
      "entry old : fiat 124 sport coupe\n",
      "entry transformed : fiat\n",
      "----\n",
      "entry old : chevrolet monte carlo s\n",
      "entry transformed : chevrolet\n",
      "----\n",
      "entry old : pontiac grand prix\n",
      "entry transformed : pontiac\n",
      "----\n",
      "entry old : fiat 128\n",
      "entry transformed : fiat\n",
      "----\n",
      "entry old : opel manta\n",
      "entry transformed : opel\n",
      "----\n",
      "entry old : audi 100ls\n",
      "entry transformed : audi\n",
      "----\n",
      "entry old : volvo 144ea\n",
      "entry transformed : volvo\n",
      "----\n",
      "entry old : dodge dart custom\n",
      "entry transformed : dodge\n",
      "----\n",
      "entry old : saab 99le\n",
      "entry transformed : saab\n",
      "----\n",
      "entry old : toyota mark ii\n",
      "entry transformed : toyota\n",
      "----\n",
      "entry old : oldsmobile omega\n",
      "entry transformed : oldsmobile\n",
      "----\n",
      "entry old : plymouth duster\n",
      "entry transformed : plymouth\n",
      "----\n",
      "entry old : ford maverick\n",
      "entry transformed : ford\n",
      "----\n",
      "entry old : amc hornet\n",
      "entry transformed : amc\n",
      "----\n",
      "entry old : chevrolet nova\n",
      "entry transformed : chevrolet\n",
      "----\n",
      "entry old : datsun b210\n",
      "entry transformed : datsun\n",
      "----\n",
      "entry old : ford pinto\n",
      "entry transformed : ford\n",
      "----\n",
      "entry old : toyota corolla 1200\n",
      "entry transformed : toyota\n",
      "----\n",
      "entry old : chevrolet vega\n",
      "entry transformed : chevrolet\n",
      "----\n",
      "entry old : chevrolet chevelle malibu classic\n",
      "entry transformed : chevrolet\n",
      "----\n",
      "entry old : amc matador\n",
      "entry transformed : amc\n",
      "----\n",
      "entry old : plymouth satellite sebring\n",
      "entry transformed : plymouth\n",
      "----\n",
      "entry old : ford gran torino\n",
      "entry transformed : ford\n",
      "----\n",
      "entry old : buick century luxus (sw)\n",
      "entry transformed : buick\n",
      "----\n",
      "entry old : dodge coronet custom (sw)\n",
      "entry transformed : dodge\n",
      "----\n",
      "entry old : ford gran torino (sw)\n",
      "entry transformed : ford\n",
      "----\n",
      "entry old : amc matador (sw)\n",
      "entry transformed : amc\n",
      "----\n",
      "entry old : audi fox\n",
      "entry transformed : audi\n",
      "----\n",
      "entry old : volkswagen dasher\n",
      "entry transformed : volkswagen\n",
      "----\n",
      "entry old : opel manta\n",
      "entry transformed : opel\n",
      "----\n",
      "entry old : toyota corona\n",
      "entry transformed : toyota\n",
      "----\n",
      "entry old : datsun 710\n",
      "entry transformed : datsun\n",
      "----\n",
      "entry old : dodge colt\n",
      "entry transformed : dodge\n",
      "----\n",
      "entry old : fiat 128\n",
      "entry transformed : fiat\n",
      "----\n",
      "entry old : fiat 124 tc\n",
      "entry transformed : fiat\n",
      "----\n",
      "entry old : honda civic\n",
      "entry transformed : honda\n",
      "----\n",
      "entry old : subaru\n",
      "entry transformed : subaru\n",
      "----\n",
      "entry old : fiat x1.9\n",
      "entry transformed : fiat\n",
      "----\n",
      "entry old : plymouth valiant custom\n",
      "entry transformed : plymouth\n",
      "----\n",
      "entry old : chevrolet nova\n",
      "entry transformed : chevrolet\n",
      "----\n",
      "entry old : mercury monarch\n",
      "entry transformed : mercury\n",
      "----\n",
      "entry old : ford maverick\n",
      "entry transformed : ford\n",
      "----\n",
      "entry old : pontiac catalina\n",
      "entry transformed : pontiac\n",
      "----\n",
      "entry old : chevrolet bel air\n",
      "entry transformed : chevrolet\n",
      "----\n",
      "entry old : plymouth grand fury\n",
      "entry transformed : plymouth\n",
      "----\n",
      "entry old : ford ltd\n",
      "entry transformed : ford\n",
      "----\n",
      "entry old : buick century\n",
      "entry transformed : buick\n",
      "----\n",
      "entry old : chevroelt chevelle malibu\n",
      "entry transformed : chevroelt\n",
      "----\n",
      "entry old : amc matador\n",
      "entry transformed : amc\n",
      "----\n",
      "entry old : plymouth fury\n",
      "entry transformed : plymouth\n",
      "----\n",
      "entry old : buick skyhawk\n",
      "entry transformed : buick\n",
      "----\n",
      "entry old : chevrolet monza 2+2\n",
      "entry transformed : chevrolet\n",
      "----\n",
      "entry old : ford mustang ii\n",
      "entry transformed : ford\n",
      "----\n",
      "entry old : toyota corolla\n",
      "entry transformed : toyota\n",
      "----\n",
      "entry old : ford pinto\n",
      "entry transformed : ford\n",
      "----\n",
      "entry old : amc gremlin\n",
      "entry transformed : amc\n",
      "----\n",
      "entry old : pontiac astro\n",
      "entry transformed : pontiac\n",
      "----\n",
      "entry old : toyota corona\n",
      "entry transformed : toyota\n",
      "----\n",
      "entry old : volkswagen dasher\n",
      "entry transformed : volkswagen\n",
      "----\n",
      "entry old : datsun 710\n",
      "entry transformed : datsun\n",
      "----\n",
      "entry old : ford pinto\n",
      "entry transformed : ford\n",
      "----\n",
      "entry old : volkswagen rabbit\n",
      "entry transformed : volkswagen\n",
      "----\n",
      "entry old : amc pacer\n",
      "entry transformed : amc\n",
      "----\n",
      "entry old : audi 100ls\n",
      "entry transformed : audi\n",
      "----\n",
      "entry old : peugeot 504\n",
      "entry transformed : peugeot\n",
      "----\n",
      "entry old : volvo 244dl\n",
      "entry transformed : volvo\n",
      "----\n",
      "entry old : saab 99le\n",
      "entry transformed : saab\n",
      "----\n",
      "entry old : honda civic cvcc\n",
      "entry transformed : honda\n",
      "----\n",
      "entry old : fiat 131\n",
      "entry transformed : fiat\n",
      "----\n",
      "entry old : opel 1900\n",
      "entry transformed : opel\n",
      "----\n",
      "entry old : capri ii\n",
      "entry transformed : capri\n",
      "----\n",
      "entry old : dodge colt\n",
      "entry transformed : dodge\n",
      "----\n",
      "entry old : renault 12tl\n",
      "entry transformed : renault\n",
      "----\n",
      "entry old : chevrolet chevelle malibu classic\n",
      "entry transformed : chevrolet\n",
      "----\n",
      "entry old : dodge coronet brougham\n",
      "entry transformed : dodge\n",
      "----\n",
      "entry old : amc matador\n",
      "entry transformed : amc\n",
      "----\n",
      "entry old : ford gran torino\n",
      "entry transformed : ford\n",
      "----\n",
      "entry old : plymouth valiant\n",
      "entry transformed : plymouth\n",
      "----\n",
      "entry old : chevrolet nova\n",
      "entry transformed : chevrolet\n",
      "----\n",
      "entry old : ford maverick\n",
      "entry transformed : ford\n",
      "----\n",
      "entry old : amc hornet\n",
      "entry transformed : amc\n",
      "----\n",
      "entry old : chevrolet chevette\n",
      "entry transformed : chevrolet\n",
      "----\n",
      "entry old : chevrolet woody\n",
      "entry transformed : chevrolet\n",
      "----\n",
      "entry old : vw rabbit\n",
      "entry transformed : vw\n",
      "----\n",
      "entry old : honda civic\n",
      "entry transformed : honda\n",
      "----\n",
      "entry old : dodge aspen se\n",
      "entry transformed : dodge\n",
      "----\n",
      "entry old : ford granada ghia\n",
      "entry transformed : ford\n",
      "----\n",
      "entry old : pontiac ventura sj\n",
      "entry transformed : pontiac\n",
      "----\n",
      "entry old : amc pacer d/l\n",
      "entry transformed : amc\n",
      "----\n",
      "entry old : volkswagen rabbit\n",
      "entry transformed : volkswagen\n",
      "----\n",
      "entry old : datsun b-210\n",
      "entry transformed : datsun\n",
      "----\n",
      "entry old : toyota corolla\n",
      "entry transformed : toyota\n",
      "----\n",
      "entry old : ford pinto\n",
      "entry transformed : ford\n",
      "----\n",
      "entry old : volvo 245\n",
      "entry transformed : volvo\n",
      "----\n",
      "entry old : plymouth volare premier v8\n",
      "entry transformed : plymouth\n",
      "----\n",
      "entry old : peugeot 504\n",
      "entry transformed : peugeot\n",
      "----\n",
      "entry old : toyota mark ii\n",
      "entry transformed : toyota\n",
      "----\n",
      "entry old : mercedes-benz 280s\n",
      "entry transformed : mercedes-benz\n",
      "----\n",
      "entry old : cadillac seville\n",
      "entry transformed : cadillac\n",
      "----\n",
      "entry old : chevy c10\n",
      "entry transformed : chevy\n",
      "----\n",
      "entry old : ford f108\n",
      "entry transformed : ford\n",
      "----\n",
      "entry old : dodge d100\n",
      "entry transformed : dodge\n",
      "----\n",
      "entry old : honda accord cvcc\n",
      "entry transformed : honda\n",
      "----\n",
      "entry old : buick opel isuzu deluxe\n",
      "entry transformed : buick\n",
      "----\n",
      "entry old : renault 5 gtl\n",
      "entry transformed : renault\n",
      "----\n",
      "entry old : plymouth arrow gs\n",
      "entry transformed : plymouth\n",
      "----\n",
      "entry old : datsun f-10 hatchback\n",
      "entry transformed : datsun\n",
      "----\n",
      "entry old : chevrolet caprice classic\n",
      "entry transformed : chevrolet\n",
      "----\n",
      "entry old : oldsmobile cutlass supreme\n",
      "entry transformed : oldsmobile\n",
      "----\n",
      "entry old : dodge monaco brougham\n",
      "entry transformed : dodge\n",
      "----\n",
      "entry old : mercury cougar brougham\n",
      "entry transformed : mercury\n",
      "----\n",
      "entry old : chevrolet concours\n",
      "entry transformed : chevrolet\n",
      "----\n",
      "entry old : buick skylark\n",
      "entry transformed : buick\n",
      "----\n",
      "entry old : plymouth volare custom\n",
      "entry transformed : plymouth\n",
      "----\n",
      "entry old : ford granada\n",
      "entry transformed : ford\n",
      "----\n",
      "entry old : pontiac grand prix lj\n",
      "entry transformed : pontiac\n",
      "----\n",
      "entry old : chevrolet monte carlo landau\n",
      "entry transformed : chevrolet\n",
      "----\n",
      "entry old : chrysler cordoba\n",
      "entry transformed : chrysler\n",
      "----\n",
      "entry old : ford thunderbird\n",
      "entry transformed : ford\n",
      "----\n",
      "entry old : volkswagen rabbit custom\n",
      "entry transformed : volkswagen\n",
      "----\n",
      "entry old : pontiac sunbird coupe\n",
      "entry transformed : pontiac\n",
      "----\n",
      "entry old : toyota corolla liftback\n",
      "entry transformed : toyota\n",
      "----\n",
      "entry old : ford mustang ii 2+2\n",
      "entry transformed : ford\n",
      "----\n",
      "entry old : chevrolet chevette\n",
      "entry transformed : chevrolet\n",
      "----\n",
      "entry old : dodge colt m/m\n",
      "entry transformed : dodge\n",
      "----\n",
      "entry old : subaru dl\n",
      "entry transformed : subaru\n",
      "----\n",
      "entry old : volkswagen dasher\n",
      "entry transformed : volkswagen\n",
      "----\n",
      "entry old : datsun 810\n",
      "entry transformed : datsun\n",
      "----\n",
      "entry old : bmw 320i\n",
      "entry transformed : bmw\n",
      "----\n",
      "entry old : mazda rx-4\n",
      "entry transformed : mazda\n",
      "----\n",
      "entry old : volkswagen rabbit custom diesel\n",
      "entry transformed : volkswagen\n",
      "----\n",
      "entry old : ford fiesta\n",
      "entry transformed : ford\n",
      "----\n",
      "entry old : mazda glc deluxe\n",
      "entry transformed : mazda\n",
      "----\n",
      "entry old : datsun b210 gx\n",
      "entry transformed : datsun\n",
      "----\n",
      "entry old : honda civic cvcc\n",
      "entry transformed : honda\n",
      "----\n",
      "entry old : oldsmobile cutlass salon brougham\n",
      "entry transformed : oldsmobile\n",
      "----\n",
      "entry old : dodge diplomat\n",
      "entry transformed : dodge\n",
      "----\n",
      "entry old : mercury monarch ghia\n",
      "entry transformed : mercury\n",
      "----\n",
      "entry old : pontiac phoenix lj\n",
      "entry transformed : pontiac\n",
      "----\n",
      "entry old : chevrolet malibu\n",
      "entry transformed : chevrolet\n",
      "----\n",
      "entry old : ford fairmont (auto)\n",
      "entry transformed : ford\n",
      "----\n",
      "entry old : ford fairmont (man)\n",
      "entry transformed : ford\n",
      "----\n",
      "entry old : plymouth volare\n",
      "entry transformed : plymouth\n",
      "----\n",
      "entry old : amc concord\n",
      "entry transformed : amc\n",
      "----\n",
      "entry old : buick century special\n",
      "entry transformed : buick\n",
      "----\n",
      "entry old : mercury zephyr\n",
      "entry transformed : mercury\n",
      "----\n",
      "entry old : dodge aspen\n",
      "entry transformed : dodge\n",
      "----\n",
      "entry old : amc concord d/l\n",
      "entry transformed : amc\n",
      "----\n",
      "entry old : chevrolet monte carlo landau\n",
      "entry transformed : chevrolet\n",
      "----\n",
      "entry old : buick regal sport coupe (turbo)\n",
      "entry transformed : buick\n",
      "----\n",
      "entry old : ford futura\n",
      "entry transformed : ford\n",
      "----\n",
      "entry old : dodge magnum xe\n",
      "entry transformed : dodge\n",
      "----\n",
      "entry old : chevrolet chevette\n",
      "entry transformed : chevrolet\n",
      "----\n",
      "entry old : toyota corona\n",
      "entry transformed : toyota\n",
      "----\n",
      "entry old : datsun 510\n",
      "entry transformed : datsun\n",
      "----\n",
      "entry old : dodge omni\n",
      "entry transformed : dodge\n",
      "----\n",
      "entry old : toyota celica gt liftback\n",
      "entry transformed : toyota\n",
      "----\n",
      "entry old : plymouth sapporo\n",
      "entry transformed : plymouth\n",
      "----\n",
      "entry old : oldsmobile starfire sx\n",
      "entry transformed : oldsmobile\n",
      "----\n",
      "entry old : datsun 200-sx\n",
      "entry transformed : datsun\n",
      "----\n",
      "entry old : audi 5000\n",
      "entry transformed : audi\n",
      "----\n",
      "entry old : volvo 264gl\n",
      "entry transformed : volvo\n",
      "----\n",
      "entry old : saab 99gle\n",
      "entry transformed : saab\n",
      "----\n",
      "entry old : peugeot 604sl\n",
      "entry transformed : peugeot\n",
      "----\n",
      "entry old : volkswagen scirocco\n",
      "entry transformed : volkswagen\n",
      "----\n",
      "entry old : honda accord lx\n",
      "entry transformed : honda\n",
      "----\n",
      "entry old : pontiac lemans v6\n",
      "entry transformed : pontiac\n",
      "----\n",
      "entry old : mercury zephyr 6\n",
      "entry transformed : mercury\n",
      "----\n",
      "entry old : ford fairmont 4\n",
      "entry transformed : ford\n",
      "----\n",
      "entry old : amc concord dl 6\n",
      "entry transformed : amc\n",
      "----\n",
      "entry old : dodge aspen 6\n",
      "entry transformed : dodge\n",
      "----\n",
      "entry old : chevrolet caprice classic\n",
      "entry transformed : chevrolet\n",
      "----\n",
      "entry old : ford ltd landau\n",
      "entry transformed : ford\n",
      "----\n",
      "entry old : mercury grand marquis\n",
      "entry transformed : mercury\n",
      "----\n",
      "entry old : dodge st. regis\n",
      "entry transformed : dodge\n",
      "----\n",
      "entry old : buick estate wagon (sw)\n",
      "entry transformed : buick\n",
      "----\n",
      "entry old : ford country squire (sw)\n",
      "entry transformed : ford\n",
      "----\n",
      "entry old : chevrolet malibu classic (sw)\n",
      "entry transformed : chevrolet\n",
      "----\n",
      "entry old : chrysler lebaron town @ country (sw)\n",
      "entry transformed : chrysler\n",
      "----\n",
      "entry old : vw rabbit custom\n",
      "entry transformed : vw\n",
      "----\n",
      "entry old : maxda glc deluxe\n",
      "entry transformed : maxda\n",
      "----\n",
      "entry old : dodge colt hatchback custom\n",
      "entry transformed : dodge\n",
      "----\n",
      "entry old : amc spirit dl\n",
      "entry transformed : amc\n",
      "----\n",
      "entry old : mercedes benz 300d\n",
      "entry transformed : mercedes\n",
      "----\n",
      "entry old : cadillac eldorado\n",
      "entry transformed : cadillac\n",
      "----\n",
      "entry old : peugeot 504\n",
      "entry transformed : peugeot\n",
      "----\n",
      "entry old : oldsmobile cutlass salon brougham\n",
      "entry transformed : oldsmobile\n",
      "----\n",
      "entry old : plymouth horizon\n",
      "entry transformed : plymouth\n",
      "----\n",
      "entry old : plymouth horizon tc3\n",
      "entry transformed : plymouth\n",
      "----\n",
      "entry old : datsun 210\n",
      "entry transformed : datsun\n",
      "----\n",
      "entry old : fiat strada custom\n",
      "entry transformed : fiat\n",
      "----\n",
      "entry old : buick skylark limited\n",
      "entry transformed : buick\n",
      "----\n",
      "entry old : chevrolet citation\n",
      "entry transformed : chevrolet\n",
      "----\n",
      "entry old : oldsmobile omega brougham\n",
      "entry transformed : oldsmobile\n",
      "----\n",
      "entry old : pontiac phoenix\n",
      "entry transformed : pontiac\n",
      "----\n",
      "entry old : vw rabbit\n",
      "entry transformed : vw\n",
      "----\n",
      "entry old : toyota corolla tercel\n",
      "entry transformed : toyota\n",
      "----\n",
      "entry old : chevrolet chevette\n",
      "entry transformed : chevrolet\n",
      "----\n",
      "entry old : datsun 310\n",
      "entry transformed : datsun\n",
      "----\n",
      "entry old : chevrolet citation\n",
      "entry transformed : chevrolet\n",
      "----\n",
      "entry old : ford fairmont\n",
      "entry transformed : ford\n",
      "----\n",
      "entry old : amc concord\n",
      "entry transformed : amc\n",
      "----\n",
      "entry old : dodge aspen\n",
      "entry transformed : dodge\n",
      "----\n",
      "entry old : audi 4000\n",
      "entry transformed : audi\n",
      "----\n",
      "entry old : toyota corona liftback\n",
      "entry transformed : toyota\n",
      "----\n",
      "entry old : mazda 626\n",
      "entry transformed : mazda\n",
      "----\n",
      "entry old : datsun 510 hatchback\n",
      "entry transformed : datsun\n",
      "----\n",
      "entry old : toyota corolla\n",
      "entry transformed : toyota\n",
      "----\n",
      "entry old : mazda glc\n",
      "entry transformed : mazda\n",
      "----\n",
      "entry old : dodge colt\n",
      "entry transformed : dodge\n",
      "----\n",
      "entry old : datsun 210\n",
      "entry transformed : datsun\n",
      "----\n",
      "entry old : vw rabbit c (diesel)\n",
      "entry transformed : vw\n",
      "----\n",
      "entry old : vw dasher (diesel)\n",
      "entry transformed : vw\n",
      "----\n",
      "entry old : audi 5000s (diesel)\n",
      "entry transformed : audi\n",
      "----\n",
      "entry old : mercedes-benz 240d\n",
      "entry transformed : mercedes-benz\n",
      "----\n",
      "entry old : honda civic 1500 gl\n",
      "entry transformed : honda\n",
      "----\n",
      "entry old : renault lecar deluxe\n",
      "entry transformed : renault\n",
      "----\n",
      "entry old : subaru dl\n",
      "entry transformed : subaru\n",
      "----\n",
      "entry old : vokswagen rabbit\n",
      "entry transformed : vokswagen\n",
      "----\n",
      "entry old : datsun 280-zx\n",
      "entry transformed : datsun\n",
      "----\n",
      "entry old : mazda rx-7 gs\n",
      "entry transformed : mazda\n",
      "----\n",
      "entry old : triumph tr7 coupe\n",
      "entry transformed : triumph\n",
      "----\n",
      "entry old : ford mustang cobra\n",
      "entry transformed : ford\n",
      "----\n",
      "entry old : honda accord\n",
      "entry transformed : honda\n",
      "----\n",
      "entry old : plymouth reliant\n",
      "entry transformed : plymouth\n",
      "----\n",
      "entry old : buick skylark\n",
      "entry transformed : buick\n",
      "----\n",
      "entry old : dodge aries wagon (sw)\n",
      "entry transformed : dodge\n",
      "----\n",
      "entry old : chevrolet citation\n",
      "entry transformed : chevrolet\n",
      "----\n",
      "entry old : plymouth reliant\n",
      "entry transformed : plymouth\n",
      "----\n",
      "entry old : toyota starlet\n",
      "entry transformed : toyota\n",
      "----\n",
      "entry old : plymouth champ\n",
      "entry transformed : plymouth\n",
      "----\n",
      "entry old : honda civic 1300\n",
      "entry transformed : honda\n",
      "----\n",
      "entry old : subaru\n",
      "entry transformed : subaru\n",
      "----\n",
      "entry old : datsun 210 mpg\n",
      "entry transformed : datsun\n",
      "----\n",
      "entry old : toyota tercel\n",
      "entry transformed : toyota\n",
      "----\n",
      "entry old : mazda glc 4\n",
      "entry transformed : mazda\n",
      "----\n",
      "entry old : plymouth horizon 4\n",
      "entry transformed : plymouth\n",
      "----\n",
      "entry old : ford escort 4w\n",
      "entry transformed : ford\n",
      "----\n",
      "entry old : ford escort 2h\n",
      "entry transformed : ford\n",
      "----\n",
      "entry old : volkswagen jetta\n",
      "entry transformed : volkswagen\n",
      "----\n",
      "entry old : renault 18i\n",
      "entry transformed : renault\n",
      "----\n",
      "entry old : honda prelude\n",
      "entry transformed : honda\n",
      "----\n",
      "entry old : toyota corolla\n",
      "entry transformed : toyota\n",
      "----\n",
      "entry old : datsun 200sx\n",
      "entry transformed : datsun\n",
      "----\n",
      "entry old : mazda 626\n",
      "entry transformed : mazda\n",
      "----\n",
      "entry old : peugeot 505s turbo diesel\n",
      "entry transformed : peugeot\n",
      "----\n",
      "entry old : volvo diesel\n",
      "entry transformed : volvo\n",
      "----\n",
      "entry old : toyota cressida\n",
      "entry transformed : toyota\n",
      "----\n",
      "entry old : datsun 810 maxima\n",
      "entry transformed : datsun\n",
      "----\n",
      "entry old : buick century\n",
      "entry transformed : buick\n",
      "----\n",
      "entry old : oldsmobile cutlass ls\n",
      "entry transformed : oldsmobile\n",
      "----\n",
      "entry old : ford granada gl\n",
      "entry transformed : ford\n",
      "----\n",
      "entry old : chrysler lebaron salon\n",
      "entry transformed : chrysler\n",
      "----\n",
      "entry old : chevrolet cavalier\n",
      "entry transformed : chevrolet\n",
      "----\n",
      "entry old : chevrolet cavalier wagon\n",
      "entry transformed : chevrolet\n",
      "----\n",
      "entry old : chevrolet cavalier 2-door\n",
      "entry transformed : chevrolet\n",
      "----\n",
      "entry old : pontiac j2000 se hatchback\n",
      "entry transformed : pontiac\n",
      "----\n",
      "entry old : dodge aries se\n",
      "entry transformed : dodge\n",
      "----\n",
      "entry old : pontiac phoenix\n",
      "entry transformed : pontiac\n",
      "----\n",
      "entry old : ford fairmont futura\n",
      "entry transformed : ford\n",
      "----\n",
      "entry old : amc concord dl\n",
      "entry transformed : amc\n",
      "----\n",
      "entry old : volkswagen rabbit l\n",
      "entry transformed : volkswagen\n",
      "----\n",
      "entry old : mazda glc custom l\n",
      "entry transformed : mazda\n",
      "----\n",
      "entry old : mazda glc custom\n",
      "entry transformed : mazda\n",
      "----\n",
      "entry old : plymouth horizon miser\n",
      "entry transformed : plymouth\n",
      "----\n",
      "entry old : mercury lynx l\n",
      "entry transformed : mercury\n",
      "----\n",
      "entry old : nissan stanza xe\n",
      "entry transformed : nissan\n",
      "----\n",
      "entry old : honda accord\n",
      "entry transformed : honda\n",
      "----\n",
      "entry old : toyota corolla\n",
      "entry transformed : toyota\n",
      "----\n",
      "entry old : honda civic\n",
      "entry transformed : honda\n",
      "----\n",
      "entry old : honda civic (auto)\n",
      "entry transformed : honda\n",
      "----\n",
      "entry old : datsun 310 gx\n",
      "entry transformed : datsun\n",
      "----\n",
      "entry old : buick century limited\n",
      "entry transformed : buick\n",
      "----\n",
      "entry old : oldsmobile cutlass ciera (diesel)\n",
      "entry transformed : oldsmobile\n",
      "----\n",
      "entry old : chrysler lebaron medallion\n",
      "entry transformed : chrysler\n",
      "----\n",
      "entry old : ford granada l\n",
      "entry transformed : ford\n",
      "----\n",
      "entry old : toyota celica gt\n",
      "entry transformed : toyota\n",
      "----\n",
      "entry old : dodge charger 2.2\n",
      "entry transformed : dodge\n",
      "----\n",
      "entry old : chevrolet camaro\n",
      "entry transformed : chevrolet\n",
      "----\n",
      "entry old : ford mustang gl\n",
      "entry transformed : ford\n",
      "----\n",
      "entry old : vw pickup\n",
      "entry transformed : vw\n",
      "----\n",
      "entry old : dodge rampage\n",
      "entry transformed : dodge\n",
      "----\n",
      "entry old : ford ranger\n",
      "entry transformed : ford\n",
      "----\n",
      "entry old : chevy s-10\n",
      "entry transformed : chevy\n",
      "----\n"
     ]
    }
   ],
   "source": [
    "for entry in df['car name']:\n",
    "    print(f\"entry old : {entry}\")\n",
    "    entry = entry.split()[0] # based on the first name -> which is the company.\n",
    "    print(f\"entry transformed : {entry}\")\n",
    "    print(\"----\")"
   ]
  },
  {
   "cell_type": "code",
   "execution_count": 19,
   "id": "4dcd03f0",
   "metadata": {
    "execution": {
     "iopub.execute_input": "2024-12-02T12:52:09.462467Z",
     "iopub.status.busy": "2024-12-02T12:52:09.462046Z",
     "iopub.status.idle": "2024-12-02T12:52:09.470362Z",
     "shell.execute_reply": "2024-12-02T12:52:09.469043Z"
    },
    "papermill": {
     "duration": 0.032835,
     "end_time": "2024-12-02T12:52:09.472593",
     "exception": false,
     "start_time": "2024-12-02T12:52:09.439758",
     "status": "completed"
    },
    "tags": []
   },
   "outputs": [],
   "source": [
    "df['Brand'] = df['car name'].str.split().str[0]"
   ]
  },
  {
   "cell_type": "code",
   "execution_count": 20,
   "id": "9bb01bf7",
   "metadata": {
    "execution": {
     "iopub.execute_input": "2024-12-02T12:52:09.512913Z",
     "iopub.status.busy": "2024-12-02T12:52:09.511752Z",
     "iopub.status.idle": "2024-12-02T12:52:09.518810Z",
     "shell.execute_reply": "2024-12-02T12:52:09.517540Z"
    },
    "papermill": {
     "duration": 0.029404,
     "end_time": "2024-12-02T12:52:09.520961",
     "exception": false,
     "start_time": "2024-12-02T12:52:09.491557",
     "status": "completed"
    },
    "tags": []
   },
   "outputs": [],
   "source": [
    "df = df.drop(columns=['car name'])"
   ]
  },
  {
   "cell_type": "code",
   "execution_count": 21,
   "id": "728da8cb",
   "metadata": {
    "execution": {
     "iopub.execute_input": "2024-12-02T12:52:09.560571Z",
     "iopub.status.busy": "2024-12-02T12:52:09.560161Z",
     "iopub.status.idle": "2024-12-02T12:52:09.575869Z",
     "shell.execute_reply": "2024-12-02T12:52:09.574584Z"
    },
    "papermill": {
     "duration": 0.037904,
     "end_time": "2024-12-02T12:52:09.577956",
     "exception": false,
     "start_time": "2024-12-02T12:52:09.540052",
     "status": "completed"
    },
    "tags": []
   },
   "outputs": [
    {
     "data": {
      "text/html": [
       "<div>\n",
       "<style scoped>\n",
       "    .dataframe tbody tr th:only-of-type {\n",
       "        vertical-align: middle;\n",
       "    }\n",
       "\n",
       "    .dataframe tbody tr th {\n",
       "        vertical-align: top;\n",
       "    }\n",
       "\n",
       "    .dataframe thead th {\n",
       "        text-align: right;\n",
       "    }\n",
       "</style>\n",
       "<table border=\"1\" class=\"dataframe\">\n",
       "  <thead>\n",
       "    <tr style=\"text-align: right;\">\n",
       "      <th></th>\n",
       "      <th>mpg</th>\n",
       "      <th>cylinders</th>\n",
       "      <th>displacement</th>\n",
       "      <th>horsepower</th>\n",
       "      <th>weight</th>\n",
       "      <th>acceleration</th>\n",
       "      <th>model year</th>\n",
       "      <th>origin</th>\n",
       "      <th>Brand</th>\n",
       "    </tr>\n",
       "  </thead>\n",
       "  <tbody>\n",
       "    <tr>\n",
       "      <th>0</th>\n",
       "      <td>18.0</td>\n",
       "      <td>8</td>\n",
       "      <td>307.0</td>\n",
       "      <td>130.0</td>\n",
       "      <td>3504</td>\n",
       "      <td>12.0</td>\n",
       "      <td>70</td>\n",
       "      <td>1</td>\n",
       "      <td>chevrolet</td>\n",
       "    </tr>\n",
       "    <tr>\n",
       "      <th>1</th>\n",
       "      <td>15.0</td>\n",
       "      <td>8</td>\n",
       "      <td>350.0</td>\n",
       "      <td>165.0</td>\n",
       "      <td>3693</td>\n",
       "      <td>11.5</td>\n",
       "      <td>70</td>\n",
       "      <td>1</td>\n",
       "      <td>buick</td>\n",
       "    </tr>\n",
       "    <tr>\n",
       "      <th>2</th>\n",
       "      <td>18.0</td>\n",
       "      <td>8</td>\n",
       "      <td>318.0</td>\n",
       "      <td>150.0</td>\n",
       "      <td>3436</td>\n",
       "      <td>11.0</td>\n",
       "      <td>70</td>\n",
       "      <td>1</td>\n",
       "      <td>plymouth</td>\n",
       "    </tr>\n",
       "    <tr>\n",
       "      <th>3</th>\n",
       "      <td>16.0</td>\n",
       "      <td>8</td>\n",
       "      <td>304.0</td>\n",
       "      <td>150.0</td>\n",
       "      <td>3433</td>\n",
       "      <td>12.0</td>\n",
       "      <td>70</td>\n",
       "      <td>1</td>\n",
       "      <td>amc</td>\n",
       "    </tr>\n",
       "    <tr>\n",
       "      <th>4</th>\n",
       "      <td>17.0</td>\n",
       "      <td>8</td>\n",
       "      <td>302.0</td>\n",
       "      <td>140.0</td>\n",
       "      <td>3449</td>\n",
       "      <td>10.5</td>\n",
       "      <td>70</td>\n",
       "      <td>1</td>\n",
       "      <td>ford</td>\n",
       "    </tr>\n",
       "  </tbody>\n",
       "</table>\n",
       "</div>"
      ],
      "text/plain": [
       "    mpg  cylinders  displacement  horsepower  weight  acceleration  \\\n",
       "0  18.0          8         307.0       130.0    3504          12.0   \n",
       "1  15.0          8         350.0       165.0    3693          11.5   \n",
       "2  18.0          8         318.0       150.0    3436          11.0   \n",
       "3  16.0          8         304.0       150.0    3433          12.0   \n",
       "4  17.0          8         302.0       140.0    3449          10.5   \n",
       "\n",
       "   model year  origin      Brand  \n",
       "0          70       1  chevrolet  \n",
       "1          70       1      buick  \n",
       "2          70       1   plymouth  \n",
       "3          70       1        amc  \n",
       "4          70       1       ford  "
      ]
     },
     "execution_count": 21,
     "metadata": {},
     "output_type": "execute_result"
    }
   ],
   "source": [
    "df.head()"
   ]
  },
  {
   "cell_type": "markdown",
   "id": "b7966dee",
   "metadata": {
    "papermill": {
     "duration": 0.019166,
     "end_time": "2024-12-02T12:52:09.617101",
     "exception": false,
     "start_time": "2024-12-02T12:52:09.597935",
     "status": "completed"
    },
    "tags": []
   },
   "source": [
    "#### Apply target mean encoding on the car name column"
   ]
  },
  {
   "cell_type": "code",
   "execution_count": 22,
   "id": "6fb8dd3d",
   "metadata": {
    "execution": {
     "iopub.execute_input": "2024-12-02T12:52:09.659290Z",
     "iopub.status.busy": "2024-12-02T12:52:09.658888Z",
     "iopub.status.idle": "2024-12-02T12:52:09.664395Z",
     "shell.execute_reply": "2024-12-02T12:52:09.663280Z"
    },
    "papermill": {
     "duration": 0.030282,
     "end_time": "2024-12-02T12:52:09.666721",
     "exception": false,
     "start_time": "2024-12-02T12:52:09.636439",
     "status": "completed"
    },
    "tags": []
   },
   "outputs": [],
   "source": [
    "g_mean = df['mpg'].mean()"
   ]
  },
  {
   "cell_type": "code",
   "execution_count": 23,
   "id": "8b6cc862",
   "metadata": {
    "execution": {
     "iopub.execute_input": "2024-12-02T12:52:09.707641Z",
     "iopub.status.busy": "2024-12-02T12:52:09.707207Z",
     "iopub.status.idle": "2024-12-02T12:52:09.715332Z",
     "shell.execute_reply": "2024-12-02T12:52:09.714144Z"
    },
    "papermill": {
     "duration": 0.031304,
     "end_time": "2024-12-02T12:52:09.717621",
     "exception": false,
     "start_time": "2024-12-02T12:52:09.686317",
     "status": "completed"
    },
    "tags": []
   },
   "outputs": [],
   "source": [
    "brand_means = df.groupby('Brand')['mpg'].mean()"
   ]
  },
  {
   "cell_type": "code",
   "execution_count": 24,
   "id": "47539b3c",
   "metadata": {
    "execution": {
     "iopub.execute_input": "2024-12-02T12:52:09.757661Z",
     "iopub.status.busy": "2024-12-02T12:52:09.757246Z",
     "iopub.status.idle": "2024-12-02T12:52:09.765867Z",
     "shell.execute_reply": "2024-12-02T12:52:09.764726Z"
    },
    "papermill": {
     "duration": 0.031078,
     "end_time": "2024-12-02T12:52:09.767948",
     "exception": false,
     "start_time": "2024-12-02T12:52:09.736870",
     "status": "completed"
    },
    "tags": []
   },
   "outputs": [
    {
     "data": {
      "text/plain": [
       "Brand\n",
       "amc              18.246429\n",
       "audi             26.714286\n",
       "bmw              23.750000\n",
       "buick            19.182353\n",
       "cadillac         19.750000\n",
       "capri            25.000000\n",
       "chevroelt        16.000000\n",
       "chevrolet        20.472093\n",
       "chevy            18.000000\n",
       "chrysler         17.266667\n",
       "datsun           31.113043\n",
       "dodge            22.060714\n",
       "fiat             28.912500\n",
       "ford             19.694118\n",
       "hi                9.000000\n",
       "honda            33.761538\n",
       "maxda            26.050000\n",
       "mazda            30.860000\n",
       "mercedes         25.400000\n",
       "mercedes-benz    23.250000\n",
       "mercury          19.118182\n",
       "nissan           36.000000\n",
       "oldsmobile       21.100000\n",
       "opel             25.750000\n",
       "peugeot          23.687500\n",
       "plymouth         21.703226\n",
       "pontiac          20.012500\n",
       "renault          32.880000\n",
       "saab             23.900000\n",
       "subaru           30.525000\n",
       "toyota           28.372000\n",
       "toyouta          23.000000\n",
       "triumph          35.000000\n",
       "vokswagen        29.800000\n",
       "volkswagen       29.106667\n",
       "volvo            21.116667\n",
       "vw               39.016667\n",
       "Name: mpg, dtype: float64"
      ]
     },
     "execution_count": 24,
     "metadata": {},
     "output_type": "execute_result"
    }
   ],
   "source": [
    "brand_means"
   ]
  },
  {
   "cell_type": "markdown",
   "id": "2eea2ad9",
   "metadata": {
    "papermill": {
     "duration": 0.019897,
     "end_time": "2024-12-02T12:52:09.807566",
     "exception": false,
     "start_time": "2024-12-02T12:52:09.787669",
     "status": "completed"
    },
    "tags": []
   },
   "source": [
    "## Map the brand means to a new encoded column, fill missing with the global mean\n"
   ]
  },
  {
   "cell_type": "code",
   "execution_count": 25,
   "id": "446019cb",
   "metadata": {
    "execution": {
     "iopub.execute_input": "2024-12-02T12:52:09.849994Z",
     "iopub.status.busy": "2024-12-02T12:52:09.849598Z",
     "iopub.status.idle": "2024-12-02T12:52:09.856722Z",
     "shell.execute_reply": "2024-12-02T12:52:09.855426Z"
    },
    "papermill": {
     "duration": 0.030936,
     "end_time": "2024-12-02T12:52:09.858878",
     "exception": false,
     "start_time": "2024-12-02T12:52:09.827942",
     "status": "completed"
    },
    "tags": []
   },
   "outputs": [],
   "source": [
    "df['Brand_encoded'] = df['Brand'].map(brand_means).fillna(g_mean)"
   ]
  },
  {
   "cell_type": "code",
   "execution_count": 26,
   "id": "0bcd9642",
   "metadata": {
    "execution": {
     "iopub.execute_input": "2024-12-02T12:52:09.899618Z",
     "iopub.status.busy": "2024-12-02T12:52:09.899186Z",
     "iopub.status.idle": "2024-12-02T12:52:09.905835Z",
     "shell.execute_reply": "2024-12-02T12:52:09.904709Z"
    },
    "papermill": {
     "duration": 0.029819,
     "end_time": "2024-12-02T12:52:09.908051",
     "exception": false,
     "start_time": "2024-12-02T12:52:09.878232",
     "status": "completed"
    },
    "tags": []
   },
   "outputs": [],
   "source": [
    "df = df.drop(columns=['Brand'])"
   ]
  },
  {
   "cell_type": "code",
   "execution_count": 27,
   "id": "7c412ada",
   "metadata": {
    "execution": {
     "iopub.execute_input": "2024-12-02T12:52:09.949871Z",
     "iopub.status.busy": "2024-12-02T12:52:09.949421Z",
     "iopub.status.idle": "2024-12-02T12:52:09.963854Z",
     "shell.execute_reply": "2024-12-02T12:52:09.962744Z"
    },
    "papermill": {
     "duration": 0.037824,
     "end_time": "2024-12-02T12:52:09.966021",
     "exception": false,
     "start_time": "2024-12-02T12:52:09.928197",
     "status": "completed"
    },
    "tags": []
   },
   "outputs": [
    {
     "data": {
      "text/html": [
       "<div>\n",
       "<style scoped>\n",
       "    .dataframe tbody tr th:only-of-type {\n",
       "        vertical-align: middle;\n",
       "    }\n",
       "\n",
       "    .dataframe tbody tr th {\n",
       "        vertical-align: top;\n",
       "    }\n",
       "\n",
       "    .dataframe thead th {\n",
       "        text-align: right;\n",
       "    }\n",
       "</style>\n",
       "<table border=\"1\" class=\"dataframe\">\n",
       "  <thead>\n",
       "    <tr style=\"text-align: right;\">\n",
       "      <th></th>\n",
       "      <th>mpg</th>\n",
       "      <th>cylinders</th>\n",
       "      <th>displacement</th>\n",
       "      <th>horsepower</th>\n",
       "      <th>weight</th>\n",
       "      <th>acceleration</th>\n",
       "      <th>model year</th>\n",
       "      <th>origin</th>\n",
       "      <th>Brand_encoded</th>\n",
       "    </tr>\n",
       "  </thead>\n",
       "  <tbody>\n",
       "    <tr>\n",
       "      <th>0</th>\n",
       "      <td>18.0</td>\n",
       "      <td>8</td>\n",
       "      <td>307.0</td>\n",
       "      <td>130.0</td>\n",
       "      <td>3504</td>\n",
       "      <td>12.0</td>\n",
       "      <td>70</td>\n",
       "      <td>1</td>\n",
       "      <td>20.472093</td>\n",
       "    </tr>\n",
       "    <tr>\n",
       "      <th>1</th>\n",
       "      <td>15.0</td>\n",
       "      <td>8</td>\n",
       "      <td>350.0</td>\n",
       "      <td>165.0</td>\n",
       "      <td>3693</td>\n",
       "      <td>11.5</td>\n",
       "      <td>70</td>\n",
       "      <td>1</td>\n",
       "      <td>19.182353</td>\n",
       "    </tr>\n",
       "    <tr>\n",
       "      <th>2</th>\n",
       "      <td>18.0</td>\n",
       "      <td>8</td>\n",
       "      <td>318.0</td>\n",
       "      <td>150.0</td>\n",
       "      <td>3436</td>\n",
       "      <td>11.0</td>\n",
       "      <td>70</td>\n",
       "      <td>1</td>\n",
       "      <td>21.703226</td>\n",
       "    </tr>\n",
       "    <tr>\n",
       "      <th>3</th>\n",
       "      <td>16.0</td>\n",
       "      <td>8</td>\n",
       "      <td>304.0</td>\n",
       "      <td>150.0</td>\n",
       "      <td>3433</td>\n",
       "      <td>12.0</td>\n",
       "      <td>70</td>\n",
       "      <td>1</td>\n",
       "      <td>18.246429</td>\n",
       "    </tr>\n",
       "    <tr>\n",
       "      <th>4</th>\n",
       "      <td>17.0</td>\n",
       "      <td>8</td>\n",
       "      <td>302.0</td>\n",
       "      <td>140.0</td>\n",
       "      <td>3449</td>\n",
       "      <td>10.5</td>\n",
       "      <td>70</td>\n",
       "      <td>1</td>\n",
       "      <td>19.694118</td>\n",
       "    </tr>\n",
       "  </tbody>\n",
       "</table>\n",
       "</div>"
      ],
      "text/plain": [
       "    mpg  cylinders  displacement  horsepower  weight  acceleration  \\\n",
       "0  18.0          8         307.0       130.0    3504          12.0   \n",
       "1  15.0          8         350.0       165.0    3693          11.5   \n",
       "2  18.0          8         318.0       150.0    3436          11.0   \n",
       "3  16.0          8         304.0       150.0    3433          12.0   \n",
       "4  17.0          8         302.0       140.0    3449          10.5   \n",
       "\n",
       "   model year  origin  Brand_encoded  \n",
       "0          70       1      20.472093  \n",
       "1          70       1      19.182353  \n",
       "2          70       1      21.703226  \n",
       "3          70       1      18.246429  \n",
       "4          70       1      19.694118  "
      ]
     },
     "execution_count": 27,
     "metadata": {},
     "output_type": "execute_result"
    }
   ],
   "source": [
    "df.head()"
   ]
  },
  {
   "cell_type": "code",
   "execution_count": 28,
   "id": "c387add4",
   "metadata": {
    "execution": {
     "iopub.execute_input": "2024-12-02T12:52:10.007335Z",
     "iopub.status.busy": "2024-12-02T12:52:10.006915Z",
     "iopub.status.idle": "2024-12-02T12:52:10.013258Z",
     "shell.execute_reply": "2024-12-02T12:52:10.012109Z"
    },
    "papermill": {
     "duration": 0.03006,
     "end_time": "2024-12-02T12:52:10.015682",
     "exception": false,
     "start_time": "2024-12-02T12:52:09.985622",
     "status": "completed"
    },
    "tags": []
   },
   "outputs": [],
   "source": [
    "df['horsepower'] = df['horsepower'].fillna(df['horsepower'].mean()) # fill the nan values with the mean"
   ]
  },
  {
   "cell_type": "code",
   "execution_count": 29,
   "id": "7516efb6",
   "metadata": {
    "execution": {
     "iopub.execute_input": "2024-12-02T12:52:10.057833Z",
     "iopub.status.busy": "2024-12-02T12:52:10.056623Z",
     "iopub.status.idle": "2024-12-02T12:52:10.372837Z",
     "shell.execute_reply": "2024-12-02T12:52:10.371688Z"
    },
    "papermill": {
     "duration": 0.339549,
     "end_time": "2024-12-02T12:52:10.375219",
     "exception": false,
     "start_time": "2024-12-02T12:52:10.035670",
     "status": "completed"
    },
    "tags": []
   },
   "outputs": [
    {
     "data": {
      "text/plain": [
       "<matplotlib.collections.PathCollection at 0x7c793e372bf0>"
      ]
     },
     "execution_count": 29,
     "metadata": {},
     "output_type": "execute_result"
    },
    {
     "data": {
      "image/png": "[encoded data removed]",
      "text/plain": [
       "<Figure size 640x480 with 1 Axes>"
      ]
     },
     "metadata": {},
     "output_type": "display_data"
    }
   ],
   "source": [
    "import matplotlib.pyplot as plt\n",
    "\n",
    "plt.scatter(df['mpg'], df['Brand_encoded'])"
   ]
  },
  {
   "cell_type": "markdown",
   "id": "8124256d",
   "metadata": {
    "papermill": {
     "duration": 0.019897,
     "end_time": "2024-12-02T12:52:10.415541",
     "exception": false,
     "start_time": "2024-12-02T12:52:10.395644",
     "status": "completed"
    },
    "tags": []
   },
   "source": [
    "## Split the data"
   ]
  },
  {
   "cell_type": "code",
   "execution_count": 30,
   "id": "4f787fea",
   "metadata": {
    "execution": {
     "iopub.execute_input": "2024-12-02T12:52:10.458158Z",
     "iopub.status.busy": "2024-12-02T12:52:10.457769Z",
     "iopub.status.idle": "2024-12-02T12:52:12.048883Z",
     "shell.execute_reply": "2024-12-02T12:52:12.047806Z"
    },
    "papermill": {
     "duration": 1.615308,
     "end_time": "2024-12-02T12:52:12.051338",
     "exception": false,
     "start_time": "2024-12-02T12:52:10.436030",
     "status": "completed"
    },
    "tags": []
   },
   "outputs": [],
   "source": [
    "from sklearn.model_selection import train_test_split\n",
    "\n",
    "y = df['mpg']\n",
    "X = df.drop(columns=['mpg']) \n",
    "\n",
    "X_train, X_test, y_train, y_test = train_test_split(X, y, test_size=0.2, random_state=42)"
   ]
  },
  {
   "cell_type": "code",
   "execution_count": 31,
   "id": "73acbd6b",
   "metadata": {
    "execution": {
     "iopub.execute_input": "2024-12-02T12:52:12.094369Z",
     "iopub.status.busy": "2024-12-02T12:52:12.093826Z",
     "iopub.status.idle": "2024-12-02T12:52:12.110132Z",
     "shell.execute_reply": "2024-12-02T12:52:12.108995Z"
    },
    "papermill": {
     "duration": 0.040523,
     "end_time": "2024-12-02T12:52:12.112092",
     "exception": false,
     "start_time": "2024-12-02T12:52:12.071569",
     "status": "completed"
    },
    "tags": []
   },
   "outputs": [
    {
     "data": {
      "text/html": [
       "<div>\n",
       "<style scoped>\n",
       "    .dataframe tbody tr th:only-of-type {\n",
       "        vertical-align: middle;\n",
       "    }\n",
       "\n",
       "    .dataframe tbody tr th {\n",
       "        vertical-align: top;\n",
       "    }\n",
       "\n",
       "    .dataframe thead th {\n",
       "        text-align: right;\n",
       "    }\n",
       "</style>\n",
       "<table border=\"1\" class=\"dataframe\">\n",
       "  <thead>\n",
       "    <tr style=\"text-align: right;\">\n",
       "      <th></th>\n",
       "      <th>cylinders</th>\n",
       "      <th>displacement</th>\n",
       "      <th>horsepower</th>\n",
       "      <th>weight</th>\n",
       "      <th>acceleration</th>\n",
       "      <th>model year</th>\n",
       "      <th>origin</th>\n",
       "      <th>Brand_encoded</th>\n",
       "    </tr>\n",
       "  </thead>\n",
       "  <tbody>\n",
       "    <tr>\n",
       "      <th>198</th>\n",
       "      <td>4</td>\n",
       "      <td>91.0</td>\n",
       "      <td>53.0</td>\n",
       "      <td>1795</td>\n",
       "      <td>17.4</td>\n",
       "      <td>76</td>\n",
       "      <td>3</td>\n",
       "      <td>33.761538</td>\n",
       "    </tr>\n",
       "    <tr>\n",
       "      <th>396</th>\n",
       "      <td>4</td>\n",
       "      <td>120.0</td>\n",
       "      <td>79.0</td>\n",
       "      <td>2625</td>\n",
       "      <td>18.6</td>\n",
       "      <td>82</td>\n",
       "      <td>1</td>\n",
       "      <td>19.694118</td>\n",
       "    </tr>\n",
       "    <tr>\n",
       "      <th>33</th>\n",
       "      <td>6</td>\n",
       "      <td>232.0</td>\n",
       "      <td>100.0</td>\n",
       "      <td>2634</td>\n",
       "      <td>13.0</td>\n",
       "      <td>71</td>\n",
       "      <td>1</td>\n",
       "      <td>18.246429</td>\n",
       "    </tr>\n",
       "    <tr>\n",
       "      <th>208</th>\n",
       "      <td>8</td>\n",
       "      <td>318.0</td>\n",
       "      <td>150.0</td>\n",
       "      <td>3940</td>\n",
       "      <td>13.2</td>\n",
       "      <td>76</td>\n",
       "      <td>1</td>\n",
       "      <td>21.703226</td>\n",
       "    </tr>\n",
       "    <tr>\n",
       "      <th>93</th>\n",
       "      <td>8</td>\n",
       "      <td>318.0</td>\n",
       "      <td>150.0</td>\n",
       "      <td>4237</td>\n",
       "      <td>14.5</td>\n",
       "      <td>73</td>\n",
       "      <td>1</td>\n",
       "      <td>21.703226</td>\n",
       "    </tr>\n",
       "    <tr>\n",
       "      <th>...</th>\n",
       "      <td>...</td>\n",
       "      <td>...</td>\n",
       "      <td>...</td>\n",
       "      <td>...</td>\n",
       "      <td>...</td>\n",
       "      <td>...</td>\n",
       "      <td>...</td>\n",
       "      <td>...</td>\n",
       "    </tr>\n",
       "    <tr>\n",
       "      <th>249</th>\n",
       "      <td>8</td>\n",
       "      <td>260.0</td>\n",
       "      <td>110.0</td>\n",
       "      <td>3365</td>\n",
       "      <td>15.5</td>\n",
       "      <td>78</td>\n",
       "      <td>1</td>\n",
       "      <td>21.100000</td>\n",
       "    </tr>\n",
       "    <tr>\n",
       "      <th>225</th>\n",
       "      <td>6</td>\n",
       "      <td>250.0</td>\n",
       "      <td>110.0</td>\n",
       "      <td>3520</td>\n",
       "      <td>16.4</td>\n",
       "      <td>77</td>\n",
       "      <td>1</td>\n",
       "      <td>20.472093</td>\n",
       "    </tr>\n",
       "    <tr>\n",
       "      <th>367</th>\n",
       "      <td>4</td>\n",
       "      <td>112.0</td>\n",
       "      <td>88.0</td>\n",
       "      <td>2605</td>\n",
       "      <td>19.6</td>\n",
       "      <td>82</td>\n",
       "      <td>1</td>\n",
       "      <td>20.472093</td>\n",
       "    </tr>\n",
       "    <tr>\n",
       "      <th>175</th>\n",
       "      <td>4</td>\n",
       "      <td>90.0</td>\n",
       "      <td>70.0</td>\n",
       "      <td>1937</td>\n",
       "      <td>14.0</td>\n",
       "      <td>75</td>\n",
       "      <td>2</td>\n",
       "      <td>29.106667</td>\n",
       "    </tr>\n",
       "    <tr>\n",
       "      <th>285</th>\n",
       "      <td>8</td>\n",
       "      <td>305.0</td>\n",
       "      <td>130.0</td>\n",
       "      <td>3840</td>\n",
       "      <td>15.4</td>\n",
       "      <td>79</td>\n",
       "      <td>1</td>\n",
       "      <td>20.472093</td>\n",
       "    </tr>\n",
       "  </tbody>\n",
       "</table>\n",
       "<p>80 rows × 8 columns</p>\n",
       "</div>"
      ],
      "text/plain": [
       "     cylinders  displacement  horsepower  weight  acceleration  model year  \\\n",
       "198          4          91.0        53.0    1795          17.4          76   \n",
       "396          4         120.0        79.0    2625          18.6          82   \n",
       "33           6         232.0       100.0    2634          13.0          71   \n",
       "208          8         318.0       150.0    3940          13.2          76   \n",
       "93           8         318.0       150.0    4237          14.5          73   \n",
       "..         ...           ...         ...     ...           ...         ...   \n",
       "249          8         260.0       110.0    3365          15.5          78   \n",
       "225          6         250.0       110.0    3520          16.4          77   \n",
       "367          4         112.0        88.0    2605          19.6          82   \n",
       "175          4          90.0        70.0    1937          14.0          75   \n",
       "285          8         305.0       130.0    3840          15.4          79   \n",
       "\n",
       "     origin  Brand_encoded  \n",
       "198       3      33.761538  \n",
       "396       1      19.694118  \n",
       "33        1      18.246429  \n",
       "208       1      21.703226  \n",
       "93        1      21.703226  \n",
       "..      ...            ...  \n",
       "249       1      21.100000  \n",
       "225       1      20.472093  \n",
       "367       1      20.472093  \n",
       "175       2      29.106667  \n",
       "285       1      20.472093  \n",
       "\n",
       "[80 rows x 8 columns]"
      ]
     },
     "execution_count": 31,
     "metadata": {},
     "output_type": "execute_result"
    }
   ],
   "source": [
    "X_test"
   ]
  },
  {
   "cell_type": "markdown",
   "id": "954e3b3c",
   "metadata": {
    "papermill": {
     "duration": 0.020243,
     "end_time": "2024-12-02T12:52:12.152891",
     "exception": false,
     "start_time": "2024-12-02T12:52:12.132648",
     "status": "completed"
    },
    "tags": []
   },
   "source": [
    "## Scaling the data"
   ]
  },
  {
   "cell_type": "code",
   "execution_count": 32,
   "id": "2ab3da5c",
   "metadata": {
    "execution": {
     "iopub.execute_input": "2024-12-02T12:52:12.195786Z",
     "iopub.status.busy": "2024-12-02T12:52:12.195229Z",
     "iopub.status.idle": "2024-12-02T12:52:12.206912Z",
     "shell.execute_reply": "2024-12-02T12:52:12.206103Z"
    },
    "papermill": {
     "duration": 0.036134,
     "end_time": "2024-12-02T12:52:12.209520",
     "exception": false,
     "start_time": "2024-12-02T12:52:12.173386",
     "status": "completed"
    },
    "tags": []
   },
   "outputs": [],
   "source": [
    "from sklearn.preprocessing import StandardScaler\n",
    "scaler = StandardScaler()\n",
    "X_train = scaler.fit_transform(X_train) # generate scaling parameters and then fit the data points within that scale\n",
    "X_test = scaler.transform(X_test) # use the same generated scaling parameters and fit the training set (DONT USE fit_transform)"
   ]
  },
  {
   "cell_type": "code",
   "execution_count": 33,
   "id": "a5ac64c9",
   "metadata": {
    "execution": {
     "iopub.execute_input": "2024-12-02T12:52:12.252101Z",
     "iopub.status.busy": "2024-12-02T12:52:12.251738Z",
     "iopub.status.idle": "2024-12-02T12:52:12.260519Z",
     "shell.execute_reply": "2024-12-02T12:52:12.259373Z"
    },
    "papermill": {
     "duration": 0.03269,
     "end_time": "2024-12-02T12:52:12.262675",
     "exception": false,
     "start_time": "2024-12-02T12:52:12.229985",
     "status": "completed"
    },
    "tags": []
   },
   "outputs": [
    {
     "data": {
      "text/plain": [
       "mpg              0\n",
       "cylinders        0\n",
       "displacement     0\n",
       "horsepower       0\n",
       "weight           0\n",
       "acceleration     0\n",
       "model year       0\n",
       "origin           0\n",
       "Brand_encoded    0\n",
       "dtype: int64"
      ]
     },
     "execution_count": 33,
     "metadata": {},
     "output_type": "execute_result"
    }
   ],
   "source": [
    "df.isna().sum()"
   ]
  },
  {
   "cell_type": "markdown",
   "id": "8db394ae",
   "metadata": {
    "papermill": {
     "duration": 0.021853,
     "end_time": "2024-12-02T12:52:12.305430",
     "exception": false,
     "start_time": "2024-12-02T12:52:12.283577",
     "status": "completed"
    },
    "tags": []
   },
   "source": [
    "# Checking distribution plots"
   ]
  },
  {
   "cell_type": "code",
   "execution_count": 34,
   "id": "2e4a0611",
   "metadata": {
    "execution": {
     "iopub.execute_input": "2024-12-02T12:52:12.352451Z",
     "iopub.status.busy": "2024-12-02T12:52:12.352048Z",
     "iopub.status.idle": "2024-12-02T12:52:14.763268Z",
     "shell.execute_reply": "2024-12-02T12:52:14.762109Z"
    },
    "papermill": {
     "duration": 2.436809,
     "end_time": "2024-12-02T12:52:14.765818",
     "exception": false,
     "start_time": "2024-12-02T12:52:12.329009",
     "status": "completed"
    },
    "tags": []
   },
   "outputs": [
    {
     "name": "stderr",
     "output_type": "stream",
     "text": [
      "/tmp/ipykernel_17/3665838198.py:7: UserWarning: \n",
      "\n",
      "`distplot` is a deprecated function and will be removed in seaborn v0.14.0.\n",
      "\n",
      "Please adapt your code to use either `displot` (a figure-level function with\n",
      "similar flexibility) or `histplot` (an axes-level function for histograms).\n",
      "\n",
      "For a guide to updating your code to use the new functions, please see\n",
      "https://gist.github.com/mwaskom/de44147ed2974457ad6372750bbe5751\n",
      "\n",
      "  sns.distplot(X[i],kde=True)\n",
      "/opt/conda/lib/python3.10/site-packages/seaborn/_oldcore.py:1119: FutureWarning: use_inf_as_na option is deprecated and will be removed in a future version. Convert inf values to NaN before operating instead.\n",
      "  with pd.option_context('mode.use_inf_as_na', True):\n",
      "/tmp/ipykernel_17/3665838198.py:7: UserWarning: \n",
      "\n",
      "`distplot` is a deprecated function and will be removed in seaborn v0.14.0.\n",
      "\n",
      "Please adapt your code to use either `displot` (a figure-level function with\n",
      "similar flexibility) or `histplot` (an axes-level function for histograms).\n",
      "\n",
      "For a guide to updating your code to use the new functions, please see\n",
      "https://gist.github.com/mwaskom/de44147ed2974457ad6372750bbe5751\n",
      "\n",
      "  sns.distplot(X[i],kde=True)\n",
      "/opt/conda/lib/python3.10/site-packages/seaborn/_oldcore.py:1119: FutureWarning: use_inf_as_na option is deprecated and will be removed in a future version. Convert inf values to NaN before operating instead.\n",
      "  with pd.option_context('mode.use_inf_as_na', True):\n",
      "/tmp/ipykernel_17/3665838198.py:7: UserWarning: \n",
      "\n",
      "`distplot` is a deprecated function and will be removed in seaborn v0.14.0.\n",
      "\n",
      "Please adapt your code to use either `displot` (a figure-level function with\n",
      "similar flexibility) or `histplot` (an axes-level function for histograms).\n",
      "\n",
      "For a guide to updating your code to use the new functions, please see\n",
      "https://gist.github.com/mwaskom/de44147ed2974457ad6372750bbe5751\n",
      "\n",
      "  sns.distplot(X[i],kde=True)\n",
      "/opt/conda/lib/python3.10/site-packages/seaborn/_oldcore.py:1119: FutureWarning: use_inf_as_na option is deprecated and will be removed in a future version. Convert inf values to NaN before operating instead.\n",
      "  with pd.option_context('mode.use_inf_as_na', True):\n",
      "/tmp/ipykernel_17/3665838198.py:7: UserWarning: \n",
      "\n",
      "`distplot` is a deprecated function and will be removed in seaborn v0.14.0.\n",
      "\n",
      "Please adapt your code to use either `displot` (a figure-level function with\n",
      "similar flexibility) or `histplot` (an axes-level function for histograms).\n",
      "\n",
      "For a guide to updating your code to use the new functions, please see\n",
      "https://gist.github.com/mwaskom/de44147ed2974457ad6372750bbe5751\n",
      "\n",
      "  sns.distplot(X[i],kde=True)\n",
      "/opt/conda/lib/python3.10/site-packages/seaborn/_oldcore.py:1119: FutureWarning: use_inf_as_na option is deprecated and will be removed in a future version. Convert inf values to NaN before operating instead.\n",
      "  with pd.option_context('mode.use_inf_as_na', True):\n",
      "/tmp/ipykernel_17/3665838198.py:7: UserWarning: \n",
      "\n",
      "`distplot` is a deprecated function and will be removed in seaborn v0.14.0.\n",
      "\n",
      "Please adapt your code to use either `displot` (a figure-level function with\n",
      "similar flexibility) or `histplot` (an axes-level function for histograms).\n",
      "\n",
      "For a guide to updating your code to use the new functions, please see\n",
      "https://gist.github.com/mwaskom/de44147ed2974457ad6372750bbe5751\n",
      "\n",
      "  sns.distplot(X[i],kde=True)\n",
      "/opt/conda/lib/python3.10/site-packages/seaborn/_oldcore.py:1119: FutureWarning: use_inf_as_na option is deprecated and will be removed in a future version. Convert inf values to NaN before operating instead.\n",
      "  with pd.option_context('mode.use_inf_as_na', True):\n",
      "/tmp/ipykernel_17/3665838198.py:7: UserWarning: \n",
      "\n",
      "`distplot` is a deprecated function and will be removed in seaborn v0.14.0.\n",
      "\n",
      "Please adapt your code to use either `displot` (a figure-level function with\n",
      "similar flexibility) or `histplot` (an axes-level function for histograms).\n",
      "\n",
      "For a guide to updating your code to use the new functions, please see\n",
      "https://gist.github.com/mwaskom/de44147ed2974457ad6372750bbe5751\n",
      "\n",
      "  sns.distplot(X[i],kde=True)\n",
      "/opt/conda/lib/python3.10/site-packages/seaborn/_oldcore.py:1119: FutureWarning: use_inf_as_na option is deprecated and will be removed in a future version. Convert inf values to NaN before operating instead.\n",
      "  with pd.option_context('mode.use_inf_as_na', True):\n",
      "/tmp/ipykernel_17/3665838198.py:7: UserWarning: \n",
      "\n",
      "`distplot` is a deprecated function and will be removed in seaborn v0.14.0.\n",
      "\n",
      "Please adapt your code to use either `displot` (a figure-level function with\n",
      "similar flexibility) or `histplot` (an axes-level function for histograms).\n",
      "\n",
      "For a guide to updating your code to use the new functions, please see\n",
      "https://gist.github.com/mwaskom/de44147ed2974457ad6372750bbe5751\n",
      "\n",
      "  sns.distplot(X[i],kde=True)\n",
      "/opt/conda/lib/python3.10/site-packages/seaborn/_oldcore.py:1119: FutureWarning: use_inf_as_na option is deprecated and will be removed in a future version. Convert inf values to NaN before operating instead.\n",
      "  with pd.option_context('mode.use_inf_as_na', True):\n"
     ]
    },
    {
     "data": {
      "image/png": "[encoded data removed]",
      "text/plain": [
       "<Figure size 640x480 with 1 Axes>"
      ]
     },
     "metadata": {},
     "output_type": "display_data"
    },
    {
     "data": {
      "image/png": "[encoded data removed]",
      "text/plain": [
       "<Figure size 640x480 with 1 Axes>"
      ]
     },
     "metadata": {},
     "output_type": "display_data"
    },
    {
     "data": {
      "image/png": "[encoded data removed]",
      "text/plain": [
       "<Figure size 640x480 with 1 Axes>"
      ]
     },
     "metadata": {},
     "output_type": "display_data"
    },
    {
     "data": {
      "image/png": "[encoded data removed]",
      "text/plain": [
       "<Figure size 640x480 with 1 Axes>"
      ]
     },
     "metadata": {},
     "output_type": "display_data"
    },
    {
     "data": {
      "image/png": "[encoded data removed]",
      "text/plain": [
       "<Figure size 640x480 with 1 Axes>"
      ]
     },
     "metadata": {},
     "output_type": "display_data"
    },
    {
     "data": {
      "image/png": "[encoded data removed]",
      "text/plain": [
       "<Figure size 640x480 with 1 Axes>"
      ]
     },
     "metadata": {},
     "output_type": "display_data"
    },
    {
     "data": {
      "image/png": "[encoded data removed]",
      "text/plain": [
       "<Figure size 640x480 with 1 Axes>"
      ]
     },
     "metadata": {},
     "output_type": "display_data"
    }
   ],
   "source": [
    "import matplotlib.pyplot as plt\n",
    "import seaborn as sns\n",
    "\n",
    "cols =['cylinders', 'displacement', 'horsepower', 'weight', 'acceleration', 'model year', 'Brand_encoded']\n",
    "for i in cols:\n",
    "    plt.figure()\n",
    "    sns.distplot(X[i],kde=True)"
   ]
  },
  {
   "cell_type": "code",
   "execution_count": 35,
   "id": "cf30a618",
   "metadata": {
    "execution": {
     "iopub.execute_input": "2024-12-02T12:52:14.818260Z",
     "iopub.status.busy": "2024-12-02T12:52:14.817668Z",
     "iopub.status.idle": "2024-12-02T12:52:14.926683Z",
     "shell.execute_reply": "2024-12-02T12:52:14.925511Z"
    },
    "papermill": {
     "duration": 0.138429,
     "end_time": "2024-12-02T12:52:14.929568",
     "exception": false,
     "start_time": "2024-12-02T12:52:14.791139",
     "status": "completed"
    },
    "tags": []
   },
   "outputs": [],
   "source": [
    "#### Training Ridge regression model\n",
    "from sklearn.linear_model import Ridge\n",
    "\n",
    "ridge_reg = Ridge(alpha=0.1, solver='cholesky')"
   ]
  },
  {
   "cell_type": "code",
   "execution_count": 36,
   "id": "9e0c6a3b",
   "metadata": {
    "execution": {
     "iopub.execute_input": "2024-12-02T12:52:14.982367Z",
     "iopub.status.busy": "2024-12-02T12:52:14.982000Z",
     "iopub.status.idle": "2024-12-02T12:52:15.001760Z",
     "shell.execute_reply": "2024-12-02T12:52:15.000602Z"
    },
    "papermill": {
     "duration": 0.048683,
     "end_time": "2024-12-02T12:52:15.004007",
     "exception": false,
     "start_time": "2024-12-02T12:52:14.955324",
     "status": "completed"
    },
    "tags": []
   },
   "outputs": [
    {
     "data": {
      "text/html": [
       "<style>#sk-container-id-1 {color: black;background-color: white;}#sk-container-id-1 pre{padding: 0;}#sk-container-id-1 div.sk-toggleable {background-color: white;}#sk-container-id-1 label.sk-toggleable__label {cursor: pointer;display: block;width: 100%;margin-bottom: 0;padding: 0.3em;box-sizing: border-box;text-align: center;}#sk-container-id-1 label.sk-toggleable__label-arrow:before {content: \"▸\";float: left;margin-right: 0.25em;color: #696969;}#sk-container-id-1 label.sk-toggleable__label-arrow:hover:before {color: black;}#sk-container-id-1 div.sk-estimator:hover label.sk-toggleable__label-arrow:before {color: black;}#sk-container-id-1 div.sk-toggleable__content {max-height: 0;max-width: 0;overflow: hidden;text-align: left;background-color: #f0f8ff;}#sk-container-id-1 div.sk-toggleable__content pre {margin: 0.2em;color: black;border-radius: 0.25em;background-color: #f0f8ff;}#sk-container-id-1 input.sk-toggleable__control:checked~div.sk-toggleable__content {max-height: 200px;max-width: 100%;overflow: auto;}#sk-container-id-1 input.sk-toggleable__control:checked~label.sk-toggleable__label-arrow:before {content: \"▾\";}#sk-container-id-1 div.sk-estimator input.sk-toggleable__control:checked~label.sk-toggleable__label {background-color: #d4ebff;}#sk-container-id-1 div.sk-label input.sk-toggleable__control:checked~label.sk-toggleable__label {background-color: #d4ebff;}#sk-container-id-1 input.sk-hidden--visually {border: 0;clip: rect(1px 1px 1px 1px);clip: rect(1px, 1px, 1px, 1px);height: 1px;margin: -1px;overflow: hidden;padding: 0;position: absolute;width: 1px;}#sk-container-id-1 div.sk-estimator {font-family: monospace;background-color: #f0f8ff;border: 1px dotted black;border-radius: 0.25em;box-sizing: border-box;margin-bottom: 0.5em;}#sk-container-id-1 div.sk-estimator:hover {background-color: #d4ebff;}#sk-container-id-1 div.sk-parallel-item::after {content: \"\";width: 100%;border-bottom: 1px solid gray;flex-grow: 1;}#sk-container-id-1 div.sk-label:hover label.sk-toggleable__label {background-color: #d4ebff;}#sk-container-id-1 div.sk-serial::before {content: \"\";position: absolute;border-left: 1px solid gray;box-sizing: border-box;top: 0;bottom: 0;left: 50%;z-index: 0;}#sk-container-id-1 div.sk-serial {display: flex;flex-direction: column;align-items: center;background-color: white;padding-right: 0.2em;padding-left: 0.2em;position: relative;}#sk-container-id-1 div.sk-item {position: relative;z-index: 1;}#sk-container-id-1 div.sk-parallel {display: flex;align-items: stretch;justify-content: center;background-color: white;position: relative;}#sk-container-id-1 div.sk-item::before, #sk-container-id-1 div.sk-parallel-item::before {content: \"\";position: absolute;border-left: 1px solid gray;box-sizing: border-box;top: 0;bottom: 0;left: 50%;z-index: -1;}#sk-container-id-1 div.sk-parallel-item {display: flex;flex-direction: column;z-index: 1;position: relative;background-color: white;}#sk-container-id-1 div.sk-parallel-item:first-child::after {align-self: flex-end;width: 50%;}#sk-container-id-1 div.sk-parallel-item:last-child::after {align-self: flex-start;width: 50%;}#sk-container-id-1 div.sk-parallel-item:only-child::after {width: 0;}#sk-container-id-1 div.sk-dashed-wrapped {border: 1px dashed gray;margin: 0 0.4em 0.5em 0.4em;box-sizing: border-box;padding-bottom: 0.4em;background-color: white;}#sk-container-id-1 div.sk-label label {font-family: monospace;font-weight: bold;display: inline-block;line-height: 1.2em;}#sk-container-id-1 div.sk-label-container {text-align: center;}#sk-container-id-1 div.sk-container {/* jupyter's `normalize.less` sets `[hidden] { display: none; }` but bootstrap.min.css set `[hidden] { display: none !important; }` so we also need the `!important` here to be able to override the default hidden behavior on the sphinx rendered scikit-learn.org. See: https://github.com/scikit-learn/scikit-learn/issues/21755 */display: inline-block !important;position: relative;}#sk-container-id-1 div.sk-text-repr-fallback {display: none;}</style><div id=\"sk-container-id-1\" class=\"sk-top-container\"><div class=\"sk-text-repr-fallback\"><pre>Ridge(alpha=0.1, solver=&#x27;cholesky&#x27;)</pre><b>In a Jupyter environment, please rerun this cell to show the HTML representation or trust the notebook. <br />On GitHub, the HTML representation is unable to render, please try loading this page with nbviewer.org.</b></div><div class=\"sk-container\" hidden><div class=\"sk-item\"><div class=\"sk-estimator sk-toggleable\"><input class=\"sk-toggleable__control sk-hidden--visually\" id=\"sk-estimator-id-1\" type=\"checkbox\" checked><label for=\"sk-estimator-id-1\" class=\"sk-toggleable__label sk-toggleable__label-arrow\">Ridge</label><div class=\"sk-toggleable__content\"><pre>Ridge(alpha=0.1, solver=&#x27;cholesky&#x27;)</pre></div></div></div></div></div>"
      ],
      "text/plain": [
       "Ridge(alpha=0.1, solver='cholesky')"
      ]
     },
     "execution_count": 36,
     "metadata": {},
     "output_type": "execute_result"
    }
   ],
   "source": [
    "ridge_reg.fit(X_train, y_train)"
   ]
  },
  {
   "cell_type": "code",
   "execution_count": 37,
   "id": "272dfdf8",
   "metadata": {
    "execution": {
     "iopub.execute_input": "2024-12-02T12:52:15.058642Z",
     "iopub.status.busy": "2024-12-02T12:52:15.058209Z",
     "iopub.status.idle": "2024-12-02T12:52:15.065475Z",
     "shell.execute_reply": "2024-12-02T12:52:15.064320Z"
    },
    "papermill": {
     "duration": 0.036859,
     "end_time": "2024-12-02T12:52:15.067599",
     "exception": false,
     "start_time": "2024-12-02T12:52:15.030740",
     "status": "completed"
    },
    "tags": []
   },
   "outputs": [
    {
     "data": {
      "text/plain": [
       "array([-0.54219306,  1.36911949, -0.27897732, -5.08039158,  0.3419396 ,\n",
       "        2.76050514, -0.63981818,  2.24380846])"
      ]
     },
     "execution_count": 37,
     "metadata": {},
     "output_type": "execute_result"
    }
   ],
   "source": [
    "ridge_reg.coef_"
   ]
  },
  {
   "cell_type": "code",
   "execution_count": 38,
   "id": "c2e15d67",
   "metadata": {
    "execution": {
     "iopub.execute_input": "2024-12-02T12:52:15.122116Z",
     "iopub.status.busy": "2024-12-02T12:52:15.121359Z",
     "iopub.status.idle": "2024-12-02T12:52:15.132341Z",
     "shell.execute_reply": "2024-12-02T12:52:15.131198Z"
    },
    "papermill": {
     "duration": 0.042036,
     "end_time": "2024-12-02T12:52:15.135810",
     "exception": false,
     "start_time": "2024-12-02T12:52:15.093774",
     "status": "completed"
    },
    "tags": []
   },
   "outputs": [
    {
     "name": "stdout",
     "output_type": "stream",
     "text": [
      "[[-0.85051483 -0.98134964 -1.35927363 -1.39881183  0.63795339 -0.02884597\n",
      "   1.73836775  1.94882223]\n",
      " [-0.85051483 -0.69930815 -0.65670857 -0.40988656  1.07290607  1.63897537\n",
      "  -0.72949361 -0.75818383]\n",
      " [ 0.33833667  0.38995555 -0.08925218 -0.39916327 -0.9568731  -1.41869708\n",
      "  -0.72949361 -1.0367639 ]\n",
      " [ 1.52718818  1.22635446  1.26183446  1.15690469 -0.88438099 -0.02884597\n",
      "  -0.72949361 -0.37156939]\n",
      " [ 1.52718818  1.22635446  1.26183446  1.51077313 -0.41318225 -0.86275663\n",
      "  -0.72949361 -0.37156939]\n",
      " [-0.85051483 -0.92299623 -0.41351298 -1.03541158  0.31173888 -1.14072686\n",
      "   1.73836775  0.91170864]\n",
      " [-0.85051483 -0.50479678 -0.30542605 -0.12393226  0.27549283  1.63897537\n",
      "  -0.72949361 -0.75818383]\n",
      " [ 1.52718818  2.41287384  3.01824709  2.10412829 -1.68179423 -0.86275663\n",
      "  -0.72949361 -1.22530034]\n",
      " [ 1.52718818  0.66227147  0.18096514  1.29988184  1.2178903   0.24912426\n",
      "  -0.72949361 -0.48764866]\n",
      " [ 0.33833667  0.07873735  0.03151842 -0.1120175   0.49296917 -0.58478641\n",
      "  -0.72949361 -0.75818383]\n",
      " [ 1.52718818  1.92659541  2.34270377  1.04967183 -2.58794565 -1.6966673\n",
      "  -0.72949361 -1.0367639 ]\n",
      " [-0.85051483 -0.98134964 -0.98096937 -1.19626087 -0.23195197  1.63897537\n",
      "   1.73836775  1.94882223]\n",
      " [-0.85051483 -0.98134964 -0.89990417 -1.20817563  1.76158115 -1.41869708\n",
      "  -0.72949361 -0.37156939]\n",
      " [ 1.52718818  1.0901965   1.26183446  1.09971383 -1.13810338 -1.14072686\n",
      "  -0.72949361 -1.0367639 ]\n",
      " [-0.85051483 -0.50479678 -0.7647955  -0.50877909  0.49296917 -0.58478641\n",
      "  -0.72949361 -0.60847735]\n",
      " [ 1.52718818  1.85851643  2.07248644  2.36625306 -1.50056395 -1.41869708\n",
      "  -0.72949361 -0.30277757]\n",
      " [-0.85051483 -0.7771127  -0.49457818 -0.46946037  0.20300071  1.63897537\n",
      "  -0.72949361 -0.69691723]\n",
      " [ 0.33833667 -0.28110869  0.58629114  0.2037237  -0.73939676  0.52709448\n",
      "   0.50443707 -0.48444148]\n",
      " [ 1.52718818  2.02385109  2.07248644  1.49051803 -1.64554818  0.24912426\n",
      "  -0.72949361 -0.69691723]\n",
      " [-0.85051483 -0.98134964 -0.95394763 -1.19030349  0.71044551  1.63897537\n",
      "   1.73836775  1.39047665]\n",
      " [-0.85051483 -0.68958258 -0.73777377 -0.54571485  0.85542973 -1.14072686\n",
      "   0.50443707  1.05308119]\n",
      " [ 0.33833667  0.05928621 -0.22436085 -0.1620595  -0.05072168 -1.6966673\n",
      "  -0.72949361 -0.37156939]\n",
      " [ 0.33833667  0.38995555  0.23500861 -0.15967655 -0.34069014  1.63897537\n",
      "  -0.72949361 -0.75818383]\n",
      " [-0.85051483 -0.91327066 -0.54862164 -1.06519849  0.09426254  0.24912426\n",
      "  -0.72949361 -0.30277757]\n",
      " [ 1.52718818  1.1193732   0.7213998   0.63742105 -1.31933367 -1.6966673\n",
      "  -0.72949361 -0.60847735]\n",
      " [-0.85051483 -0.92299623 -1.38629536 -0.99966729  3.24766948  1.63897537\n",
      "   0.50443707  2.96007113]\n",
      " [-0.85051483 -0.91327066 -0.35946951 -0.838818   -0.05072168 -0.86275663\n",
      "   0.50443707  1.01571753]\n",
      " [-0.85051483 -0.39781552 -0.41351298 -0.27286679  0.1305086   0.24912426\n",
      "  -0.72949361 -0.69691723]\n",
      " [ 0.33833667  0.64282033  0.45118247  0.52542228 -0.19570591  0.52709448\n",
      "  -0.72949361 -1.0367639 ]\n",
      " [ 1.52718818  2.02385109  1.72120392  2.30787073 -1.13810338 -0.86275663\n",
      "  -0.72949361 -0.75818383]\n",
      " [-0.85051483 -0.50479678 -0.46755644 -0.21329298 -0.01447563  1.63897537\n",
      "  -0.72949361 -0.75818383]\n",
      " [-0.85051483 -0.84519168 -0.79181724 -1.17838873 -0.1232138   1.63897537\n",
      "   0.50443707  1.05308119]\n",
      " [ 1.52718818  1.53757266  0.58629114  1.10924564  0.63795339  0.8050647\n",
      "  -0.72949361 -0.74743034]\n",
      " [-0.85051483 -0.76738713 -0.22436085 -0.82332881 -0.05072168 -1.14072686\n",
      "   1.73836775  0.91170864]\n",
      " [-0.85051483 -1.02997749 -1.03501283 -1.13192115  0.27549283  1.08303492\n",
      "   1.73836775  1.43917003]\n",
      " [ 1.52718818  2.02385109  3.42357308  1.55962365 -2.22548508 -0.86275663\n",
      "  -0.72949361 -0.69691723]\n",
      " [ 0.33833667 -0.35891324  0.09989995 -0.59218242 -0.59441253 -0.86275663\n",
      "  -0.72949361 -0.86901166]\n",
      " [ 1.52718818  1.09992206  1.12672579  0.54329443 -0.88438099  0.52709448\n",
      "  -0.72949361 -0.60847735]\n",
      " [ 1.52718818  1.22635446  1.26183446  1.82174843 -0.41318225 -0.30681619\n",
      "  -0.72949361 -0.37156939]\n",
      " [-0.85051483 -0.91327066 -0.54862164 -0.89362591  0.31173888 -0.58478641\n",
      "   0.50443707  0.59271324]\n",
      " [ 0.33833667 -0.18385301  0.31607381 -0.32052584 -0.99311916  0.8050647\n",
      "  -0.72949361 -0.48764866]\n",
      " [-0.85051483 -0.92299623 -1.1701215  -1.35234426  1.2178903  -1.41869708\n",
      "   0.50443707  1.05308119]\n",
      " [-0.85051483 -0.68958258  0.23500861 -0.04291188 -0.41318225 -1.14072686\n",
      "   0.50443707 -0.48444148]\n",
      " [ 1.52718818  1.63482835  3.01824709  1.96115114 -0.59441253 -1.6966673\n",
      "  -0.72949361 -0.75818383]\n",
      " [-0.85051483 -0.69930815 -0.17031738 -0.55167223 -0.41318225 -1.14072686\n",
      "   1.73836775 -0.12203   ]\n",
      " [-0.85051483 -0.69930815 -0.41351298 -0.96392301 -0.41318225  1.63897537\n",
      "   1.73836775  2.37957133]\n",
      " [-0.85051483 -0.73821043 -0.7647955  -0.86145605 -0.59441253 -0.58478641\n",
      "   0.50443707  1.01571753]\n",
      " [-0.85051483 -0.68958258  0.31607381 -0.35507865 -0.77564282 -0.30681619\n",
      "   0.50443707  0.05115778]\n",
      " [-0.85051483 -0.85491725 -0.22436085 -0.70775562  0.67419945 -1.6966673\n",
      "   0.50443707  0.05115778]\n",
      " [-0.85051483 -0.99107521 -0.87288244 -0.88886     0.31173888 -0.30681619\n",
      "   0.50443707  1.05308119]\n",
      " [-0.85051483 -0.50479678 -0.8458607  -0.6684369   1.2178903  -1.41869708\n",
      "  -0.72949361 -0.60847735]\n",
      " [-0.85051483 -1.02997749 -1.03501283 -1.18434611 -0.15945985  0.8050647\n",
      "   1.73836775  0.46488416]\n",
      " [-0.85051483 -0.82574054 -0.8458607  -0.8090311   0.49296917  1.08303492\n",
      "   1.73836775  1.94882223]\n",
      " [ 1.52718818  2.02385109  2.34270377  1.73119623 -1.13810338 -1.14072686\n",
      "  -0.72949361 -1.22530034]\n",
      " [ 0.33833667 -0.18385301  0.18096514 -0.29073893 -1.10185733  1.36100515\n",
      "  -0.72949361 -0.60847735]\n",
      " [ 1.52718818  2.02385109  1.93737778  1.78123823 -1.50056395 -1.41869708\n",
      "  -0.72949361 -0.69691723]\n",
      " [ 1.52718818  1.63482835  1.26183446  1.15690469 -0.9568731   0.8050647\n",
      "  -0.72949361 -1.22530034]\n",
      " [-0.85051483 -0.56315019 -0.35946951 -0.3074196  -0.05072168  1.08303492\n",
      "   1.73836775  0.91170864]\n",
      " [-0.85051483 -0.50479678 -0.35946951 -0.84000948 -0.05072168 -1.41869708\n",
      "  -0.72949361 -0.60847735]\n",
      " [ 0.33833667  0.32187657 -0.22436085  0.35146675  0.1305086  -0.30681619\n",
      "  -0.72949361 -0.37156939]\n",
      " [ 1.52718818  1.53757266  2.07248644  0.82805725 -1.68179423 -0.86275663\n",
      "  -0.72949361 -0.48764866]\n",
      " [-0.85051483 -0.98134964 -1.35927363 -1.39881183  0.67419945 -0.30681619\n",
      "   1.73836775  1.94882223]\n",
      " [-0.85051483 -0.50479678 -0.54862164 -0.39320589  0.49296917 -0.30681619\n",
      "  -0.72949361 -0.75818383]\n",
      " [-0.85051483 -0.69930815 -0.44053471  0.01189603  1.39912058 -1.14072686\n",
      "   0.50443707  0.01026622]\n",
      " [ 0.33833667  0.05928621 -0.22436085 -0.07746469  0.1305086  -0.86275663\n",
      "  -0.72949361 -0.37156939]\n",
      " [-0.85051483 -0.76738713 -0.22436085 -0.88290262 -0.59441253 -1.41869708\n",
      "   1.73836775  0.91170864]\n",
      " [-0.85051483 -0.39781552 -0.49457818 -0.13584702  0.71044551  0.52709448\n",
      "  -0.72949361 -0.48764866]\n",
      " [-0.85051483 -0.91327066 -1.03501283 -1.10094277  0.20300071  1.36100515\n",
      "  -0.72949361 -0.75818383]\n",
      " [-0.85051483 -0.91327066 -1.1701215  -0.9591571   2.34151806 -0.02884597\n",
      "  -0.72949361 -0.60847735]\n",
      " [ 1.52718818  1.1193732   0.7213998   1.34515793 -0.59441253 -1.14072686\n",
      "  -0.72949361 -0.60847735]\n",
      " [-0.85051483 -0.84519168 -1.0890563  -0.89839181 -0.26819802  1.36100515\n",
      "  -0.72949361 -0.37156939]\n",
      " [ 1.52718818  1.0901965   1.26183446  1.53460265 -0.05072168 -0.58478641\n",
      "  -0.72949361 -1.0367639 ]\n",
      " [ 1.52718818  2.30589259  2.55887763  1.63468666 -2.0442548  -1.6966673\n",
      "  -0.72949361 -0.75818383]\n",
      " [ 0.33833667  0.64282033  0.18096514 -0.00835907 -0.77564282 -1.41869708\n",
      "  -0.72949361 -1.0367639 ]\n",
      " [ 0.33833667 -0.10604846  0.18096514 -0.02861416  0.27549283  1.63897537\n",
      "  -0.72949361 -0.85666316]\n",
      " [ 1.52718818  0.66227147  0.18096514  0.47180585 -0.05072168  0.52709448\n",
      "  -0.72949361 -0.48764866]\n",
      " [ 0.33833667  0.56501578  0.18096514  0.65648467  0.27549283  0.24912426\n",
      "  -0.72949361 -0.60847735]\n",
      " [-0.85051483 -0.7771127  -0.41351298 -0.43371608  1.43536664  1.63897537\n",
      "  -0.72949361 -0.60847735]\n",
      " [-0.85051483 -0.99107521 -0.89990417 -1.22962221 -0.59441253 -0.30681619\n",
      "   0.50443707  1.05308119]\n",
      " [ 1.52718818  1.09992206  0.7213998   1.03775706 -0.08696774  0.8050647\n",
      "  -0.72949361 -0.60847735]]\n"
     ]
    }
   ],
   "source": [
    "print(X_test)"
   ]
  },
  {
   "cell_type": "code",
   "execution_count": 39,
   "id": "2480a88a",
   "metadata": {
    "execution": {
     "iopub.execute_input": "2024-12-02T12:52:15.190868Z",
     "iopub.status.busy": "2024-12-02T12:52:15.190398Z",
     "iopub.status.idle": "2024-12-02T12:52:15.195977Z",
     "shell.execute_reply": "2024-12-02T12:52:15.194749Z"
    },
    "papermill": {
     "duration": 0.035334,
     "end_time": "2024-12-02T12:52:15.198259",
     "exception": false,
     "start_time": "2024-12-02T12:52:15.162925",
     "status": "completed"
    },
    "tags": []
   },
   "outputs": [],
   "source": [
    "y_pred = ridge_reg.predict(X_test)"
   ]
  },
  {
   "cell_type": "code",
   "execution_count": 40,
   "id": "ae9b092a",
   "metadata": {
    "execution": {
     "iopub.execute_input": "2024-12-02T12:52:15.252376Z",
     "iopub.status.busy": "2024-12-02T12:52:15.251993Z",
     "iopub.status.idle": "2024-12-02T12:52:15.260926Z",
     "shell.execute_reply": "2024-12-02T12:52:15.259756Z"
    },
    "papermill": {
     "duration": 0.03855,
     "end_time": "2024-12-02T12:52:15.263129",
     "exception": false,
     "start_time": "2024-12-02T12:52:15.224579",
     "status": "completed"
    },
    "tags": []
   },
   "outputs": [
    {
     "name": "stdout",
     "output_type": "stream",
     "text": [
      "80\n"
     ]
    },
    {
     "data": {
      "text/plain": [
       "array([33.61050939, 29.03426692, 19.90836339, 17.48059744, 13.54191402,\n",
       "       26.07235803, 27.47714941,  9.31252758, 17.50918694, 21.41261675,\n",
       "       12.00344323, 36.78250716, 25.43383909, 12.93605317, 23.83204625,\n",
       "        8.08295306, 29.02518619, 21.63377889, 16.42847246, 35.81412537,\n",
       "       25.28715309, 19.3238297 , 27.87771383, 28.89093037, 14.83974364,\n",
       "       40.22506484, 26.73809014, 24.66162258, 21.0381806 ,  9.34069263,\n",
       "       27.87721586, 35.64215888, 20.31648136, 25.03123319, 33.89941288,\n",
       "       12.43281002, 21.8459362 , 21.46566941, 13.49671419, 27.01144216,\n",
       "       25.96858648, 28.54279178, 18.57763785,  8.09159438, 21.2857916 ,\n",
       "       36.73452955, 27.78728422, 23.52080915, 21.89601968, 28.77148291,\n",
       "       22.61165039, 31.06357552, 33.70378626, 10.28158232, 27.08132773,\n",
       "       10.43473874, 18.40146504, 28.86623524, 22.91382548, 20.97309375,\n",
       "       16.5160711 , 32.85556512, 23.61600713, 20.20406545, 21.25803942,\n",
       "       24.38064382, 25.42332408, 31.29290784, 27.84073865, 13.02671884,\n",
       "       31.07852204, 12.63314297, 10.30132412, 18.25571241, 26.53758234,\n",
       "       22.04968673, 20.69596941, 29.44081274, 30.20037773, 20.10668775])"
      ]
     },
     "execution_count": 40,
     "metadata": {},
     "output_type": "execute_result"
    }
   ],
   "source": [
    "print(len(y_pred))\n",
    "y_pred"
   ]
  },
  {
   "cell_type": "code",
   "execution_count": 41,
   "id": "0f37dcdc",
   "metadata": {
    "execution": {
     "iopub.execute_input": "2024-12-02T12:52:15.318021Z",
     "iopub.status.busy": "2024-12-02T12:52:15.317597Z",
     "iopub.status.idle": "2024-12-02T12:52:15.327989Z",
     "shell.execute_reply": "2024-12-02T12:52:15.326775Z"
    },
    "papermill": {
     "duration": 0.040398,
     "end_time": "2024-12-02T12:52:15.330177",
     "exception": false,
     "start_time": "2024-12-02T12:52:15.289779",
     "status": "completed"
    },
    "tags": []
   },
   "outputs": [
    {
     "data": {
      "text/plain": [
       "198    33.0\n",
       "396    28.0\n",
       "33     19.0\n",
       "208    13.0\n",
       "93     14.0\n",
       "       ... \n",
       "249    19.9\n",
       "225    17.5\n",
       "367    28.0\n",
       "175    29.0\n",
       "285    17.0\n",
       "Name: mpg, Length: 80, dtype: float64"
      ]
     },
     "execution_count": 41,
     "metadata": {},
     "output_type": "execute_result"
    }
   ],
   "source": [
    "y_test"
   ]
  },
  {
   "cell_type": "code",
   "execution_count": 42,
   "id": "fef25b4c",
   "metadata": {
    "execution": {
     "iopub.execute_input": "2024-12-02T12:52:15.384686Z",
     "iopub.status.busy": "2024-12-02T12:52:15.384256Z",
     "iopub.status.idle": "2024-12-02T12:52:15.703655Z",
     "shell.execute_reply": "2024-12-02T12:52:15.702565Z"
    },
    "papermill": {
     "duration": 0.349281,
     "end_time": "2024-12-02T12:52:15.705984",
     "exception": false,
     "start_time": "2024-12-02T12:52:15.356703",
     "status": "completed"
    },
    "tags": []
   },
   "outputs": [
    {
     "data": {
      "image/png": "[encoded data removed]",
      "text/plain": [
       "<Figure size 640x480 with 1 Axes>"
      ]
     },
     "metadata": {},
     "output_type": "display_data"
    }
   ],
   "source": [
    "import matplotlib.pyplot as plt\n",
    "\n",
    "# Plot predicted vs actual values\n",
    "plt.scatter(y_test, y_pred)\n",
    "plt.xlabel('Actual Values')\n",
    "plt.ylabel('Predicted Values')\n",
    "plt.title('Predicted vs Actual Values')\n",
    "plt.show()\n"
   ]
  },
  {
   "cell_type": "code",
   "execution_count": 43,
   "id": "f95b3a07",
   "metadata": {
    "execution": {
     "iopub.execute_input": "2024-12-02T12:52:15.763205Z",
     "iopub.status.busy": "2024-12-02T12:52:15.761848Z",
     "iopub.status.idle": "2024-12-02T12:52:16.096437Z",
     "shell.execute_reply": "2024-12-02T12:52:16.095043Z"
    },
    "papermill": {
     "duration": 0.365122,
     "end_time": "2024-12-02T12:52:16.098878",
     "exception": false,
     "start_time": "2024-12-02T12:52:15.733756",
     "status": "completed"
    },
    "tags": []
   },
   "outputs": [
    {
     "data": {
      "image/png": "[encoded data removed]",
      "text/plain": [
       "<Figure size 800x600 with 1 Axes>"
      ]
     },
     "metadata": {},
     "output_type": "display_data"
    }
   ],
   "source": [
    "plt.figure(figsize=(8, 6))\n",
    "\n",
    "# Scatter plot for actual values (you can choose any color you like)\n",
    "plt.scatter(np.arange(len(y_test)), y_test, color='blue', label='Actual Values')\n",
    "\n",
    "# Scatter plot for predicted values (you can choose any color you like)\n",
    "plt.scatter(np.arange(len(y_pred)), y_pred, color='red', label='Predicted Values')\n",
    "\n",
    "# Add labels and title\n",
    "plt.xlabel('Index')\n",
    "plt.ylabel('Value')\n",
    "plt.title('Actual vs Predicted Values')\n",
    "\n",
    "# Add a legend\n",
    "plt.legend()\n",
    "\n",
    "# Show the plot\n",
    "plt.show()"
   ]
  },
  {
   "cell_type": "code",
   "execution_count": 44,
   "id": "ff5aff47",
   "metadata": {
    "execution": {
     "iopub.execute_input": "2024-12-02T12:52:16.210149Z",
     "iopub.status.busy": "2024-12-02T12:52:16.209081Z",
     "iopub.status.idle": "2024-12-02T12:52:16.427898Z",
     "shell.execute_reply": "2024-12-02T12:52:16.426574Z"
    },
    "papermill": {
     "duration": 0.302536,
     "end_time": "2024-12-02T12:52:16.430291",
     "exception": false,
     "start_time": "2024-12-02T12:52:16.127755",
     "status": "completed"
    },
    "tags": []
   },
   "outputs": [
    {
     "data": {
      "image/png": "[encoded data removed]",
      "text/plain": [
       "<Figure size 640x480 with 1 Axes>"
      ]
     },
     "metadata": {},
     "output_type": "display_data"
    }
   ],
   "source": [
    "import seaborn as sns\n",
    "\n",
    "# Calculate residuals\n",
    "residuals = y_test - y_pred\n",
    "\n",
    "# Residual plot\n",
    "sns.residplot(x=y_pred, y=residuals, lowess=True, color='g', line_kws={'color': 'r', 'lw': 1})\n",
    "plt.xlabel('Predicted Values')\n",
    "plt.ylabel('Residuals')\n",
    "plt.title('Residual Plot')\n",
    "plt.show()\n"
   ]
  },
  {
   "cell_type": "code",
   "execution_count": 45,
   "id": "fd50dca5",
   "metadata": {
    "execution": {
     "iopub.execute_input": "2024-12-02T12:52:16.489240Z",
     "iopub.status.busy": "2024-12-02T12:52:16.488743Z",
     "iopub.status.idle": "2024-12-02T12:52:16.496770Z",
     "shell.execute_reply": "2024-12-02T12:52:16.495588Z"
    },
    "papermill": {
     "duration": 0.039726,
     "end_time": "2024-12-02T12:52:16.499355",
     "exception": false,
     "start_time": "2024-12-02T12:52:16.459629",
     "status": "completed"
    },
    "tags": []
   },
   "outputs": [
    {
     "name": "stdout",
     "output_type": "stream",
     "text": [
      "R² Score: 0.8759476386559408\n",
      "Mean Squared Error: 6.6698543082600334\n"
     ]
    }
   ],
   "source": [
    "from sklearn.metrics import mean_squared_error, r2_score\n",
    "\n",
    "# Example after predicting with the model\n",
    "y_pred = ridge_reg.predict(X_test)\n",
    "\n",
    "# R-squared score\n",
    "r2 = r2_score(y_test, y_pred)\n",
    "print(\"R² Score:\", r2)\n",
    "\n",
    "# Mean Squared Error\n",
    "mse = mean_squared_error(y_test, y_pred)\n",
    "print(\"Mean Squared Error:\", mse)\n"
   ]
  },
  {
   "cell_type": "code",
   "execution_count": 46,
   "id": "9261a76a",
   "metadata": {
    "execution": {
     "iopub.execute_input": "2024-12-02T12:52:16.557865Z",
     "iopub.status.busy": "2024-12-02T12:52:16.557407Z",
     "iopub.status.idle": "2024-12-02T12:52:16.570064Z",
     "shell.execute_reply": "2024-12-02T12:52:16.568862Z"
    },
    "papermill": {
     "duration": 0.044171,
     "end_time": "2024-12-02T12:52:16.572280",
     "exception": false,
     "start_time": "2024-12-02T12:52:16.528109",
     "status": "completed"
    },
    "tags": []
   },
   "outputs": [
    {
     "data": {
      "text/html": [
       "<style>#sk-container-id-2 {color: black;background-color: white;}#sk-container-id-2 pre{padding: 0;}#sk-container-id-2 div.sk-toggleable {background-color: white;}#sk-container-id-2 label.sk-toggleable__label {cursor: pointer;display: block;width: 100%;margin-bottom: 0;padding: 0.3em;box-sizing: border-box;text-align: center;}#sk-container-id-2 label.sk-toggleable__label-arrow:before {content: \"▸\";float: left;margin-right: 0.25em;color: #696969;}#sk-container-id-2 label.sk-toggleable__label-arrow:hover:before {color: black;}#sk-container-id-2 div.sk-estimator:hover label.sk-toggleable__label-arrow:before {color: black;}#sk-container-id-2 div.sk-toggleable__content {max-height: 0;max-width: 0;overflow: hidden;text-align: left;background-color: #f0f8ff;}#sk-container-id-2 div.sk-toggleable__content pre {margin: 0.2em;color: black;border-radius: 0.25em;background-color: #f0f8ff;}#sk-container-id-2 input.sk-toggleable__control:checked~div.sk-toggleable__content {max-height: 200px;max-width: 100%;overflow: auto;}#sk-container-id-2 input.sk-toggleable__control:checked~label.sk-toggleable__label-arrow:before {content: \"▾\";}#sk-container-id-2 div.sk-estimator input.sk-toggleable__control:checked~label.sk-toggleable__label {background-color: #d4ebff;}#sk-container-id-2 div.sk-label input.sk-toggleable__control:checked~label.sk-toggleable__label {background-color: #d4ebff;}#sk-container-id-2 input.sk-hidden--visually {border: 0;clip: rect(1px 1px 1px 1px);clip: rect(1px, 1px, 1px, 1px);height: 1px;margin: -1px;overflow: hidden;padding: 0;position: absolute;width: 1px;}#sk-container-id-2 div.sk-estimator {font-family: monospace;background-color: #f0f8ff;border: 1px dotted black;border-radius: 0.25em;box-sizing: border-box;margin-bottom: 0.5em;}#sk-container-id-2 div.sk-estimator:hover {background-color: #d4ebff;}#sk-container-id-2 div.sk-parallel-item::after {content: \"\";width: 100%;border-bottom: 1px solid gray;flex-grow: 1;}#sk-container-id-2 div.sk-label:hover label.sk-toggleable__label {background-color: #d4ebff;}#sk-container-id-2 div.sk-serial::before {content: \"\";position: absolute;border-left: 1px solid gray;box-sizing: border-box;top: 0;bottom: 0;left: 50%;z-index: 0;}#sk-container-id-2 div.sk-serial {display: flex;flex-direction: column;align-items: center;background-color: white;padding-right: 0.2em;padding-left: 0.2em;position: relative;}#sk-container-id-2 div.sk-item {position: relative;z-index: 1;}#sk-container-id-2 div.sk-parallel {display: flex;align-items: stretch;justify-content: center;background-color: white;position: relative;}#sk-container-id-2 div.sk-item::before, #sk-container-id-2 div.sk-parallel-item::before {content: \"\";position: absolute;border-left: 1px solid gray;box-sizing: border-box;top: 0;bottom: 0;left: 50%;z-index: -1;}#sk-container-id-2 div.sk-parallel-item {display: flex;flex-direction: column;z-index: 1;position: relative;background-color: white;}#sk-container-id-2 div.sk-parallel-item:first-child::after {align-self: flex-end;width: 50%;}#sk-container-id-2 div.sk-parallel-item:last-child::after {align-self: flex-start;width: 50%;}#sk-container-id-2 div.sk-parallel-item:only-child::after {width: 0;}#sk-container-id-2 div.sk-dashed-wrapped {border: 1px dashed gray;margin: 0 0.4em 0.5em 0.4em;box-sizing: border-box;padding-bottom: 0.4em;background-color: white;}#sk-container-id-2 div.sk-label label {font-family: monospace;font-weight: bold;display: inline-block;line-height: 1.2em;}#sk-container-id-2 div.sk-label-container {text-align: center;}#sk-container-id-2 div.sk-container {/* jupyter's `normalize.less` sets `[hidden] { display: none; }` but bootstrap.min.css set `[hidden] { display: none !important; }` so we also need the `!important` here to be able to override the default hidden behavior on the sphinx rendered scikit-learn.org. See: https://github.com/scikit-learn/scikit-learn/issues/21755 */display: inline-block !important;position: relative;}#sk-container-id-2 div.sk-text-repr-fallback {display: none;}</style><div id=\"sk-container-id-2\" class=\"sk-top-container\"><div class=\"sk-text-repr-fallback\"><pre>Lasso()</pre><b>In a Jupyter environment, please rerun this cell to show the HTML representation or trust the notebook. <br />On GitHub, the HTML representation is unable to render, please try loading this page with nbviewer.org.</b></div><div class=\"sk-container\" hidden><div class=\"sk-item\"><div class=\"sk-estimator sk-toggleable\"><input class=\"sk-toggleable__control sk-hidden--visually\" id=\"sk-estimator-id-2\" type=\"checkbox\" checked><label for=\"sk-estimator-id-2\" class=\"sk-toggleable__label sk-toggleable__label-arrow\">Lasso</label><div class=\"sk-toggleable__content\"><pre>Lasso()</pre></div></div></div></div></div>"
      ],
      "text/plain": [
       "Lasso()"
      ]
     },
     "execution_count": 46,
     "metadata": {},
     "output_type": "execute_result"
    }
   ],
   "source": [
    "from sklearn.linear_model import Lasso\n",
    "lasso_model = Lasso()\n",
    "\n",
    "lasso_model.fit(X_train, y_train)"
   ]
  },
  {
   "cell_type": "code",
   "execution_count": 47,
   "id": "e62c4513",
   "metadata": {
    "execution": {
     "iopub.execute_input": "2024-12-02T12:52:16.630535Z",
     "iopub.status.busy": "2024-12-02T12:52:16.630112Z",
     "iopub.status.idle": "2024-12-02T12:52:16.635675Z",
     "shell.execute_reply": "2024-12-02T12:52:16.634413Z"
    },
    "papermill": {
     "duration": 0.037323,
     "end_time": "2024-12-02T12:52:16.637976",
     "exception": false,
     "start_time": "2024-12-02T12:52:16.600653",
     "status": "completed"
    },
    "tags": []
   },
   "outputs": [],
   "source": [
    "y_lasso_pred = lasso_model.predict(X_test)"
   ]
  },
  {
   "cell_type": "code",
   "execution_count": 48,
   "id": "b820a0b1",
   "metadata": {
    "execution": {
     "iopub.execute_input": "2024-12-02T12:52:16.696247Z",
     "iopub.status.busy": "2024-12-02T12:52:16.695868Z",
     "iopub.status.idle": "2024-12-02T12:52:16.704594Z",
     "shell.execute_reply": "2024-12-02T12:52:16.703194Z"
    },
    "papermill": {
     "duration": 0.040365,
     "end_time": "2024-12-02T12:52:16.706724",
     "exception": false,
     "start_time": "2024-12-02T12:52:16.666359",
     "status": "completed"
    },
    "tags": []
   },
   "outputs": [
    {
     "data": {
      "text/plain": [
       "array([31.56544849, 27.96714704, 21.30463941, 18.17782127, 15.02271035,\n",
       "       26.56284608, 26.72738255, 11.38322276, 18.22904955, 22.08810189,\n",
       "       14.3401854 , 34.06154779, 25.46737673, 15.46020446, 24.01842015,\n",
       "       10.29543168, 28.24667638, 23.23742059, 16.88940041, 33.45467933,\n",
       "       24.75171266, 20.47478541, 26.77774676, 28.28464996, 16.77008004,\n",
       "       34.37096605, 26.4178868 , 24.59185596, 21.3663344 , 11.26003778,\n",
       "       27.1241812 , 33.02764114, 19.80485858, 25.65613259, 32.14679504,\n",
       "       14.09816041, 23.37116466, 21.61483628, 14.87533513, 26.80603171,\n",
       "       26.00632979, 27.58265012, 20.91791962, 10.75609239, 23.45919672,\n",
       "       33.44928612, 27.14985652, 24.44087606, 23.15790309, 27.88687703,\n",
       "       22.99130096, 30.78858375, 31.31118855, 12.47276154, 26.91542951,\n",
       "       12.31964796, 18.99350511, 28.08695782, 23.61035762, 21.19250929,\n",
       "       17.56732796, 30.99920774, 23.91546133, 21.32497357, 21.8253474 ,\n",
       "       25.33507512, 24.82513952, 30.31275435, 27.07704656, 14.98978418,\n",
       "       29.88869218, 14.80284802, 12.18193066, 19.64786422, 26.14615813,\n",
       "       22.20333787, 20.75205239, 28.17653046, 29.29416268, 20.21861514])"
      ]
     },
     "execution_count": 48,
     "metadata": {},
     "output_type": "execute_result"
    }
   ],
   "source": [
    "y_lasso_pred"
   ]
  },
  {
   "cell_type": "code",
   "execution_count": 49,
   "id": "a52e754d",
   "metadata": {
    "execution": {
     "iopub.execute_input": "2024-12-02T12:52:16.765020Z",
     "iopub.status.busy": "2024-12-02T12:52:16.764616Z",
     "iopub.status.idle": "2024-12-02T12:52:16.772900Z",
     "shell.execute_reply": "2024-12-02T12:52:16.771593Z"
    },
    "papermill": {
     "duration": 0.040546,
     "end_time": "2024-12-02T12:52:16.775581",
     "exception": false,
     "start_time": "2024-12-02T12:52:16.735035",
     "status": "completed"
    },
    "tags": []
   },
   "outputs": [
    {
     "name": "stdout",
     "output_type": "stream",
     "text": [
      "R² Score: 0.8648885693566221\n",
      "Mean Squared Error: 7.264461135669206\n"
     ]
    }
   ],
   "source": [
    "from sklearn.metrics import mean_squared_error, r2_score\n",
    "\n",
    "# R-squared score\n",
    "r2 = r2_score(y_test, y_lasso_pred)\n",
    "print(\"R² Score:\", r2)\n",
    "\n",
    "# Mean Squared Error\n",
    "mse = mean_squared_error(y_test, y_lasso_pred)\n",
    "print(\"Mean Squared Error:\", mse)\n"
   ]
  },
  {
   "attachments": {
    "f0c85846-a5cb-46c7-a009-fd624412cdaf.png": {
     "image/png": "[encoded data removed]"
    }
   },
   "cell_type": "markdown",
   "id": "62aa06c0",
   "metadata": {
    "papermill": {
     "duration": 0.029092,
     "end_time": "2024-12-02T12:52:16.833259",
     "exception": false,
     "start_time": "2024-12-02T12:52:16.804167",
     "status": "completed"
    },
    "tags": []
   },
   "source": [
    "![image.png](attachment:f0c85846-a5cb-46c7-a009-fd624412cdaf.png)"
   ]
  },
  {
   "cell_type": "code",
   "execution_count": 50,
   "id": "78ffcc22",
   "metadata": {
    "execution": {
     "iopub.execute_input": "2024-12-02T12:52:16.893188Z",
     "iopub.status.busy": "2024-12-02T12:52:16.892797Z",
     "iopub.status.idle": "2024-12-02T12:52:16.900590Z",
     "shell.execute_reply": "2024-12-02T12:52:16.899371Z"
    },
    "papermill": {
     "duration": 0.041027,
     "end_time": "2024-12-02T12:52:16.903190",
     "exception": false,
     "start_time": "2024-12-02T12:52:16.862163",
     "status": "completed"
    },
    "tags": []
   },
   "outputs": [
    {
     "data": {
      "text/plain": [
       "array([-0.        , -0.        , -0.17901472, -4.11562181,  0.        ,\n",
       "        2.03705542,  0.        ,  1.03432869])"
      ]
     },
     "execution_count": 50,
     "metadata": {},
     "output_type": "execute_result"
    }
   ],
   "source": [
    "lasso_model.coef_"
   ]
  },
  {
   "cell_type": "code",
   "execution_count": 51,
   "id": "48e22633",
   "metadata": {
    "execution": {
     "iopub.execute_input": "2024-12-02T12:52:16.962603Z",
     "iopub.status.busy": "2024-12-02T12:52:16.962161Z",
     "iopub.status.idle": "2024-12-02T12:52:16.969342Z",
     "shell.execute_reply": "2024-12-02T12:52:16.968280Z"
    },
    "papermill": {
     "duration": 0.039833,
     "end_time": "2024-12-02T12:52:16.971561",
     "exception": false,
     "start_time": "2024-12-02T12:52:16.931728",
     "status": "completed"
    },
    "tags": []
   },
   "outputs": [
    {
     "data": {
      "text/plain": [
       "array([-0.54219306,  1.36911949, -0.27897732, -5.08039158,  0.3419396 ,\n",
       "        2.76050514, -0.63981818,  2.24380846])"
      ]
     },
     "execution_count": 51,
     "metadata": {},
     "output_type": "execute_result"
    }
   ],
   "source": [
    "ridge_reg.coef_"
   ]
  },
  {
   "attachments": {
    "b9423225-d78d-4648-ae65-396e93c94ef2.png": {
     "image/png": "[encoded data removed]"
    }
   },
   "cell_type": "markdown",
   "id": "5ea20bc7",
   "metadata": {
    "papermill": {
     "duration": 0.028741,
     "end_time": "2024-12-02T12:52:17.029129",
     "exception": false,
     "start_time": "2024-12-02T12:52:17.000388",
     "status": "completed"
    },
    "tags": []
   },
   "source": [
    "![image.png](attachment:b9423225-d78d-4648-ae65-396e93c94ef2.png)"
   ]
  },
  {
   "cell_type": "markdown",
   "id": "c59bf3e9",
   "metadata": {
    "papermill": {
     "duration": 0.030196,
     "end_time": "2024-12-02T12:52:17.088174",
     "exception": false,
     "start_time": "2024-12-02T12:52:17.057978",
     "status": "completed"
    },
    "tags": []
   },
   "source": [
    "# Elastic Net"
   ]
  },
  {
   "attachments": {
    "4992048a-d4f3-4c09-b4e0-c515d1889505.png": {
     "image/png": "[encoded data removed]"
    }
   },
   "cell_type": "markdown",
   "id": "76ba2359",
   "metadata": {
    "papermill": {
     "duration": 0.028918,
     "end_time": "2024-12-02T12:52:17.146196",
     "exception": false,
     "start_time": "2024-12-02T12:52:17.117278",
     "status": "completed"
    },
    "tags": []
   },
   "source": [
    "![image.png](attachment:4992048a-d4f3-4c09-b4e0-c515d1889505.png)"
   ]
  },
  {
   "cell_type": "code",
   "execution_count": 52,
   "id": "65c52a0b",
   "metadata": {
    "execution": {
     "iopub.execute_input": "2024-12-02T12:52:17.206732Z",
     "iopub.status.busy": "2024-12-02T12:52:17.205463Z",
     "iopub.status.idle": "2024-12-02T12:52:17.215360Z",
     "shell.execute_reply": "2024-12-02T12:52:17.214326Z"
    },
    "papermill": {
     "duration": 0.042264,
     "end_time": "2024-12-02T12:52:17.217305",
     "exception": false,
     "start_time": "2024-12-02T12:52:17.175041",
     "status": "completed"
    },
    "tags": []
   },
   "outputs": [
    {
     "data": {
      "text/html": [
       "<style>#sk-container-id-3 {color: black;background-color: white;}#sk-container-id-3 pre{padding: 0;}#sk-container-id-3 div.sk-toggleable {background-color: white;}#sk-container-id-3 label.sk-toggleable__label {cursor: pointer;display: block;width: 100%;margin-bottom: 0;padding: 0.3em;box-sizing: border-box;text-align: center;}#sk-container-id-3 label.sk-toggleable__label-arrow:before {content: \"▸\";float: left;margin-right: 0.25em;color: #696969;}#sk-container-id-3 label.sk-toggleable__label-arrow:hover:before {color: black;}#sk-container-id-3 div.sk-estimator:hover label.sk-toggleable__label-arrow:before {color: black;}#sk-container-id-3 div.sk-toggleable__content {max-height: 0;max-width: 0;overflow: hidden;text-align: left;background-color: #f0f8ff;}#sk-container-id-3 div.sk-toggleable__content pre {margin: 0.2em;color: black;border-radius: 0.25em;background-color: #f0f8ff;}#sk-container-id-3 input.sk-toggleable__control:checked~div.sk-toggleable__content {max-height: 200px;max-width: 100%;overflow: auto;}#sk-container-id-3 input.sk-toggleable__control:checked~label.sk-toggleable__label-arrow:before {content: \"▾\";}#sk-container-id-3 div.sk-estimator input.sk-toggleable__control:checked~label.sk-toggleable__label {background-color: #d4ebff;}#sk-container-id-3 div.sk-label input.sk-toggleable__control:checked~label.sk-toggleable__label {background-color: #d4ebff;}#sk-container-id-3 input.sk-hidden--visually {border: 0;clip: rect(1px 1px 1px 1px);clip: rect(1px, 1px, 1px, 1px);height: 1px;margin: -1px;overflow: hidden;padding: 0;position: absolute;width: 1px;}#sk-container-id-3 div.sk-estimator {font-family: monospace;background-color: #f0f8ff;border: 1px dotted black;border-radius: 0.25em;box-sizing: border-box;margin-bottom: 0.5em;}#sk-container-id-3 div.sk-estimator:hover {background-color: #d4ebff;}#sk-container-id-3 div.sk-parallel-item::after {content: \"\";width: 100%;border-bottom: 1px solid gray;flex-grow: 1;}#sk-container-id-3 div.sk-label:hover label.sk-toggleable__label {background-color: #d4ebff;}#sk-container-id-3 div.sk-serial::before {content: \"\";position: absolute;border-left: 1px solid gray;box-sizing: border-box;top: 0;bottom: 0;left: 50%;z-index: 0;}#sk-container-id-3 div.sk-serial {display: flex;flex-direction: column;align-items: center;background-color: white;padding-right: 0.2em;padding-left: 0.2em;position: relative;}#sk-container-id-3 div.sk-item {position: relative;z-index: 1;}#sk-container-id-3 div.sk-parallel {display: flex;align-items: stretch;justify-content: center;background-color: white;position: relative;}#sk-container-id-3 div.sk-item::before, #sk-container-id-3 div.sk-parallel-item::before {content: \"\";position: absolute;border-left: 1px solid gray;box-sizing: border-box;top: 0;bottom: 0;left: 50%;z-index: -1;}#sk-container-id-3 div.sk-parallel-item {display: flex;flex-direction: column;z-index: 1;position: relative;background-color: white;}#sk-container-id-3 div.sk-parallel-item:first-child::after {align-self: flex-end;width: 50%;}#sk-container-id-3 div.sk-parallel-item:last-child::after {align-self: flex-start;width: 50%;}#sk-container-id-3 div.sk-parallel-item:only-child::after {width: 0;}#sk-container-id-3 div.sk-dashed-wrapped {border: 1px dashed gray;margin: 0 0.4em 0.5em 0.4em;box-sizing: border-box;padding-bottom: 0.4em;background-color: white;}#sk-container-id-3 div.sk-label label {font-family: monospace;font-weight: bold;display: inline-block;line-height: 1.2em;}#sk-container-id-3 div.sk-label-container {text-align: center;}#sk-container-id-3 div.sk-container {/* jupyter's `normalize.less` sets `[hidden] { display: none; }` but bootstrap.min.css set `[hidden] { display: none !important; }` so we also need the `!important` here to be able to override the default hidden behavior on the sphinx rendered scikit-learn.org. See: https://github.com/scikit-learn/scikit-learn/issues/21755 */display: inline-block !important;position: relative;}#sk-container-id-3 div.sk-text-repr-fallback {display: none;}</style><div id=\"sk-container-id-3\" class=\"sk-top-container\"><div class=\"sk-text-repr-fallback\"><pre>ElasticNet(alpha=0.1)</pre><b>In a Jupyter environment, please rerun this cell to show the HTML representation or trust the notebook. <br />On GitHub, the HTML representation is unable to render, please try loading this page with nbviewer.org.</b></div><div class=\"sk-container\" hidden><div class=\"sk-item\"><div class=\"sk-estimator sk-toggleable\"><input class=\"sk-toggleable__control sk-hidden--visually\" id=\"sk-estimator-id-3\" type=\"checkbox\" checked><label for=\"sk-estimator-id-3\" class=\"sk-toggleable__label sk-toggleable__label-arrow\">ElasticNet</label><div class=\"sk-toggleable__content\"><pre>ElasticNet(alpha=0.1)</pre></div></div></div></div></div>"
      ],
      "text/plain": [
       "ElasticNet(alpha=0.1)"
      ]
     },
     "execution_count": 52,
     "metadata": {},
     "output_type": "execute_result"
    }
   ],
   "source": [
    "from sklearn.linear_model import ElasticNet\n",
    "\n",
    "eN = ElasticNet(alpha=0.1, l1_ratio=0.5)\n",
    "eN.fit(X_train, y_train)"
   ]
  },
  {
   "cell_type": "code",
   "execution_count": 53,
   "id": "e69cf9e3",
   "metadata": {
    "execution": {
     "iopub.execute_input": "2024-12-02T12:52:17.277089Z",
     "iopub.status.busy": "2024-12-02T12:52:17.276701Z",
     "iopub.status.idle": "2024-12-02T12:52:17.282786Z",
     "shell.execute_reply": "2024-12-02T12:52:17.281357Z"
    },
    "papermill": {
     "duration": 0.038803,
     "end_time": "2024-12-02T12:52:17.284789",
     "exception": false,
     "start_time": "2024-12-02T12:52:17.245986",
     "status": "completed"
    },
    "tags": []
   },
   "outputs": [],
   "source": [
    "y_pred_en = eN.predict(X_test)"
   ]
  },
  {
   "cell_type": "code",
   "execution_count": 54,
   "id": "80a55583",
   "metadata": {
    "execution": {
     "iopub.execute_input": "2024-12-02T12:52:17.346648Z",
     "iopub.status.busy": "2024-12-02T12:52:17.346216Z",
     "iopub.status.idle": "2024-12-02T12:52:17.354170Z",
     "shell.execute_reply": "2024-12-02T12:52:17.352998Z"
    },
    "papermill": {
     "duration": 0.042895,
     "end_time": "2024-12-02T12:52:17.356583",
     "exception": false,
     "start_time": "2024-12-02T12:52:17.313688",
     "status": "completed"
    },
    "tags": []
   },
   "outputs": [
    {
     "name": "stdout",
     "output_type": "stream",
     "text": [
      "R² Score: 0.8742340699402372\n",
      "Mean Squared Error: 6.761986804224671\n"
     ]
    }
   ],
   "source": [
    "from sklearn.metrics import mean_squared_error, r2_score\n",
    "\n",
    "# R-squared score\n",
    "r2 = r2_score(y_test, y_pred_en)\n",
    "print(\"R² Score:\", r2)\n",
    "\n",
    "# Mean Squared Error\n",
    "mse = mean_squared_error(y_test, y_pred_en)\n",
    "print(\"Mean Squared Error:\", mse)"
   ]
  },
  {
   "cell_type": "markdown",
   "id": "02aed43a",
   "metadata": {
    "papermill": {
     "duration": 0.028668,
     "end_time": "2024-12-02T12:52:17.413844",
     "exception": false,
     "start_time": "2024-12-02T12:52:17.385176",
     "status": "completed"
    },
    "tags": []
   },
   "source": [
    "# Hyper_parameter Tuning"
   ]
  },
  {
   "cell_type": "code",
   "execution_count": 55,
   "id": "d89d7735",
   "metadata": {
    "execution": {
     "iopub.execute_input": "2024-12-02T12:52:17.474372Z",
     "iopub.status.busy": "2024-12-02T12:52:17.473970Z",
     "iopub.status.idle": "2024-12-02T12:52:17.480077Z",
     "shell.execute_reply": "2024-12-02T12:52:17.478964Z"
    },
    "papermill": {
     "duration": 0.03916,
     "end_time": "2024-12-02T12:52:17.482189",
     "exception": false,
     "start_time": "2024-12-02T12:52:17.443029",
     "status": "completed"
    },
    "tags": []
   },
   "outputs": [],
   "source": [
    "from sklearn.model_selection import GridSearchCV\n",
    "\n",
    "param_grid = {\n",
    "    'alpha' : np.logspace(-3, 2, 10),\n",
    "    'l1_ratio' : np.logspace(0, 1, 10),\n",
    "}\n",
    "\n",
    "grid_search = GridSearchCV(estimator=eN, param_grid=param_grid, cv=4, scoring='neg_mean_squared_error', verbose=1, n_jobs=-1)"
   ]
  },
  {
   "cell_type": "code",
   "execution_count": 56,
   "id": "1fe6e18b",
   "metadata": {
    "execution": {
     "iopub.execute_input": "2024-12-02T12:52:17.543203Z",
     "iopub.status.busy": "2024-12-02T12:52:17.542036Z",
     "iopub.status.idle": "2024-12-02T12:52:17.549069Z",
     "shell.execute_reply": "2024-12-02T12:52:17.548006Z"
    },
    "papermill": {
     "duration": 0.039135,
     "end_time": "2024-12-02T12:52:17.551314",
     "exception": false,
     "start_time": "2024-12-02T12:52:17.512179",
     "status": "completed"
    },
    "tags": []
   },
   "outputs": [
    {
     "data": {
      "text/plain": [
       "array([], dtype=float64)"
      ]
     },
     "execution_count": 56,
     "metadata": {},
     "output_type": "execute_result"
    }
   ],
   "source": [
    "X_train[X_train == np.nan]"
   ]
  },
  {
   "cell_type": "code",
   "execution_count": 57,
   "id": "5e1db3de",
   "metadata": {
    "execution": {
     "iopub.execute_input": "2024-12-02T12:52:17.610980Z",
     "iopub.status.busy": "2024-12-02T12:52:17.610561Z",
     "iopub.status.idle": "2024-12-02T12:52:19.929098Z",
     "shell.execute_reply": "2024-12-02T12:52:19.927667Z"
    },
    "papermill": {
     "duration": 2.351118,
     "end_time": "2024-12-02T12:52:19.931356",
     "exception": false,
     "start_time": "2024-12-02T12:52:17.580238",
     "status": "completed"
    },
    "tags": []
   },
   "outputs": [
    {
     "name": "stdout",
     "output_type": "stream",
     "text": [
      "Fitting 4 folds for each of 100 candidates, totalling 400 fits\n"
     ]
    },
    {
     "name": "stderr",
     "output_type": "stream",
     "text": [
      "/opt/conda/lib/python3.10/site-packages/sklearn/model_selection/_validation.py:378: FitFailedWarning: \n",
      "360 fits failed out of a total of 400.\n",
      "The score on these train-test partitions for these parameters will be set to nan.\n",
      "If these failures are not expected, you can try to debug them by setting error_score='raise'.\n",
      "\n",
      "Below are more details about the failures:\n",
      "--------------------------------------------------------------------------------\n",
      "40 fits failed with the following error:\n",
      "Traceback (most recent call last):\n",
      "  File \"/opt/conda/lib/python3.10/site-packages/sklearn/model_selection/_validation.py\", line 686, in _fit_and_score\n",
      "    estimator.fit(X_train, y_train, **fit_params)\n",
      "  File \"/opt/conda/lib/python3.10/site-packages/sklearn/linear_model/_coordinate_descent.py\", line 892, in fit\n",
      "    self._validate_params()\n",
      "  File \"/opt/conda/lib/python3.10/site-packages/sklearn/base.py\", line 600, in _validate_params\n",
      "    validate_parameter_constraints(\n",
      "  File \"/opt/conda/lib/python3.10/site-packages/sklearn/utils/_param_validation.py\", line 97, in validate_parameter_constraints\n",
      "    raise InvalidParameterError(\n",
      "sklearn.utils._param_validation.InvalidParameterError: The 'l1_ratio' parameter of ElasticNet must be a float in the range [0, 1]. Got 1.2915496650148839 instead.\n",
      "\n",
      "--------------------------------------------------------------------------------\n",
      "40 fits failed with the following error:\n",
      "Traceback (most recent call last):\n",
      "  File \"/opt/conda/lib/python3.10/site-packages/sklearn/model_selection/_validation.py\", line 686, in _fit_and_score\n",
      "    estimator.fit(X_train, y_train, **fit_params)\n",
      "  File \"/opt/conda/lib/python3.10/site-packages/sklearn/linear_model/_coordinate_descent.py\", line 892, in fit\n",
      "    self._validate_params()\n",
      "  File \"/opt/conda/lib/python3.10/site-packages/sklearn/base.py\", line 600, in _validate_params\n",
      "    validate_parameter_constraints(\n",
      "  File \"/opt/conda/lib/python3.10/site-packages/sklearn/utils/_param_validation.py\", line 97, in validate_parameter_constraints\n",
      "    raise InvalidParameterError(\n",
      "sklearn.utils._param_validation.InvalidParameterError: The 'l1_ratio' parameter of ElasticNet must be a float in the range [0, 1]. Got 1.6681005372000588 instead.\n",
      "\n",
      "--------------------------------------------------------------------------------\n",
      "40 fits failed with the following error:\n",
      "Traceback (most recent call last):\n",
      "  File \"/opt/conda/lib/python3.10/site-packages/sklearn/model_selection/_validation.py\", line 686, in _fit_and_score\n",
      "    estimator.fit(X_train, y_train, **fit_params)\n",
      "  File \"/opt/conda/lib/python3.10/site-packages/sklearn/linear_model/_coordinate_descent.py\", line 892, in fit\n",
      "    self._validate_params()\n",
      "  File \"/opt/conda/lib/python3.10/site-packages/sklearn/base.py\", line 600, in _validate_params\n",
      "    validate_parameter_constraints(\n",
      "  File \"/opt/conda/lib/python3.10/site-packages/sklearn/utils/_param_validation.py\", line 97, in validate_parameter_constraints\n",
      "    raise InvalidParameterError(\n",
      "sklearn.utils._param_validation.InvalidParameterError: The 'l1_ratio' parameter of ElasticNet must be a float in the range [0, 1]. Got 2.154434690031884 instead.\n",
      "\n",
      "--------------------------------------------------------------------------------\n",
      "40 fits failed with the following error:\n",
      "Traceback (most recent call last):\n",
      "  File \"/opt/conda/lib/python3.10/site-packages/sklearn/model_selection/_validation.py\", line 686, in _fit_and_score\n",
      "    estimator.fit(X_train, y_train, **fit_params)\n",
      "  File \"/opt/conda/lib/python3.10/site-packages/sklearn/linear_model/_coordinate_descent.py\", line 892, in fit\n",
      "    self._validate_params()\n",
      "  File \"/opt/conda/lib/python3.10/site-packages/sklearn/base.py\", line 600, in _validate_params\n",
      "    validate_parameter_constraints(\n",
      "  File \"/opt/conda/lib/python3.10/site-packages/sklearn/utils/_param_validation.py\", line 97, in validate_parameter_constraints\n",
      "    raise InvalidParameterError(\n",
      "sklearn.utils._param_validation.InvalidParameterError: The 'l1_ratio' parameter of ElasticNet must be a float in the range [0, 1]. Got 2.7825594022071245 instead.\n",
      "\n",
      "--------------------------------------------------------------------------------\n",
      "40 fits failed with the following error:\n",
      "Traceback (most recent call last):\n",
      "  File \"/opt/conda/lib/python3.10/site-packages/sklearn/model_selection/_validation.py\", line 686, in _fit_and_score\n",
      "    estimator.fit(X_train, y_train, **fit_params)\n",
      "  File \"/opt/conda/lib/python3.10/site-packages/sklearn/linear_model/_coordinate_descent.py\", line 892, in fit\n",
      "    self._validate_params()\n",
      "  File \"/opt/conda/lib/python3.10/site-packages/sklearn/base.py\", line 600, in _validate_params\n",
      "    validate_parameter_constraints(\n",
      "  File \"/opt/conda/lib/python3.10/site-packages/sklearn/utils/_param_validation.py\", line 97, in validate_parameter_constraints\n",
      "    raise InvalidParameterError(\n",
      "sklearn.utils._param_validation.InvalidParameterError: The 'l1_ratio' parameter of ElasticNet must be a float in the range [0, 1]. Got 3.5938136638046276 instead.\n",
      "\n",
      "--------------------------------------------------------------------------------\n",
      "40 fits failed with the following error:\n",
      "Traceback (most recent call last):\n",
      "  File \"/opt/conda/lib/python3.10/site-packages/sklearn/model_selection/_validation.py\", line 686, in _fit_and_score\n",
      "    estimator.fit(X_train, y_train, **fit_params)\n",
      "  File \"/opt/conda/lib/python3.10/site-packages/sklearn/linear_model/_coordinate_descent.py\", line 892, in fit\n",
      "    self._validate_params()\n",
      "  File \"/opt/conda/lib/python3.10/site-packages/sklearn/base.py\", line 600, in _validate_params\n",
      "    validate_parameter_constraints(\n",
      "  File \"/opt/conda/lib/python3.10/site-packages/sklearn/utils/_param_validation.py\", line 97, in validate_parameter_constraints\n",
      "    raise InvalidParameterError(\n",
      "sklearn.utils._param_validation.InvalidParameterError: The 'l1_ratio' parameter of ElasticNet must be a float in the range [0, 1]. Got 4.641588833612778 instead.\n",
      "\n",
      "--------------------------------------------------------------------------------\n",
      "40 fits failed with the following error:\n",
      "Traceback (most recent call last):\n",
      "  File \"/opt/conda/lib/python3.10/site-packages/sklearn/model_selection/_validation.py\", line 686, in _fit_and_score\n",
      "    estimator.fit(X_train, y_train, **fit_params)\n",
      "  File \"/opt/conda/lib/python3.10/site-packages/sklearn/linear_model/_coordinate_descent.py\", line 892, in fit\n",
      "    self._validate_params()\n",
      "  File \"/opt/conda/lib/python3.10/site-packages/sklearn/base.py\", line 600, in _validate_params\n",
      "    validate_parameter_constraints(\n",
      "  File \"/opt/conda/lib/python3.10/site-packages/sklearn/utils/_param_validation.py\", line 97, in validate_parameter_constraints\n",
      "    raise InvalidParameterError(\n",
      "sklearn.utils._param_validation.InvalidParameterError: The 'l1_ratio' parameter of ElasticNet must be a float in the range [0, 1]. Got 5.994842503189409 instead.\n",
      "\n",
      "--------------------------------------------------------------------------------\n",
      "40 fits failed with the following error:\n",
      "Traceback (most recent call last):\n",
      "  File \"/opt/conda/lib/python3.10/site-packages/sklearn/model_selection/_validation.py\", line 686, in _fit_and_score\n",
      "    estimator.fit(X_train, y_train, **fit_params)\n",
      "  File \"/opt/conda/lib/python3.10/site-packages/sklearn/linear_model/_coordinate_descent.py\", line 892, in fit\n",
      "    self._validate_params()\n",
      "  File \"/opt/conda/lib/python3.10/site-packages/sklearn/base.py\", line 600, in _validate_params\n",
      "    validate_parameter_constraints(\n",
      "  File \"/opt/conda/lib/python3.10/site-packages/sklearn/utils/_param_validation.py\", line 97, in validate_parameter_constraints\n",
      "    raise InvalidParameterError(\n",
      "sklearn.utils._param_validation.InvalidParameterError: The 'l1_ratio' parameter of ElasticNet must be a float in the range [0, 1]. Got 7.742636826811269 instead.\n",
      "\n",
      "--------------------------------------------------------------------------------\n",
      "40 fits failed with the following error:\n",
      "Traceback (most recent call last):\n",
      "  File \"/opt/conda/lib/python3.10/site-packages/sklearn/model_selection/_validation.py\", line 686, in _fit_and_score\n",
      "    estimator.fit(X_train, y_train, **fit_params)\n",
      "  File \"/opt/conda/lib/python3.10/site-packages/sklearn/linear_model/_coordinate_descent.py\", line 892, in fit\n",
      "    self._validate_params()\n",
      "  File \"/opt/conda/lib/python3.10/site-packages/sklearn/base.py\", line 600, in _validate_params\n",
      "    validate_parameter_constraints(\n",
      "  File \"/opt/conda/lib/python3.10/site-packages/sklearn/utils/_param_validation.py\", line 97, in validate_parameter_constraints\n",
      "    raise InvalidParameterError(\n",
      "sklearn.utils._param_validation.InvalidParameterError: The 'l1_ratio' parameter of ElasticNet must be a float in the range [0, 1]. Got 10.0 instead.\n",
      "\n",
      "  warnings.warn(some_fits_failed_message, FitFailedWarning)\n",
      "/opt/conda/lib/python3.10/site-packages/sklearn/model_selection/_search.py:952: UserWarning: One or more of the test scores are non-finite: [-11.43933816          nan          nan          nan          nan\n",
      "          nan          nan          nan          nan          nan\n",
      " -11.43982315          nan          nan          nan          nan\n",
      "          nan          nan          nan          nan          nan\n",
      " -11.4518327           nan          nan          nan          nan\n",
      "          nan          nan          nan          nan          nan\n",
      " -11.40206264          nan          nan          nan          nan\n",
      "          nan          nan          nan          nan          nan\n",
      " -11.37844367          nan          nan          nan          nan\n",
      "          nan          nan          nan          nan          nan\n",
      " -11.846077            nan          nan          nan          nan\n",
      "          nan          nan          nan          nan          nan\n",
      " -19.20777149          nan          nan          nan          nan\n",
      "          nan          nan          nan          nan          nan\n",
      " -62.96901568          nan          nan          nan          nan\n",
      "          nan          nan          nan          nan          nan\n",
      " -62.96901568          nan          nan          nan          nan\n",
      "          nan          nan          nan          nan          nan\n",
      " -62.96901568          nan          nan          nan          nan\n",
      "          nan          nan          nan          nan          nan]\n",
      "  warnings.warn(\n"
     ]
    },
    {
     "data": {
      "text/html": [
       "<style>#sk-container-id-4 {color: black;background-color: white;}#sk-container-id-4 pre{padding: 0;}#sk-container-id-4 div.sk-toggleable {background-color: white;}#sk-container-id-4 label.sk-toggleable__label {cursor: pointer;display: block;width: 100%;margin-bottom: 0;padding: 0.3em;box-sizing: border-box;text-align: center;}#sk-container-id-4 label.sk-toggleable__label-arrow:before {content: \"▸\";float: left;margin-right: 0.25em;color: #696969;}#sk-container-id-4 label.sk-toggleable__label-arrow:hover:before {color: black;}#sk-container-id-4 div.sk-estimator:hover label.sk-toggleable__label-arrow:before {color: black;}#sk-container-id-4 div.sk-toggleable__content {max-height: 0;max-width: 0;overflow: hidden;text-align: left;background-color: #f0f8ff;}#sk-container-id-4 div.sk-toggleable__content pre {margin: 0.2em;color: black;border-radius: 0.25em;background-color: #f0f8ff;}#sk-container-id-4 input.sk-toggleable__control:checked~div.sk-toggleable__content {max-height: 200px;max-width: 100%;overflow: auto;}#sk-container-id-4 input.sk-toggleable__control:checked~label.sk-toggleable__label-arrow:before {content: \"▾\";}#sk-container-id-4 div.sk-estimator input.sk-toggleable__control:checked~label.sk-toggleable__label {background-color: #d4ebff;}#sk-container-id-4 div.sk-label input.sk-toggleable__control:checked~label.sk-toggleable__label {background-color: #d4ebff;}#sk-container-id-4 input.sk-hidden--visually {border: 0;clip: rect(1px 1px 1px 1px);clip: rect(1px, 1px, 1px, 1px);height: 1px;margin: -1px;overflow: hidden;padding: 0;position: absolute;width: 1px;}#sk-container-id-4 div.sk-estimator {font-family: monospace;background-color: #f0f8ff;border: 1px dotted black;border-radius: 0.25em;box-sizing: border-box;margin-bottom: 0.5em;}#sk-container-id-4 div.sk-estimator:hover {background-color: #d4ebff;}#sk-container-id-4 div.sk-parallel-item::after {content: \"\";width: 100%;border-bottom: 1px solid gray;flex-grow: 1;}#sk-container-id-4 div.sk-label:hover label.sk-toggleable__label {background-color: #d4ebff;}#sk-container-id-4 div.sk-serial::before {content: \"\";position: absolute;border-left: 1px solid gray;box-sizing: border-box;top: 0;bottom: 0;left: 50%;z-index: 0;}#sk-container-id-4 div.sk-serial {display: flex;flex-direction: column;align-items: center;background-color: white;padding-right: 0.2em;padding-left: 0.2em;position: relative;}#sk-container-id-4 div.sk-item {position: relative;z-index: 1;}#sk-container-id-4 div.sk-parallel {display: flex;align-items: stretch;justify-content: center;background-color: white;position: relative;}#sk-container-id-4 div.sk-item::before, #sk-container-id-4 div.sk-parallel-item::before {content: \"\";position: absolute;border-left: 1px solid gray;box-sizing: border-box;top: 0;bottom: 0;left: 50%;z-index: -1;}#sk-container-id-4 div.sk-parallel-item {display: flex;flex-direction: column;z-index: 1;position: relative;background-color: white;}#sk-container-id-4 div.sk-parallel-item:first-child::after {align-self: flex-end;width: 50%;}#sk-container-id-4 div.sk-parallel-item:last-child::after {align-self: flex-start;width: 50%;}#sk-container-id-4 div.sk-parallel-item:only-child::after {width: 0;}#sk-container-id-4 div.sk-dashed-wrapped {border: 1px dashed gray;margin: 0 0.4em 0.5em 0.4em;box-sizing: border-box;padding-bottom: 0.4em;background-color: white;}#sk-container-id-4 div.sk-label label {font-family: monospace;font-weight: bold;display: inline-block;line-height: 1.2em;}#sk-container-id-4 div.sk-label-container {text-align: center;}#sk-container-id-4 div.sk-container {/* jupyter's `normalize.less` sets `[hidden] { display: none; }` but bootstrap.min.css set `[hidden] { display: none !important; }` so we also need the `!important` here to be able to override the default hidden behavior on the sphinx rendered scikit-learn.org. See: https://github.com/scikit-learn/scikit-learn/issues/21755 */display: inline-block !important;position: relative;}#sk-container-id-4 div.sk-text-repr-fallback {display: none;}</style><div id=\"sk-container-id-4\" class=\"sk-top-container\"><div class=\"sk-text-repr-fallback\"><pre>GridSearchCV(cv=4, estimator=ElasticNet(alpha=0.1), n_jobs=-1,\n",
       "             param_grid={&#x27;alpha&#x27;: array([1.00000000e-03, 3.59381366e-03, 1.29154967e-02, 4.64158883e-02,\n",
       "       1.66810054e-01, 5.99484250e-01, 2.15443469e+00, 7.74263683e+00,\n",
       "       2.78255940e+01, 1.00000000e+02]),\n",
       "                         &#x27;l1_ratio&#x27;: array([ 1.        ,  1.29154967,  1.66810054,  2.15443469,  2.7825594 ,\n",
       "        3.59381366,  4.64158883,  5.9948425 ,  7.74263683, 10.        ])},\n",
       "             scoring=&#x27;neg_mean_squared_error&#x27;, verbose=1)</pre><b>In a Jupyter environment, please rerun this cell to show the HTML representation or trust the notebook. <br />On GitHub, the HTML representation is unable to render, please try loading this page with nbviewer.org.</b></div><div class=\"sk-container\" hidden><div class=\"sk-item sk-dashed-wrapped\"><div class=\"sk-label-container\"><div class=\"sk-label sk-toggleable\"><input class=\"sk-toggleable__control sk-hidden--visually\" id=\"sk-estimator-id-4\" type=\"checkbox\" ><label for=\"sk-estimator-id-4\" class=\"sk-toggleable__label sk-toggleable__label-arrow\">GridSearchCV</label><div class=\"sk-toggleable__content\"><pre>GridSearchCV(cv=4, estimator=ElasticNet(alpha=0.1), n_jobs=-1,\n",
       "             param_grid={&#x27;alpha&#x27;: array([1.00000000e-03, 3.59381366e-03, 1.29154967e-02, 4.64158883e-02,\n",
       "       1.66810054e-01, 5.99484250e-01, 2.15443469e+00, 7.74263683e+00,\n",
       "       2.78255940e+01, 1.00000000e+02]),\n",
       "                         &#x27;l1_ratio&#x27;: array([ 1.        ,  1.29154967,  1.66810054,  2.15443469,  2.7825594 ,\n",
       "        3.59381366,  4.64158883,  5.9948425 ,  7.74263683, 10.        ])},\n",
       "             scoring=&#x27;neg_mean_squared_error&#x27;, verbose=1)</pre></div></div></div><div class=\"sk-parallel\"><div class=\"sk-parallel-item\"><div class=\"sk-item\"><div class=\"sk-label-container\"><div class=\"sk-label sk-toggleable\"><input class=\"sk-toggleable__control sk-hidden--visually\" id=\"sk-estimator-id-5\" type=\"checkbox\" ><label for=\"sk-estimator-id-5\" class=\"sk-toggleable__label sk-toggleable__label-arrow\">estimator: ElasticNet</label><div class=\"sk-toggleable__content\"><pre>ElasticNet(alpha=0.1)</pre></div></div></div><div class=\"sk-serial\"><div class=\"sk-item\"><div class=\"sk-estimator sk-toggleable\"><input class=\"sk-toggleable__control sk-hidden--visually\" id=\"sk-estimator-id-6\" type=\"checkbox\" ><label for=\"sk-estimator-id-6\" class=\"sk-toggleable__label sk-toggleable__label-arrow\">ElasticNet</label><div class=\"sk-toggleable__content\"><pre>ElasticNet(alpha=0.1)</pre></div></div></div></div></div></div></div></div></div></div>"
      ],
      "text/plain": [
       "GridSearchCV(cv=4, estimator=ElasticNet(alpha=0.1), n_jobs=-1,\n",
       "             param_grid={'alpha': array([1.00000000e-03, 3.59381366e-03, 1.29154967e-02, 4.64158883e-02,\n",
       "       1.66810054e-01, 5.99484250e-01, 2.15443469e+00, 7.74263683e+00,\n",
       "       2.78255940e+01, 1.00000000e+02]),\n",
       "                         'l1_ratio': array([ 1.        ,  1.29154967,  1.66810054,  2.15443469,  2.7825594 ,\n",
       "        3.59381366,  4.64158883,  5.9948425 ,  7.74263683, 10.        ])},\n",
       "             scoring='neg_mean_squared_error', verbose=1)"
      ]
     },
     "execution_count": 57,
     "metadata": {},
     "output_type": "execute_result"
    }
   ],
   "source": [
    "grid_search.fit(X_train, y_train)"
   ]
  },
  {
   "cell_type": "code",
   "execution_count": 58,
   "id": "35673896",
   "metadata": {
    "execution": {
     "iopub.execute_input": "2024-12-02T12:52:19.994364Z",
     "iopub.status.busy": "2024-12-02T12:52:19.993921Z",
     "iopub.status.idle": "2024-12-02T12:52:19.999912Z",
     "shell.execute_reply": "2024-12-02T12:52:19.998800Z"
    },
    "papermill": {
     "duration": 0.03993,
     "end_time": "2024-12-02T12:52:20.002200",
     "exception": false,
     "start_time": "2024-12-02T12:52:19.962270",
     "status": "completed"
    },
    "tags": []
   },
   "outputs": [],
   "source": [
    "best_model = grid_search.best_estimator_\n",
    "y_pred_tuned = best_model.predict(X_test)"
   ]
  },
  {
   "cell_type": "code",
   "execution_count": 59,
   "id": "4ca989ac",
   "metadata": {
    "execution": {
     "iopub.execute_input": "2024-12-02T12:52:20.067902Z",
     "iopub.status.busy": "2024-12-02T12:52:20.067464Z",
     "iopub.status.idle": "2024-12-02T12:52:20.076639Z",
     "shell.execute_reply": "2024-12-02T12:52:20.075315Z"
    },
    "papermill": {
     "duration": 0.045244,
     "end_time": "2024-12-02T12:52:20.079003",
     "exception": false,
     "start_time": "2024-12-02T12:52:20.033759",
     "status": "completed"
    },
    "tags": []
   },
   "outputs": [
    {
     "name": "stdout",
     "output_type": "stream",
     "text": [
      "Test Set MSE: 6.861698963052771\n",
      "R² Score: 0.8723795273691917\n"
     ]
    }
   ],
   "source": [
    "mse = mean_squared_error(y_test, y_pred_tuned)\n",
    "print(\"Test Set MSE:\", mse)\n",
    "\n",
    "r2 = r2_score(y_test, y_pred_tuned)\n",
    "print(\"R² Score:\", r2)"
   ]
  },
  {
   "cell_type": "code",
   "execution_count": 60,
   "id": "5f77bf18",
   "metadata": {
    "execution": {
     "iopub.execute_input": "2024-12-02T12:52:20.141144Z",
     "iopub.status.busy": "2024-12-02T12:52:20.140294Z",
     "iopub.status.idle": "2024-12-02T12:52:20.148526Z",
     "shell.execute_reply": "2024-12-02T12:52:20.147106Z"
    },
    "papermill": {
     "duration": 0.041978,
     "end_time": "2024-12-02T12:52:20.150762",
     "exception": false,
     "start_time": "2024-12-02T12:52:20.108784",
     "status": "completed"
    },
    "tags": []
   },
   "outputs": [
    {
     "data": {
      "text/plain": [
       "array([1.00000000e-03, 3.59381366e-03, 1.29154967e-02, 4.64158883e-02,\n",
       "       1.66810054e-01, 5.99484250e-01, 2.15443469e+00, 7.74263683e+00,\n",
       "       2.78255940e+01, 1.00000000e+02])"
      ]
     },
     "execution_count": 60,
     "metadata": {},
     "output_type": "execute_result"
    }
   ],
   "source": [
    "np.logspace(-3, 2, 10)"
   ]
  },
  {
   "cell_type": "code",
   "execution_count": 61,
   "id": "ab159985",
   "metadata": {
    "execution": {
     "iopub.execute_input": "2024-12-02T12:52:20.212183Z",
     "iopub.status.busy": "2024-12-02T12:52:20.211771Z",
     "iopub.status.idle": "2024-12-02T12:52:20.217058Z",
     "shell.execute_reply": "2024-12-02T12:52:20.215937Z"
    },
    "papermill": {
     "duration": 0.038846,
     "end_time": "2024-12-02T12:52:20.219419",
     "exception": false,
     "start_time": "2024-12-02T12:52:20.180573",
     "status": "completed"
    },
    "tags": []
   },
   "outputs": [],
   "source": [
    "ridge = Ridge(alpha=0.01)"
   ]
  },
  {
   "cell_type": "code",
   "execution_count": 62,
   "id": "e2a81be9",
   "metadata": {
    "execution": {
     "iopub.execute_input": "2024-12-02T12:52:20.281412Z",
     "iopub.status.busy": "2024-12-02T12:52:20.281009Z",
     "iopub.status.idle": "2024-12-02T12:52:20.287272Z",
     "shell.execute_reply": "2024-12-02T12:52:20.286004Z"
    },
    "papermill": {
     "duration": 0.039897,
     "end_time": "2024-12-02T12:52:20.289494",
     "exception": false,
     "start_time": "2024-12-02T12:52:20.249597",
     "status": "completed"
    },
    "tags": []
   },
   "outputs": [],
   "source": [
    "from sklearn.model_selection import GridSearchCV\n",
    "\n",
    "param_grid_ridge = {\n",
    "    'alpha' : np.logspace(-3, 2, 10),\n",
    "}\n",
    "\n",
    "grid_search_ridge = GridSearchCV(estimator=ridge, param_grid=param_grid_ridge, cv=5, scoring='neg_mean_squared_error', n_jobs=-1)"
   ]
  },
  {
   "cell_type": "code",
   "execution_count": 63,
   "id": "c28e439e",
   "metadata": {
    "execution": {
     "iopub.execute_input": "2024-12-02T12:52:20.354476Z",
     "iopub.status.busy": "2024-12-02T12:52:20.354047Z",
     "iopub.status.idle": "2024-12-02T12:52:20.442009Z",
     "shell.execute_reply": "2024-12-02T12:52:20.440605Z"
    },
    "papermill": {
     "duration": 0.12405,
     "end_time": "2024-12-02T12:52:20.444799",
     "exception": false,
     "start_time": "2024-12-02T12:52:20.320749",
     "status": "completed"
    },
    "tags": []
   },
   "outputs": [
    {
     "data": {
      "text/html": [
       "<style>#sk-container-id-5 {color: black;background-color: white;}#sk-container-id-5 pre{padding: 0;}#sk-container-id-5 div.sk-toggleable {background-color: white;}#sk-container-id-5 label.sk-toggleable__label {cursor: pointer;display: block;width: 100%;margin-bottom: 0;padding: 0.3em;box-sizing: border-box;text-align: center;}#sk-container-id-5 label.sk-toggleable__label-arrow:before {content: \"▸\";float: left;margin-right: 0.25em;color: #696969;}#sk-container-id-5 label.sk-toggleable__label-arrow:hover:before {color: black;}#sk-container-id-5 div.sk-estimator:hover label.sk-toggleable__label-arrow:before {color: black;}#sk-container-id-5 div.sk-toggleable__content {max-height: 0;max-width: 0;overflow: hidden;text-align: left;background-color: #f0f8ff;}#sk-container-id-5 div.sk-toggleable__content pre {margin: 0.2em;color: black;border-radius: 0.25em;background-color: #f0f8ff;}#sk-container-id-5 input.sk-toggleable__control:checked~div.sk-toggleable__content {max-height: 200px;max-width: 100%;overflow: auto;}#sk-container-id-5 input.sk-toggleable__control:checked~label.sk-toggleable__label-arrow:before {content: \"▾\";}#sk-container-id-5 div.sk-estimator input.sk-toggleable__control:checked~label.sk-toggleable__label {background-color: #d4ebff;}#sk-container-id-5 div.sk-label input.sk-toggleable__control:checked~label.sk-toggleable__label {background-color: #d4ebff;}#sk-container-id-5 input.sk-hidden--visually {border: 0;clip: rect(1px 1px 1px 1px);clip: rect(1px, 1px, 1px, 1px);height: 1px;margin: -1px;overflow: hidden;padding: 0;position: absolute;width: 1px;}#sk-container-id-5 div.sk-estimator {font-family: monospace;background-color: #f0f8ff;border: 1px dotted black;border-radius: 0.25em;box-sizing: border-box;margin-bottom: 0.5em;}#sk-container-id-5 div.sk-estimator:hover {background-color: #d4ebff;}#sk-container-id-5 div.sk-parallel-item::after {content: \"\";width: 100%;border-bottom: 1px solid gray;flex-grow: 1;}#sk-container-id-5 div.sk-label:hover label.sk-toggleable__label {background-color: #d4ebff;}#sk-container-id-5 div.sk-serial::before {content: \"\";position: absolute;border-left: 1px solid gray;box-sizing: border-box;top: 0;bottom: 0;left: 50%;z-index: 0;}#sk-container-id-5 div.sk-serial {display: flex;flex-direction: column;align-items: center;background-color: white;padding-right: 0.2em;padding-left: 0.2em;position: relative;}#sk-container-id-5 div.sk-item {position: relative;z-index: 1;}#sk-container-id-5 div.sk-parallel {display: flex;align-items: stretch;justify-content: center;background-color: white;position: relative;}#sk-container-id-5 div.sk-item::before, #sk-container-id-5 div.sk-parallel-item::before {content: \"\";position: absolute;border-left: 1px solid gray;box-sizing: border-box;top: 0;bottom: 0;left: 50%;z-index: -1;}#sk-container-id-5 div.sk-parallel-item {display: flex;flex-direction: column;z-index: 1;position: relative;background-color: white;}#sk-container-id-5 div.sk-parallel-item:first-child::after {align-self: flex-end;width: 50%;}#sk-container-id-5 div.sk-parallel-item:last-child::after {align-self: flex-start;width: 50%;}#sk-container-id-5 div.sk-parallel-item:only-child::after {width: 0;}#sk-container-id-5 div.sk-dashed-wrapped {border: 1px dashed gray;margin: 0 0.4em 0.5em 0.4em;box-sizing: border-box;padding-bottom: 0.4em;background-color: white;}#sk-container-id-5 div.sk-label label {font-family: monospace;font-weight: bold;display: inline-block;line-height: 1.2em;}#sk-container-id-5 div.sk-label-container {text-align: center;}#sk-container-id-5 div.sk-container {/* jupyter's `normalize.less` sets `[hidden] { display: none; }` but bootstrap.min.css set `[hidden] { display: none !important; }` so we also need the `!important` here to be able to override the default hidden behavior on the sphinx rendered scikit-learn.org. See: https://github.com/scikit-learn/scikit-learn/issues/21755 */display: inline-block !important;position: relative;}#sk-container-id-5 div.sk-text-repr-fallback {display: none;}</style><div id=\"sk-container-id-5\" class=\"sk-top-container\"><div class=\"sk-text-repr-fallback\"><pre>GridSearchCV(cv=5, estimator=Ridge(alpha=0.01), n_jobs=-1,\n",
       "             param_grid={&#x27;alpha&#x27;: array([1.00000000e-03, 3.59381366e-03, 1.29154967e-02, 4.64158883e-02,\n",
       "       1.66810054e-01, 5.99484250e-01, 2.15443469e+00, 7.74263683e+00,\n",
       "       2.78255940e+01, 1.00000000e+02])},\n",
       "             scoring=&#x27;neg_mean_squared_error&#x27;)</pre><b>In a Jupyter environment, please rerun this cell to show the HTML representation or trust the notebook. <br />On GitHub, the HTML representation is unable to render, please try loading this page with nbviewer.org.</b></div><div class=\"sk-container\" hidden><div class=\"sk-item sk-dashed-wrapped\"><div class=\"sk-label-container\"><div class=\"sk-label sk-toggleable\"><input class=\"sk-toggleable__control sk-hidden--visually\" id=\"sk-estimator-id-7\" type=\"checkbox\" ><label for=\"sk-estimator-id-7\" class=\"sk-toggleable__label sk-toggleable__label-arrow\">GridSearchCV</label><div class=\"sk-toggleable__content\"><pre>GridSearchCV(cv=5, estimator=Ridge(alpha=0.01), n_jobs=-1,\n",
       "             param_grid={&#x27;alpha&#x27;: array([1.00000000e-03, 3.59381366e-03, 1.29154967e-02, 4.64158883e-02,\n",
       "       1.66810054e-01, 5.99484250e-01, 2.15443469e+00, 7.74263683e+00,\n",
       "       2.78255940e+01, 1.00000000e+02])},\n",
       "             scoring=&#x27;neg_mean_squared_error&#x27;)</pre></div></div></div><div class=\"sk-parallel\"><div class=\"sk-parallel-item\"><div class=\"sk-item\"><div class=\"sk-label-container\"><div class=\"sk-label sk-toggleable\"><input class=\"sk-toggleable__control sk-hidden--visually\" id=\"sk-estimator-id-8\" type=\"checkbox\" ><label for=\"sk-estimator-id-8\" class=\"sk-toggleable__label sk-toggleable__label-arrow\">estimator: Ridge</label><div class=\"sk-toggleable__content\"><pre>Ridge(alpha=0.01)</pre></div></div></div><div class=\"sk-serial\"><div class=\"sk-item\"><div class=\"sk-estimator sk-toggleable\"><input class=\"sk-toggleable__control sk-hidden--visually\" id=\"sk-estimator-id-9\" type=\"checkbox\" ><label for=\"sk-estimator-id-9\" class=\"sk-toggleable__label sk-toggleable__label-arrow\">Ridge</label><div class=\"sk-toggleable__content\"><pre>Ridge(alpha=0.01)</pre></div></div></div></div></div></div></div></div></div></div>"
      ],
      "text/plain": [
       "GridSearchCV(cv=5, estimator=Ridge(alpha=0.01), n_jobs=-1,\n",
       "             param_grid={'alpha': array([1.00000000e-03, 3.59381366e-03, 1.29154967e-02, 4.64158883e-02,\n",
       "       1.66810054e-01, 5.99484250e-01, 2.15443469e+00, 7.74263683e+00,\n",
       "       2.78255940e+01, 1.00000000e+02])},\n",
       "             scoring='neg_mean_squared_error')"
      ]
     },
     "execution_count": 63,
     "metadata": {},
     "output_type": "execute_result"
    }
   ],
   "source": [
    "grid_search_ridge.fit(X_train, y_train)"
   ]
  },
  {
   "cell_type": "code",
   "execution_count": 64,
   "id": "1b54e6c2",
   "metadata": {
    "execution": {
     "iopub.execute_input": "2024-12-02T12:52:20.507250Z",
     "iopub.status.busy": "2024-12-02T12:52:20.506877Z",
     "iopub.status.idle": "2024-12-02T12:52:20.514636Z",
     "shell.execute_reply": "2024-12-02T12:52:20.513567Z"
    },
    "papermill": {
     "duration": 0.041585,
     "end_time": "2024-12-02T12:52:20.516736",
     "exception": false,
     "start_time": "2024-12-02T12:52:20.475151",
     "status": "completed"
    },
    "tags": []
   },
   "outputs": [
    {
     "data": {
      "text/html": [
       "<style>#sk-container-id-6 {color: black;background-color: white;}#sk-container-id-6 pre{padding: 0;}#sk-container-id-6 div.sk-toggleable {background-color: white;}#sk-container-id-6 label.sk-toggleable__label {cursor: pointer;display: block;width: 100%;margin-bottom: 0;padding: 0.3em;box-sizing: border-box;text-align: center;}#sk-container-id-6 label.sk-toggleable__label-arrow:before {content: \"▸\";float: left;margin-right: 0.25em;color: #696969;}#sk-container-id-6 label.sk-toggleable__label-arrow:hover:before {color: black;}#sk-container-id-6 div.sk-estimator:hover label.sk-toggleable__label-arrow:before {color: black;}#sk-container-id-6 div.sk-toggleable__content {max-height: 0;max-width: 0;overflow: hidden;text-align: left;background-color: #f0f8ff;}#sk-container-id-6 div.sk-toggleable__content pre {margin: 0.2em;color: black;border-radius: 0.25em;background-color: #f0f8ff;}#sk-container-id-6 input.sk-toggleable__control:checked~div.sk-toggleable__content {max-height: 200px;max-width: 100%;overflow: auto;}#sk-container-id-6 input.sk-toggleable__control:checked~label.sk-toggleable__label-arrow:before {content: \"▾\";}#sk-container-id-6 div.sk-estimator input.sk-toggleable__control:checked~label.sk-toggleable__label {background-color: #d4ebff;}#sk-container-id-6 div.sk-label input.sk-toggleable__control:checked~label.sk-toggleable__label {background-color: #d4ebff;}#sk-container-id-6 input.sk-hidden--visually {border: 0;clip: rect(1px 1px 1px 1px);clip: rect(1px, 1px, 1px, 1px);height: 1px;margin: -1px;overflow: hidden;padding: 0;position: absolute;width: 1px;}#sk-container-id-6 div.sk-estimator {font-family: monospace;background-color: #f0f8ff;border: 1px dotted black;border-radius: 0.25em;box-sizing: border-box;margin-bottom: 0.5em;}#sk-container-id-6 div.sk-estimator:hover {background-color: #d4ebff;}#sk-container-id-6 div.sk-parallel-item::after {content: \"\";width: 100%;border-bottom: 1px solid gray;flex-grow: 1;}#sk-container-id-6 div.sk-label:hover label.sk-toggleable__label {background-color: #d4ebff;}#sk-container-id-6 div.sk-serial::before {content: \"\";position: absolute;border-left: 1px solid gray;box-sizing: border-box;top: 0;bottom: 0;left: 50%;z-index: 0;}#sk-container-id-6 div.sk-serial {display: flex;flex-direction: column;align-items: center;background-color: white;padding-right: 0.2em;padding-left: 0.2em;position: relative;}#sk-container-id-6 div.sk-item {position: relative;z-index: 1;}#sk-container-id-6 div.sk-parallel {display: flex;align-items: stretch;justify-content: center;background-color: white;position: relative;}#sk-container-id-6 div.sk-item::before, #sk-container-id-6 div.sk-parallel-item::before {content: \"\";position: absolute;border-left: 1px solid gray;box-sizing: border-box;top: 0;bottom: 0;left: 50%;z-index: -1;}#sk-container-id-6 div.sk-parallel-item {display: flex;flex-direction: column;z-index: 1;position: relative;background-color: white;}#sk-container-id-6 div.sk-parallel-item:first-child::after {align-self: flex-end;width: 50%;}#sk-container-id-6 div.sk-parallel-item:last-child::after {align-self: flex-start;width: 50%;}#sk-container-id-6 div.sk-parallel-item:only-child::after {width: 0;}#sk-container-id-6 div.sk-dashed-wrapped {border: 1px dashed gray;margin: 0 0.4em 0.5em 0.4em;box-sizing: border-box;padding-bottom: 0.4em;background-color: white;}#sk-container-id-6 div.sk-label label {font-family: monospace;font-weight: bold;display: inline-block;line-height: 1.2em;}#sk-container-id-6 div.sk-label-container {text-align: center;}#sk-container-id-6 div.sk-container {/* jupyter's `normalize.less` sets `[hidden] { display: none; }` but bootstrap.min.css set `[hidden] { display: none !important; }` so we also need the `!important` here to be able to override the default hidden behavior on the sphinx rendered scikit-learn.org. See: https://github.com/scikit-learn/scikit-learn/issues/21755 */display: inline-block !important;position: relative;}#sk-container-id-6 div.sk-text-repr-fallback {display: none;}</style><div id=\"sk-container-id-6\" class=\"sk-top-container\"><div class=\"sk-text-repr-fallback\"><pre>Ridge(alpha=2.1544346900318843)</pre><b>In a Jupyter environment, please rerun this cell to show the HTML representation or trust the notebook. <br />On GitHub, the HTML representation is unable to render, please try loading this page with nbviewer.org.</b></div><div class=\"sk-container\" hidden><div class=\"sk-item\"><div class=\"sk-estimator sk-toggleable\"><input class=\"sk-toggleable__control sk-hidden--visually\" id=\"sk-estimator-id-10\" type=\"checkbox\" checked><label for=\"sk-estimator-id-10\" class=\"sk-toggleable__label sk-toggleable__label-arrow\">Ridge</label><div class=\"sk-toggleable__content\"><pre>Ridge(alpha=2.1544346900318843)</pre></div></div></div></div></div>"
      ],
      "text/plain": [
       "Ridge(alpha=2.1544346900318843)"
      ]
     },
     "execution_count": 64,
     "metadata": {},
     "output_type": "execute_result"
    }
   ],
   "source": [
    "grid_search_ridge.best_estimator_"
   ]
  },
  {
   "cell_type": "code",
   "execution_count": 65,
   "id": "6b9dabae",
   "metadata": {
    "execution": {
     "iopub.execute_input": "2024-12-02T12:52:20.578936Z",
     "iopub.status.busy": "2024-12-02T12:52:20.578100Z",
     "iopub.status.idle": "2024-12-02T12:52:20.584764Z",
     "shell.execute_reply": "2024-12-02T12:52:20.583783Z"
    },
    "papermill": {
     "duration": 0.039973,
     "end_time": "2024-12-02T12:52:20.586770",
     "exception": false,
     "start_time": "2024-12-02T12:52:20.546797",
     "status": "completed"
    },
    "tags": []
   },
   "outputs": [
    {
     "data": {
      "text/plain": [
       "{'alpha': 2.1544346900318843}"
      ]
     },
     "execution_count": 65,
     "metadata": {},
     "output_type": "execute_result"
    }
   ],
   "source": [
    "grid_search_ridge.best_params_"
   ]
  },
  {
   "cell_type": "code",
   "execution_count": 66,
   "id": "6cbd9451",
   "metadata": {
    "execution": {
     "iopub.execute_input": "2024-12-02T12:52:20.648710Z",
     "iopub.status.busy": "2024-12-02T12:52:20.648297Z",
     "iopub.status.idle": "2024-12-02T12:52:20.655071Z",
     "shell.execute_reply": "2024-12-02T12:52:20.654172Z"
    },
    "papermill": {
     "duration": 0.040137,
     "end_time": "2024-12-02T12:52:20.657008",
     "exception": false,
     "start_time": "2024-12-02T12:52:20.616871",
     "status": "completed"
    },
    "tags": []
   },
   "outputs": [
    {
     "data": {
      "text/plain": [
       "-11.280804038618546"
      ]
     },
     "execution_count": 66,
     "metadata": {},
     "output_type": "execute_result"
    }
   ],
   "source": [
    "grid_search_ridge.best_score_"
   ]
  },
  {
   "cell_type": "code",
   "execution_count": 67,
   "id": "2a9dac84",
   "metadata": {
    "execution": {
     "iopub.execute_input": "2024-12-02T12:52:20.719716Z",
     "iopub.status.busy": "2024-12-02T12:52:20.719297Z",
     "iopub.status.idle": "2024-12-02T12:52:20.724725Z",
     "shell.execute_reply": "2024-12-02T12:52:20.723551Z"
    },
    "papermill": {
     "duration": 0.039592,
     "end_time": "2024-12-02T12:52:20.726871",
     "exception": false,
     "start_time": "2024-12-02T12:52:20.687279",
     "status": "completed"
    },
    "tags": []
   },
   "outputs": [],
   "source": [
    "y_pred_grid_ridge = grid_search_ridge.predict(X_test)"
   ]
  },
  {
   "cell_type": "code",
   "execution_count": 68,
   "id": "cb4686ba",
   "metadata": {
    "execution": {
     "iopub.execute_input": "2024-12-02T12:52:20.789210Z",
     "iopub.status.busy": "2024-12-02T12:52:20.788816Z",
     "iopub.status.idle": "2024-12-02T12:52:20.795743Z",
     "shell.execute_reply": "2024-12-02T12:52:20.794363Z"
    },
    "papermill": {
     "duration": 0.040788,
     "end_time": "2024-12-02T12:52:20.797999",
     "exception": false,
     "start_time": "2024-12-02T12:52:20.757211",
     "status": "completed"
    },
    "tags": []
   },
   "outputs": [
    {
     "name": "stdout",
     "output_type": "stream",
     "text": [
      "R squared : 0.875919564708817\n"
     ]
    }
   ],
   "source": [
    "print(f\"R squared : {r2_score(y_test, y_pred_grid_ridge)}\")"
   ]
  },
  {
   "cell_type": "code",
   "execution_count": null,
   "id": "fa1edd0f",
   "metadata": {
    "papermill": {
     "duration": 0.030434,
     "end_time": "2024-12-02T12:52:20.858954",
     "exception": false,
     "start_time": "2024-12-02T12:52:20.828520",
     "status": "completed"
    },
    "tags": []
   },
   "outputs": [],
   "source": []
  }
 ],
 "metadata": {
  "kaggle": {
   "accelerator": "none",
   "dataSources": [
    {
     "datasetId": 3603942,
     "sourceId": 6269443,
     "sourceType": "datasetVersion"
    }
   ],
   "dockerImageVersionId": 30786,
   "isGpuEnabled": false,
   "isInternetEnabled": true,
   "language": "python",
   "sourceType": "notebook"
  },
  "kernelspec": {
   "display_name": "Python 3",
   "language": "python",
   "name": "python3"
  },
  "language_info": {
   "codemirror_mode": {
    "name": "ipython",
    "version": 3
   },
   "file_extension": ".py",
   "mimetype": "text/x-python",
   "name": "python",
   "nbconvert_exporter": "python",
   "pygments_lexer": "ipython3",
   "version": "3.10.14"
  },
  "papermill": {
   "default_parameters": {},
   "duration": 19.469178,
   "end_time": "2024-12-02T12:52:23.511795",
   "environment_variables": {},
   "exception": null,
   "input_path": "__notebook__.ipynb",
   "output_path": "__notebook__.ipynb",
   "parameters": {},
   "start_time": "2024-12-02T12:52:04.042617",
   "version": "2.6.0"
  }
 },
 "nbformat": 4,
 "nbformat_minor": 5
}
