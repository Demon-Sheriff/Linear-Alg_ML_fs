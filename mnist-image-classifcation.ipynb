{
 "cells": [
  {
   "cell_type": "code",
   "execution_count": 1,
   "id": "90fedbcb",
   "metadata": {
    "_cell_guid": "b1076dfc-b9ad-4769-8c92-a6c4dae69d19",
    "_uuid": "8f2839f25d086af736a60e9eeb907d3b93b6e0e5",
    "execution": {
     "iopub.execute_input": "2024-11-30T12:49:21.237163Z",
     "iopub.status.busy": "2024-11-30T12:49:21.236589Z",
     "iopub.status.idle": "2024-11-30T12:49:22.176432Z",
     "shell.execute_reply": "2024-11-30T12:49:22.175072Z"
    },
    "papermill": {
     "duration": 0.949216,
     "end_time": "2024-11-30T12:49:22.179007",
     "exception": false,
     "start_time": "2024-11-30T12:49:21.229791",
     "status": "completed"
    },
    "tags": []
   },
   "outputs": [
    {
     "name": "stdout",
     "output_type": "stream",
     "text": [
      "/kaggle/input/digit-recognizer/sample_submission.csv\n",
      "/kaggle/input/digit-recognizer/train.csv\n",
      "/kaggle/input/digit-recognizer/test.csv\n"
     ]
    }
   ],
   "source": [
    "# This Python 3 environment comes with many helpful analytics libraries installed\n",
    "# It is defined by the kaggle/python Docker image: https://github.com/kaggle/docker-python\n",
    "# For example, here's several helpful packages to load\n",
    "\n",
    "import numpy as np # linear algebra\n",
    "import pandas as pd # data processing, CSV file I/O (e.g. pd.read_csv)\n",
    "\n",
    "# Input data files are available in the read-only \"../input/\" directory\n",
    "# For example, running this (by clicking run or pressing Shift+Enter) will list all files under the input directory\n",
    "\n",
    "import os\n",
    "for dirname, _, filenames in os.walk('/kaggle/input'):\n",
    "    for filename in filenames:\n",
    "        print(os.path.join(dirname, filename))\n",
    "\n",
    "# You can write up to 20GB to the current directory (/kaggle/working/) that gets preserved as output when you create a version using \"Save & Run All\" \n",
    "# You can also write temporary files to /kaggle/temp/, but they won't be saved outside of the current session"
   ]
  },
  {
   "cell_type": "code",
   "execution_count": 2,
   "id": "53fe580a",
   "metadata": {
    "execution": {
     "iopub.execute_input": "2024-11-30T12:49:22.189642Z",
     "iopub.status.busy": "2024-11-30T12:49:22.189166Z",
     "iopub.status.idle": "2024-11-30T12:49:22.195793Z",
     "shell.execute_reply": "2024-11-30T12:49:22.194550Z"
    },
    "papermill": {
     "duration": 0.014561,
     "end_time": "2024-11-30T12:49:22.198139",
     "exception": false,
     "start_time": "2024-11-30T12:49:22.183578",
     "status": "completed"
    },
    "tags": []
   },
   "outputs": [
    {
     "name": "stdout",
     "output_type": "stream",
     "text": [
      "['sample_submission.csv', 'train.csv', 'test.csv']\n"
     ]
    }
   ],
   "source": [
    "print(os.listdir('/kaggle/input/digit-recognizer/'))\n",
    "path_train = '/kaggle/input/digit-recognizer/train.csv'\n",
    "path_test = '/kaggle/input/digit-recognizer/test.csv'"
   ]
  },
  {
   "cell_type": "code",
   "execution_count": 3,
   "id": "4c8526e4",
   "metadata": {
    "execution": {
     "iopub.execute_input": "2024-11-30T12:49:22.209102Z",
     "iopub.status.busy": "2024-11-30T12:49:22.208499Z",
     "iopub.status.idle": "2024-11-30T12:49:25.861314Z",
     "shell.execute_reply": "2024-11-30T12:49:25.860161Z"
    },
    "papermill": {
     "duration": 3.661712,
     "end_time": "2024-11-30T12:49:25.864235",
     "exception": false,
     "start_time": "2024-11-30T12:49:22.202523",
     "status": "completed"
    },
    "tags": []
   },
   "outputs": [
    {
     "data": {
      "text/html": [
       "<div>\n",
       "<style scoped>\n",
       "    .dataframe tbody tr th:only-of-type {\n",
       "        vertical-align: middle;\n",
       "    }\n",
       "\n",
       "    .dataframe tbody tr th {\n",
       "        vertical-align: top;\n",
       "    }\n",
       "\n",
       "    .dataframe thead th {\n",
       "        text-align: right;\n",
       "    }\n",
       "</style>\n",
       "<table border=\"1\" class=\"dataframe\">\n",
       "  <thead>\n",
       "    <tr style=\"text-align: right;\">\n",
       "      <th></th>\n",
       "      <th>label</th>\n",
       "      <th>pixel0</th>\n",
       "      <th>pixel1</th>\n",
       "      <th>pixel2</th>\n",
       "      <th>pixel3</th>\n",
       "      <th>pixel4</th>\n",
       "      <th>pixel5</th>\n",
       "      <th>pixel6</th>\n",
       "      <th>pixel7</th>\n",
       "      <th>pixel8</th>\n",
       "      <th>...</th>\n",
       "      <th>pixel774</th>\n",
       "      <th>pixel775</th>\n",
       "      <th>pixel776</th>\n",
       "      <th>pixel777</th>\n",
       "      <th>pixel778</th>\n",
       "      <th>pixel779</th>\n",
       "      <th>pixel780</th>\n",
       "      <th>pixel781</th>\n",
       "      <th>pixel782</th>\n",
       "      <th>pixel783</th>\n",
       "    </tr>\n",
       "  </thead>\n",
       "  <tbody>\n",
       "    <tr>\n",
       "      <th>0</th>\n",
       "      <td>1</td>\n",
       "      <td>0</td>\n",
       "      <td>0</td>\n",
       "      <td>0</td>\n",
       "      <td>0</td>\n",
       "      <td>0</td>\n",
       "      <td>0</td>\n",
       "      <td>0</td>\n",
       "      <td>0</td>\n",
       "      <td>0</td>\n",
       "      <td>...</td>\n",
       "      <td>0</td>\n",
       "      <td>0</td>\n",
       "      <td>0</td>\n",
       "      <td>0</td>\n",
       "      <td>0</td>\n",
       "      <td>0</td>\n",
       "      <td>0</td>\n",
       "      <td>0</td>\n",
       "      <td>0</td>\n",
       "      <td>0</td>\n",
       "    </tr>\n",
       "    <tr>\n",
       "      <th>1</th>\n",
       "      <td>0</td>\n",
       "      <td>0</td>\n",
       "      <td>0</td>\n",
       "      <td>0</td>\n",
       "      <td>0</td>\n",
       "      <td>0</td>\n",
       "      <td>0</td>\n",
       "      <td>0</td>\n",
       "      <td>0</td>\n",
       "      <td>0</td>\n",
       "      <td>...</td>\n",
       "      <td>0</td>\n",
       "      <td>0</td>\n",
       "      <td>0</td>\n",
       "      <td>0</td>\n",
       "      <td>0</td>\n",
       "      <td>0</td>\n",
       "      <td>0</td>\n",
       "      <td>0</td>\n",
       "      <td>0</td>\n",
       "      <td>0</td>\n",
       "    </tr>\n",
       "    <tr>\n",
       "      <th>2</th>\n",
       "      <td>1</td>\n",
       "      <td>0</td>\n",
       "      <td>0</td>\n",
       "      <td>0</td>\n",
       "      <td>0</td>\n",
       "      <td>0</td>\n",
       "      <td>0</td>\n",
       "      <td>0</td>\n",
       "      <td>0</td>\n",
       "      <td>0</td>\n",
       "      <td>...</td>\n",
       "      <td>0</td>\n",
       "      <td>0</td>\n",
       "      <td>0</td>\n",
       "      <td>0</td>\n",
       "      <td>0</td>\n",
       "      <td>0</td>\n",
       "      <td>0</td>\n",
       "      <td>0</td>\n",
       "      <td>0</td>\n",
       "      <td>0</td>\n",
       "    </tr>\n",
       "    <tr>\n",
       "      <th>3</th>\n",
       "      <td>4</td>\n",
       "      <td>0</td>\n",
       "      <td>0</td>\n",
       "      <td>0</td>\n",
       "      <td>0</td>\n",
       "      <td>0</td>\n",
       "      <td>0</td>\n",
       "      <td>0</td>\n",
       "      <td>0</td>\n",
       "      <td>0</td>\n",
       "      <td>...</td>\n",
       "      <td>0</td>\n",
       "      <td>0</td>\n",
       "      <td>0</td>\n",
       "      <td>0</td>\n",
       "      <td>0</td>\n",
       "      <td>0</td>\n",
       "      <td>0</td>\n",
       "      <td>0</td>\n",
       "      <td>0</td>\n",
       "      <td>0</td>\n",
       "    </tr>\n",
       "    <tr>\n",
       "      <th>4</th>\n",
       "      <td>0</td>\n",
       "      <td>0</td>\n",
       "      <td>0</td>\n",
       "      <td>0</td>\n",
       "      <td>0</td>\n",
       "      <td>0</td>\n",
       "      <td>0</td>\n",
       "      <td>0</td>\n",
       "      <td>0</td>\n",
       "      <td>0</td>\n",
       "      <td>...</td>\n",
       "      <td>0</td>\n",
       "      <td>0</td>\n",
       "      <td>0</td>\n",
       "      <td>0</td>\n",
       "      <td>0</td>\n",
       "      <td>0</td>\n",
       "      <td>0</td>\n",
       "      <td>0</td>\n",
       "      <td>0</td>\n",
       "      <td>0</td>\n",
       "    </tr>\n",
       "  </tbody>\n",
       "</table>\n",
       "<p>5 rows × 785 columns</p>\n",
       "</div>"
      ],
      "text/plain": [
       "   label  pixel0  pixel1  pixel2  pixel3  pixel4  pixel5  pixel6  pixel7  \\\n",
       "0      1       0       0       0       0       0       0       0       0   \n",
       "1      0       0       0       0       0       0       0       0       0   \n",
       "2      1       0       0       0       0       0       0       0       0   \n",
       "3      4       0       0       0       0       0       0       0       0   \n",
       "4      0       0       0       0       0       0       0       0       0   \n",
       "\n",
       "   pixel8  ...  pixel774  pixel775  pixel776  pixel777  pixel778  pixel779  \\\n",
       "0       0  ...         0         0         0         0         0         0   \n",
       "1       0  ...         0         0         0         0         0         0   \n",
       "2       0  ...         0         0         0         0         0         0   \n",
       "3       0  ...         0         0         0         0         0         0   \n",
       "4       0  ...         0         0         0         0         0         0   \n",
       "\n",
       "   pixel780  pixel781  pixel782  pixel783  \n",
       "0         0         0         0         0  \n",
       "1         0         0         0         0  \n",
       "2         0         0         0         0  \n",
       "3         0         0         0         0  \n",
       "4         0         0         0         0  \n",
       "\n",
       "[5 rows x 785 columns]"
      ]
     },
     "execution_count": 3,
     "metadata": {},
     "output_type": "execute_result"
    }
   ],
   "source": [
    "data = pd.read_csv(path_train)\n",
    "data.head()"
   ]
  },
  {
   "cell_type": "code",
   "execution_count": 4,
   "id": "e2b52a10",
   "metadata": {
    "execution": {
     "iopub.execute_input": "2024-11-30T12:49:25.875826Z",
     "iopub.status.busy": "2024-11-30T12:49:25.875449Z",
     "iopub.status.idle": "2024-11-30T12:49:25.882986Z",
     "shell.execute_reply": "2024-11-30T12:49:25.881415Z"
    },
    "papermill": {
     "duration": 0.015857,
     "end_time": "2024-11-30T12:49:25.885397",
     "exception": false,
     "start_time": "2024-11-30T12:49:25.869540",
     "status": "completed"
    },
    "tags": []
   },
   "outputs": [
    {
     "data": {
      "text/plain": [
       "(42000, 785)"
      ]
     },
     "execution_count": 4,
     "metadata": {},
     "output_type": "execute_result"
    }
   ],
   "source": [
    "data.shape"
   ]
  },
  {
   "cell_type": "code",
   "execution_count": 5,
   "id": "87fd8d5b",
   "metadata": {
    "execution": {
     "iopub.execute_input": "2024-11-30T12:49:25.896442Z",
     "iopub.status.busy": "2024-11-30T12:49:25.896025Z",
     "iopub.status.idle": "2024-11-30T12:49:25.932460Z",
     "shell.execute_reply": "2024-11-30T12:49:25.931263Z"
    },
    "papermill": {
     "duration": 0.045098,
     "end_time": "2024-11-30T12:49:25.935133",
     "exception": false,
     "start_time": "2024-11-30T12:49:25.890035",
     "status": "completed"
    },
    "tags": []
   },
   "outputs": [
    {
     "name": "stdout",
     "output_type": "stream",
     "text": [
      "total nan values in the dataset are = 0\n"
     ]
    }
   ],
   "source": [
    "print(f\"total nan values in the dataset are = {data.isna().sum().sum()}\")"
   ]
  },
  {
   "cell_type": "code",
   "execution_count": 6,
   "id": "421e913d",
   "metadata": {
    "execution": {
     "iopub.execute_input": "2024-11-30T12:49:25.946086Z",
     "iopub.status.busy": "2024-11-30T12:49:25.945670Z",
     "iopub.status.idle": "2024-11-30T12:49:25.951713Z",
     "shell.execute_reply": "2024-11-30T12:49:25.950640Z"
    },
    "papermill": {
     "duration": 0.013886,
     "end_time": "2024-11-30T12:49:25.953835",
     "exception": false,
     "start_time": "2024-11-30T12:49:25.939949",
     "status": "completed"
    },
    "tags": []
   },
   "outputs": [],
   "source": [
    "# plot and image randomly\n",
    "rand_int = np.random.randint(0, (data.shape[0] - 1))\n",
    "rand_image = data.iloc[rand_int][1:]\n",
    "rand_image = rand_image.to_numpy()\n",
    "rand_image = rand_image.reshape(28, 28)"
   ]
  },
  {
   "cell_type": "code",
   "execution_count": 7,
   "id": "9c36b42b",
   "metadata": {
    "execution": {
     "iopub.execute_input": "2024-11-30T12:49:25.964853Z",
     "iopub.status.busy": "2024-11-30T12:49:25.964079Z",
     "iopub.status.idle": "2024-11-30T12:49:26.081876Z",
     "shell.execute_reply": "2024-11-30T12:49:26.080481Z"
    },
    "papermill": {
     "duration": 0.128924,
     "end_time": "2024-11-30T12:49:26.087324",
     "exception": false,
     "start_time": "2024-11-30T12:49:25.958400",
     "status": "completed"
    },
    "tags": []
   },
   "outputs": [
    {
     "name": "stdout",
     "output_type": "stream",
     "text": [
      "1\n"
     ]
    },
    {
     "data": {
      "image/png": "[encoded data removed]",
      "text/plain": [
       "<Figure size 640x480 with 1 Axes>"
      ]
     },
     "metadata": {},
     "output_type": "display_data"
    }
   ],
   "source": [
    "import matplotlib.pyplot as plt\n",
    "\n",
    "plt.imshow(rand_image, cmap='binary', interpolation='nearest')\n",
    "plt.axis('off')\n",
    "print(data['label'][rand_int]) # prints the random_integer"
   ]
  },
  {
   "cell_type": "code",
   "execution_count": 8,
   "id": "18ab8d40",
   "metadata": {
    "execution": {
     "iopub.execute_input": "2024-11-30T12:49:26.121159Z",
     "iopub.status.busy": "2024-11-30T12:49:26.120419Z",
     "iopub.status.idle": "2024-11-30T12:49:26.241972Z",
     "shell.execute_reply": "2024-11-30T12:49:26.240848Z"
    },
    "papermill": {
     "duration": 0.141054,
     "end_time": "2024-11-30T12:49:26.244411",
     "exception": false,
     "start_time": "2024-11-30T12:49:26.103357",
     "status": "completed"
    },
    "tags": []
   },
   "outputs": [],
   "source": [
    "X_train = data.drop(columns=['label'])\n",
    "y_train = data['label']"
   ]
  },
  {
   "cell_type": "code",
   "execution_count": 9,
   "id": "e0afacf3",
   "metadata": {
    "execution": {
     "iopub.execute_input": "2024-11-30T12:49:26.255852Z",
     "iopub.status.busy": "2024-11-30T12:49:26.255468Z",
     "iopub.status.idle": "2024-11-30T12:49:27.907751Z",
     "shell.execute_reply": "2024-11-30T12:49:27.906468Z"
    },
    "papermill": {
     "duration": 1.661122,
     "end_time": "2024-11-30T12:49:27.910426",
     "exception": false,
     "start_time": "2024-11-30T12:49:26.249304",
     "status": "completed"
    },
    "tags": []
   },
   "outputs": [],
   "source": [
    "# train an sgd_classifier model\n",
    "from sklearn.model_selection import cross_val_score, cross_val_predict\n",
    "from sklearn.linear_model import SGDClassifier\n",
    "\n",
    "sgd_clf = SGDClassifier(random_state=42)"
   ]
  },
  {
   "cell_type": "code",
   "execution_count": 10,
   "id": "fc275cd9",
   "metadata": {
    "execution": {
     "iopub.execute_input": "2024-11-30T12:49:27.923170Z",
     "iopub.status.busy": "2024-11-30T12:49:27.922609Z",
     "iopub.status.idle": "2024-11-30T12:55:58.386187Z",
     "shell.execute_reply": "2024-11-30T12:55:58.384708Z"
    },
    "papermill": {
     "duration": 390.474828,
     "end_time": "2024-11-30T12:55:58.390668",
     "exception": false,
     "start_time": "2024-11-30T12:49:27.915840",
     "status": "completed"
    },
    "tags": []
   },
   "outputs": [],
   "source": [
    "cvs_accuracy = cross_val_score(sgd_clf, X_train, y_train, scoring='accuracy', cv=5)"
   ]
  },
  {
   "cell_type": "code",
   "execution_count": 11,
   "id": "c1d0e9d3",
   "metadata": {
    "execution": {
     "iopub.execute_input": "2024-11-30T12:55:58.423502Z",
     "iopub.status.busy": "2024-11-30T12:55:58.422568Z",
     "iopub.status.idle": "2024-11-30T12:55:58.433332Z",
     "shell.execute_reply": "2024-11-30T12:55:58.431193Z"
    },
    "papermill": {
     "duration": 0.03105,
     "end_time": "2024-11-30T12:55:58.436782",
     "exception": false,
     "start_time": "2024-11-30T12:55:58.405732",
     "status": "completed"
    },
    "tags": []
   },
   "outputs": [
    {
     "data": {
      "text/plain": [
       "array([0.88309524, 0.85892857, 0.8827381 , 0.86464286, 0.87964286])"
      ]
     },
     "execution_count": 11,
     "metadata": {},
     "output_type": "execute_result"
    }
   ],
   "source": [
    "cvs_accuracy"
   ]
  },
  {
   "cell_type": "code",
   "execution_count": 12,
   "id": "da12ff39",
   "metadata": {
    "execution": {
     "iopub.execute_input": "2024-11-30T12:55:58.468125Z",
     "iopub.status.busy": "2024-11-30T12:55:58.467375Z",
     "iopub.status.idle": "2024-11-30T13:00:38.426284Z",
     "shell.execute_reply": "2024-11-30T13:00:38.424744Z"
    },
    "papermill": {
     "duration": 279.980469,
     "end_time": "2024-11-30T13:00:38.431160",
     "exception": false,
     "start_time": "2024-11-30T12:55:58.450691",
     "status": "completed"
    },
    "tags": []
   },
   "outputs": [],
   "source": [
    "y_train_pred = cross_val_predict(sgd_clf, X_train, y_train, cv=4)"
   ]
  },
  {
   "cell_type": "code",
   "execution_count": 13,
   "id": "a76b5a76",
   "metadata": {
    "execution": {
     "iopub.execute_input": "2024-11-30T13:00:38.466461Z",
     "iopub.status.busy": "2024-11-30T13:00:38.464607Z",
     "iopub.status.idle": "2024-11-30T13:00:38.492219Z",
     "shell.execute_reply": "2024-11-30T13:00:38.490642Z"
    },
    "papermill": {
     "duration": 0.049152,
     "end_time": "2024-11-30T13:00:38.496938",
     "exception": false,
     "start_time": "2024-11-30T13:00:38.447786",
     "status": "completed"
    },
    "tags": []
   },
   "outputs": [],
   "source": [
    "from sklearn.metrics import confusion_matrix\n",
    "cm = confusion_matrix(y_train, y_train_pred)"
   ]
  },
  {
   "cell_type": "code",
   "execution_count": 14,
   "id": "acd45828",
   "metadata": {
    "execution": {
     "iopub.execute_input": "2024-11-30T13:00:38.526345Z",
     "iopub.status.busy": "2024-11-30T13:00:38.525777Z",
     "iopub.status.idle": "2024-11-30T13:00:38.538401Z",
     "shell.execute_reply": "2024-11-30T13:00:38.537110Z"
    },
    "papermill": {
     "duration": 0.031148,
     "end_time": "2024-11-30T13:00:38.541772",
     "exception": false,
     "start_time": "2024-11-30T13:00:38.510624",
     "status": "completed"
    },
    "tags": []
   },
   "outputs": [
    {
     "data": {
      "text/plain": [
       "array([[3939,    0,   13,   14,   12,   16,   78,    2,   46,   12],\n",
       "       [   2, 4543,   31,   14,    6,   10,   21,    7,   44,    6],\n",
       "       [  21,   48, 3532,  130,   61,   10,  163,   45,  148,   19],\n",
       "       [  22,   28,  149, 3732,   12,   83,   61,   32,  153,   79],\n",
       "       [  14,   26,   24,    8, 3545,    2,  100,   15,  111,  227],\n",
       "       [  70,   33,   45,  296,  136, 2542,  225,   23,  337,   88],\n",
       "       [  25,    4,   22,    5,   17,   27, 4009,    1,   27,    0],\n",
       "       [  21,   22,   74,   31,   73,    6,    5, 3752,   41,  376],\n",
       "       [  27,  109,   65,  170,   47,   52,   77,   17, 3386,  113],\n",
       "       [  24,   26,   12,   62,  337,   16,    6,  142,  166, 3397]])"
      ]
     },
     "execution_count": 14,
     "metadata": {},
     "output_type": "execute_result"
    }
   ],
   "source": [
    "cm"
   ]
  },
  {
   "cell_type": "code",
   "execution_count": 15,
   "id": "fa0b8e3a",
   "metadata": {
    "execution": {
     "iopub.execute_input": "2024-11-30T13:00:38.554626Z",
     "iopub.status.busy": "2024-11-30T13:00:38.554067Z",
     "iopub.status.idle": "2024-11-30T13:00:38.647540Z",
     "shell.execute_reply": "2024-11-30T13:00:38.646326Z"
    },
    "papermill": {
     "duration": 0.103289,
     "end_time": "2024-11-30T13:00:38.650461",
     "exception": false,
     "start_time": "2024-11-30T13:00:38.547172",
     "status": "completed"
    },
    "tags": []
   },
   "outputs": [],
   "source": [
    "from sklearn.metrics import f1_score, precision_score, recall_score\n",
    "\n",
    "precision = precision_score(y_train, y_train_pred, average='weighted')\n",
    "recall = recall_score(y_train, y_train_pred, average='weighted')\n",
    "f1 = f1_score(y_train, y_train_pred, average='weighted')"
   ]
  },
  {
   "cell_type": "code",
   "execution_count": 16,
   "id": "408c1616",
   "metadata": {
    "execution": {
     "iopub.execute_input": "2024-11-30T13:00:38.669025Z",
     "iopub.status.busy": "2024-11-30T13:00:38.668514Z",
     "iopub.status.idle": "2024-11-30T13:00:38.677462Z",
     "shell.execute_reply": "2024-11-30T13:00:38.675876Z"
    },
    "papermill": {
     "duration": 0.02156,
     "end_time": "2024-11-30T13:00:38.680439",
     "exception": false,
     "start_time": "2024-11-30T13:00:38.658879",
     "status": "completed"
    },
    "tags": []
   },
   "outputs": [
    {
     "name": "stdout",
     "output_type": "stream",
     "text": [
      "precision : 0.8695411901164057, recall : 0.8661190476190476, f1 : 0.8651405566085109\n"
     ]
    }
   ],
   "source": [
    "print(f\"precision : {precision}, recall : {recall}, f1 : {f1}\")"
   ]
  },
  {
   "cell_type": "code",
   "execution_count": 17,
   "id": "ba130e56",
   "metadata": {
    "execution": {
     "iopub.execute_input": "2024-11-30T13:00:38.693895Z",
     "iopub.status.busy": "2024-11-30T13:00:38.693348Z",
     "iopub.status.idle": "2024-11-30T13:05:21.858793Z",
     "shell.execute_reply": "2024-11-30T13:05:21.857156Z"
    },
    "papermill": {
     "duration": 283.177407,
     "end_time": "2024-11-30T13:05:21.863360",
     "exception": false,
     "start_time": "2024-11-30T13:00:38.685953",
     "status": "completed"
    },
    "tags": []
   },
   "outputs": [],
   "source": [
    "decision_scores = cross_val_predict(sgd_clf, X_train, y_train, cv=4, method='decision_function')"
   ]
  },
  {
   "cell_type": "code",
   "execution_count": 18,
   "id": "0d22daea",
   "metadata": {
    "execution": {
     "iopub.execute_input": "2024-11-30T13:05:21.895800Z",
     "iopub.status.busy": "2024-11-30T13:05:21.895114Z",
     "iopub.status.idle": "2024-11-30T13:05:21.905025Z",
     "shell.execute_reply": "2024-11-30T13:05:21.901095Z"
    },
    "papermill": {
     "duration": 0.033808,
     "end_time": "2024-11-30T13:05:21.911977",
     "exception": false,
     "start_time": "2024-11-30T13:05:21.878169",
     "status": "completed"
    },
    "tags": []
   },
   "outputs": [],
   "source": [
    "from sklearn.metrics import roc_auc_score, roc_curve"
   ]
  }
 ],
 "metadata": {
  "kaggle": {
   "accelerator": "none",
   "dataSources": [
    {
     "databundleVersionId": 861823,
     "sourceId": 3004,
     "sourceType": "competition"
    }
   ],
   "dockerImageVersionId": 30786,
   "isGpuEnabled": false,
   "isInternetEnabled": true,
   "language": "python",
   "sourceType": "notebook"
  },
  "kernelspec": {
   "display_name": "Python 3",
   "language": "python",
   "name": "python3"
  },
  "language_info": {
   "codemirror_mode": {
    "name": "ipython",
    "version": 3
   },
   "file_extension": ".py",
   "mimetype": "text/x-python",
   "name": "python",
   "nbconvert_exporter": "python",
   "pygments_lexer": "ipython3",
   "version": "3.10.14"
  },
  "papermill": {
   "default_parameters": {},
   "duration": 964.261182,
   "end_time": "2024-11-30T13:05:22.654152",
   "environment_variables": {},
   "exception": null,
   "input_path": "__notebook__.ipynb",
   "output_path": "__notebook__.ipynb",
   "parameters": {},
   "start_time": "2024-11-30T12:49:18.392970",
   "version": "2.6.0"
  }
 },
 "nbformat": 4,
 "nbformat_minor": 5
}
