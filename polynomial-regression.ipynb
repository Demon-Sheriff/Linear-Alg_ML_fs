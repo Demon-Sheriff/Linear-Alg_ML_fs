{
 "cells": [
  {
   "cell_type": "code",
   "execution_count": 1,
   "id": "de33962b",
   "metadata": {
    "_cell_guid": "b1076dfc-b9ad-4769-8c92-a6c4dae69d19",
    "_uuid": "8f2839f25d086af736a60e9eeb907d3b93b6e0e5",
    "execution": {
     "iopub.execute_input": "2024-11-20T05:39:20.210726Z",
     "iopub.status.busy": "2024-11-20T05:39:20.210329Z",
     "iopub.status.idle": "2024-11-20T05:39:21.169699Z",
     "shell.execute_reply": "2024-11-20T05:39:21.168389Z"
    },
    "papermill": {
     "duration": 0.966585,
     "end_time": "2024-11-20T05:39:21.171982",
     "exception": false,
     "start_time": "2024-11-20T05:39:20.205397",
     "status": "completed"
    },
    "tags": []
   },
   "outputs": [
    {
     "name": "stdout",
     "output_type": "stream",
     "text": [
      "[]\n"
     ]
    }
   ],
   "source": [
    "# This Python 3 environment comes with many helpful analytics libraries installed\n",
    "# It is defined by the kaggle/python Docker image: https://github.com/kaggle/docker-python\n",
    "# For example, here's several helpful packages to load\n",
    "\n",
    "import numpy as np # linear algebra\n",
    "import pandas as pd # data processing, CSV file I/O (e.g. pd.read_csv)\n",
    "\n",
    "# Input data files are available in the read-only \"../input/\" directory\n",
    "# For example, running this (by clicking run or pressing Shift+Enter) will list all files under the input directory\n",
    "\n",
    "import os\n",
    "for dirname, _, filenames in os.walk('/kaggle/input'):\n",
    "    for filename in filenames:\n",
    "        print(os.path.join(dirname, filename))\n",
    "\n",
    "# You can write up to 20GB to the current directory (/kaggle/working/) that gets preserved as output when you create a version using \"Save & Run All\" \n",
    "# You can also write temporary files to /kaggle/temp/, but they won't be saved outside of the current session\n",
    "\n",
    "print(os.listdir('/kaggle/input'))"
   ]
  },
  {
   "cell_type": "code",
   "execution_count": 2,
   "id": "19483639",
   "metadata": {
    "execution": {
     "iopub.execute_input": "2024-11-20T05:39:21.179972Z",
     "iopub.status.busy": "2024-11-20T05:39:21.179434Z",
     "iopub.status.idle": "2024-11-20T05:39:22.974067Z",
     "shell.execute_reply": "2024-11-20T05:39:22.972863Z"
    },
    "papermill": {
     "duration": 1.801261,
     "end_time": "2024-11-20T05:39:22.976600",
     "exception": false,
     "start_time": "2024-11-20T05:39:21.175339",
     "status": "completed"
    },
    "tags": []
   },
   "outputs": [],
   "source": [
    "import seaborn as sns\n",
    "import matplotlib.pyplot as plt"
   ]
  },
  {
   "cell_type": "code",
   "execution_count": 3,
   "id": "2c10ed0c",
   "metadata": {
    "execution": {
     "iopub.execute_input": "2024-11-20T05:39:22.984192Z",
     "iopub.status.busy": "2024-11-20T05:39:22.983627Z",
     "iopub.status.idle": "2024-11-20T05:39:22.989619Z",
     "shell.execute_reply": "2024-11-20T05:39:22.988352Z"
    },
    "papermill": {
     "duration": 0.012474,
     "end_time": "2024-11-20T05:39:22.992028",
     "exception": false,
     "start_time": "2024-11-20T05:39:22.979554",
     "status": "completed"
    },
    "tags": []
   },
   "outputs": [],
   "source": [
    "m = 100\n",
    "X = 6 * np.random.rand(m, 1) - 3\n",
    "y = 0.5 * X**2 + X + 2 + np.random.randn(m, 1)"
   ]
  },
  {
   "cell_type": "code",
   "execution_count": 4,
   "id": "e30343d5",
   "metadata": {
    "execution": {
     "iopub.execute_input": "2024-11-20T05:39:22.999676Z",
     "iopub.status.busy": "2024-11-20T05:39:22.999022Z",
     "iopub.status.idle": "2024-11-20T05:39:23.243605Z",
     "shell.execute_reply": "2024-11-20T05:39:23.242292Z"
    },
    "papermill": {
     "duration": 0.250894,
     "end_time": "2024-11-20T05:39:23.245747",
     "exception": false,
     "start_time": "2024-11-20T05:39:22.994853",
     "status": "completed"
    },
    "tags": []
   },
   "outputs": [
    {
     "data": {
      "text/plain": [
       "<matplotlib.collections.PathCollection at 0x7df473fe5db0>"
      ]
     },
     "execution_count": 4,
     "metadata": {},
     "output_type": "execute_result"
    },
    {
     "data": {
      "image/png": "[encoded data removed]",
      "text/plain": [
       "<Figure size 640x480 with 1 Axes>"
      ]
     },
     "metadata": {},
     "output_type": "display_data"
    }
   ],
   "source": [
    "plt.scatter(X, y, color='blue', label='data points', alpha=0.7)"
   ]
  },
  {
   "cell_type": "code",
   "execution_count": 5,
   "id": "3ff0a231",
   "metadata": {
    "execution": {
     "iopub.execute_input": "2024-11-20T05:39:23.253736Z",
     "iopub.status.busy": "2024-11-20T05:39:23.253352Z",
     "iopub.status.idle": "2024-11-20T05:39:23.432884Z",
     "shell.execute_reply": "2024-11-20T05:39:23.431512Z"
    },
    "papermill": {
     "duration": 0.186801,
     "end_time": "2024-11-20T05:39:23.435833",
     "exception": false,
     "start_time": "2024-11-20T05:39:23.249032",
     "status": "completed"
    },
    "tags": []
   },
   "outputs": [],
   "source": [
    "from sklearn.preprocessing import PolynomialFeatures\n",
    "poly_features = PolynomialFeatures(degree=2, include_bias=False)\n",
    "X_poly = poly_features.fit_transform(X)"
   ]
  },
  {
   "cell_type": "code",
   "execution_count": 6,
   "id": "5c887baf",
   "metadata": {
    "execution": {
     "iopub.execute_input": "2024-11-20T05:39:23.444244Z",
     "iopub.status.busy": "2024-11-20T05:39:23.443792Z",
     "iopub.status.idle": "2024-11-20T05:39:23.682904Z",
     "shell.execute_reply": "2024-11-20T05:39:23.681564Z"
    },
    "papermill": {
     "duration": 0.246126,
     "end_time": "2024-11-20T05:39:23.685361",
     "exception": false,
     "start_time": "2024-11-20T05:39:23.439235",
     "status": "completed"
    },
    "tags": []
   },
   "outputs": [
    {
     "data": {
      "text/html": [
       "<style>#sk-container-id-1 {color: black;background-color: white;}#sk-container-id-1 pre{padding: 0;}#sk-container-id-1 div.sk-toggleable {background-color: white;}#sk-container-id-1 label.sk-toggleable__label {cursor: pointer;display: block;width: 100%;margin-bottom: 0;padding: 0.3em;box-sizing: border-box;text-align: center;}#sk-container-id-1 label.sk-toggleable__label-arrow:before {content: \"▸\";float: left;margin-right: 0.25em;color: #696969;}#sk-container-id-1 label.sk-toggleable__label-arrow:hover:before {color: black;}#sk-container-id-1 div.sk-estimator:hover label.sk-toggleable__label-arrow:before {color: black;}#sk-container-id-1 div.sk-toggleable__content {max-height: 0;max-width: 0;overflow: hidden;text-align: left;background-color: #f0f8ff;}#sk-container-id-1 div.sk-toggleable__content pre {margin: 0.2em;color: black;border-radius: 0.25em;background-color: #f0f8ff;}#sk-container-id-1 input.sk-toggleable__control:checked~div.sk-toggleable__content {max-height: 200px;max-width: 100%;overflow: auto;}#sk-container-id-1 input.sk-toggleable__control:checked~label.sk-toggleable__label-arrow:before {content: \"▾\";}#sk-container-id-1 div.sk-estimator input.sk-toggleable__control:checked~label.sk-toggleable__label {background-color: #d4ebff;}#sk-container-id-1 div.sk-label input.sk-toggleable__control:checked~label.sk-toggleable__label {background-color: #d4ebff;}#sk-container-id-1 input.sk-hidden--visually {border: 0;clip: rect(1px 1px 1px 1px);clip: rect(1px, 1px, 1px, 1px);height: 1px;margin: -1px;overflow: hidden;padding: 0;position: absolute;width: 1px;}#sk-container-id-1 div.sk-estimator {font-family: monospace;background-color: #f0f8ff;border: 1px dotted black;border-radius: 0.25em;box-sizing: border-box;margin-bottom: 0.5em;}#sk-container-id-1 div.sk-estimator:hover {background-color: #d4ebff;}#sk-container-id-1 div.sk-parallel-item::after {content: \"\";width: 100%;border-bottom: 1px solid gray;flex-grow: 1;}#sk-container-id-1 div.sk-label:hover label.sk-toggleable__label {background-color: #d4ebff;}#sk-container-id-1 div.sk-serial::before {content: \"\";position: absolute;border-left: 1px solid gray;box-sizing: border-box;top: 0;bottom: 0;left: 50%;z-index: 0;}#sk-container-id-1 div.sk-serial {display: flex;flex-direction: column;align-items: center;background-color: white;padding-right: 0.2em;padding-left: 0.2em;position: relative;}#sk-container-id-1 div.sk-item {position: relative;z-index: 1;}#sk-container-id-1 div.sk-parallel {display: flex;align-items: stretch;justify-content: center;background-color: white;position: relative;}#sk-container-id-1 div.sk-item::before, #sk-container-id-1 div.sk-parallel-item::before {content: \"\";position: absolute;border-left: 1px solid gray;box-sizing: border-box;top: 0;bottom: 0;left: 50%;z-index: -1;}#sk-container-id-1 div.sk-parallel-item {display: flex;flex-direction: column;z-index: 1;position: relative;background-color: white;}#sk-container-id-1 div.sk-parallel-item:first-child::after {align-self: flex-end;width: 50%;}#sk-container-id-1 div.sk-parallel-item:last-child::after {align-self: flex-start;width: 50%;}#sk-container-id-1 div.sk-parallel-item:only-child::after {width: 0;}#sk-container-id-1 div.sk-dashed-wrapped {border: 1px dashed gray;margin: 0 0.4em 0.5em 0.4em;box-sizing: border-box;padding-bottom: 0.4em;background-color: white;}#sk-container-id-1 div.sk-label label {font-family: monospace;font-weight: bold;display: inline-block;line-height: 1.2em;}#sk-container-id-1 div.sk-label-container {text-align: center;}#sk-container-id-1 div.sk-container {/* jupyter's `normalize.less` sets `[hidden] { display: none; }` but bootstrap.min.css set `[hidden] { display: none !important; }` so we also need the `!important` here to be able to override the default hidden behavior on the sphinx rendered scikit-learn.org. See: https://github.com/scikit-learn/scikit-learn/issues/21755 */display: inline-block !important;position: relative;}#sk-container-id-1 div.sk-text-repr-fallback {display: none;}</style><div id=\"sk-container-id-1\" class=\"sk-top-container\"><div class=\"sk-text-repr-fallback\"><pre>LinearRegression()</pre><b>In a Jupyter environment, please rerun this cell to show the HTML representation or trust the notebook. <br />On GitHub, the HTML representation is unable to render, please try loading this page with nbviewer.org.</b></div><div class=\"sk-container\" hidden><div class=\"sk-item\"><div class=\"sk-estimator sk-toggleable\"><input class=\"sk-toggleable__control sk-hidden--visually\" id=\"sk-estimator-id-1\" type=\"checkbox\" checked><label for=\"sk-estimator-id-1\" class=\"sk-toggleable__label sk-toggleable__label-arrow\">LinearRegression</label><div class=\"sk-toggleable__content\"><pre>LinearRegression()</pre></div></div></div></div></div>"
      ],
      "text/plain": [
       "LinearRegression()"
      ]
     },
     "execution_count": 6,
     "metadata": {},
     "output_type": "execute_result"
    }
   ],
   "source": [
    "from sklearn.linear_model import LinearRegression\n",
    "lin_reg = LinearRegression()\n",
    "lin_reg.fit(X_poly, y)"
   ]
  },
  {
   "cell_type": "code",
   "execution_count": 7,
   "id": "a5ed9cd1",
   "metadata": {
    "execution": {
     "iopub.execute_input": "2024-11-20T05:39:23.693930Z",
     "iopub.status.busy": "2024-11-20T05:39:23.693522Z",
     "iopub.status.idle": "2024-11-20T05:39:23.698961Z",
     "shell.execute_reply": "2024-11-20T05:39:23.697734Z"
    },
    "papermill": {
     "duration": 0.012292,
     "end_time": "2024-11-20T05:39:23.701145",
     "exception": false,
     "start_time": "2024-11-20T05:39:23.688853",
     "status": "completed"
    },
    "tags": []
   },
   "outputs": [],
   "source": [
    "lin_reg.intercept_, lin_reg.coef_\n",
    "\n",
    "y_pred = lin_reg.predict(X_poly)"
   ]
  },
  {
   "cell_type": "code",
   "execution_count": 8,
   "id": "5e679f60",
   "metadata": {
    "execution": {
     "iopub.execute_input": "2024-11-20T05:39:23.709724Z",
     "iopub.status.busy": "2024-11-20T05:39:23.709329Z",
     "iopub.status.idle": "2024-11-20T05:39:23.971387Z",
     "shell.execute_reply": "2024-11-20T05:39:23.970148Z"
    },
    "papermill": {
     "duration": 0.269287,
     "end_time": "2024-11-20T05:39:23.973888",
     "exception": false,
     "start_time": "2024-11-20T05:39:23.704601",
     "status": "completed"
    },
    "tags": []
   },
   "outputs": [
    {
     "data": {
      "text/plain": [
       "[<matplotlib.lines.Line2D at 0x7df470ae2a70>]"
      ]
     },
     "execution_count": 8,
     "metadata": {},
     "output_type": "execute_result"
    },
    {
     "data": {
      "image/png": "[encoded data removed]",
      "text/plain": [
       "<Figure size 640x480 with 1 Axes>"
      ]
     },
     "metadata": {},
     "output_type": "display_data"
    }
   ],
   "source": [
    "plt.scatter(X, y, color='blue')\n",
    "# plt.plot(X, y_pred, color='red', label='Polynomial Regression')\n",
    "X_range = np.linspace(min(X), max(X), 100).reshape(-1, 1)  # Smooth curve data\n",
    "X_range_poly = poly_features.transform(X_range)  # Transform X_range for polynomial regression\n",
    "y_range_pred = lin_reg.predict(X_range_poly)  # Get predictions for smooth X_range\n",
    "\n",
    "# Plot the polynomial regression curve\n",
    "plt.plot(X_range, y_range_pred, color='red', label='Polynomial Regression Curve', linewidth=4)"
   ]
  },
  {
   "cell_type": "code",
   "execution_count": null,
   "id": "7e1a945c",
   "metadata": {
    "papermill": {
     "duration": 0.003701,
     "end_time": "2024-11-20T05:39:23.982010",
     "exception": false,
     "start_time": "2024-11-20T05:39:23.978309",
     "status": "completed"
    },
    "tags": []
   },
   "outputs": [],
   "source": []
  }
 ],
 "metadata": {
  "kaggle": {
   "accelerator": "none",
   "dataSources": [],
   "dockerImageVersionId": 30786,
   "isGpuEnabled": false,
   "isInternetEnabled": true,
   "language": "python",
   "sourceType": "notebook"
  },
  "kernelspec": {
   "display_name": "Python 3",
   "language": "python",
   "name": "python3"
  },
  "language_info": {
   "codemirror_mode": {
    "name": "ipython",
    "version": 3
   },
   "file_extension": ".py",
   "mimetype": "text/x-python",
   "name": "python",
   "nbconvert_exporter": "python",
   "pygments_lexer": "ipython3",
   "version": "3.10.14"
  },
  "papermill": {
   "default_parameters": {},
   "duration": 7.326499,
   "end_time": "2024-11-20T05:39:24.708180",
   "environment_variables": {},
   "exception": null,
   "input_path": "__notebook__.ipynb",
   "output_path": "__notebook__.ipynb",
   "parameters": {},
   "start_time": "2024-11-20T05:39:17.381681",
   "version": "2.6.0"
  }
 },
 "nbformat": 4,
 "nbformat_minor": 5
}
